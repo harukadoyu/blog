{
 "cells": [
  {
   "cell_type": "markdown",
   "id": "5e48bec4-9433-40e9-b65a-26e7f1a6001a",
   "metadata": {},
   "source": [
    "# Creating optimizers from scratch"
   ]
  },
  {
   "cell_type": "code",
   "execution_count": 1,
   "id": "b0dc522e-94b6-4998-9b63-a9dfc1e7ccfa",
   "metadata": {},
   "outputs": [],
   "source": [
    "from fastai.vision.all import *"
   ]
  },
  {
   "cell_type": "markdown",
   "id": "403a28b3-630f-4759-8854-850dbf94a935",
   "metadata": {},
   "source": [
    "## Data creation"
   ]
  },
  {
   "cell_type": "code",
   "execution_count": 3,
   "id": "53d8c36e-7ff1-45d6-875c-f63ae6f030e2",
   "metadata": {},
   "outputs": [],
   "source": [
    "path = untar_data(URLs.IMAGENETTE_160)\n",
    "Path.BASE_PATH = path"
   ]
  },
  {
   "cell_type": "code",
   "execution_count": 7,
   "id": "eb73511d-8fa5-4993-8663-cbca459fd819",
   "metadata": {},
   "outputs": [
    {
     "data": {
      "text/plain": [
       "((#4) [Path('train'),Path('val'),Path('.DS_Store'),Path('noisy_imagenette.csv')],\n",
       " (#11) [Path('train/n02102040'),Path('train/n03445777'),Path('train/n03394916'),Path('train/n03425413'),Path('train/n03000684'),Path('train/n01440764'),Path('train/n03888257'),Path('train/n03417042'),Path('train/.DS_Store'),Path('train/n02979186')...])"
      ]
     },
     "execution_count": 7,
     "metadata": {},
     "output_type": "execute_result"
    }
   ],
   "source": [
    "path.ls(), (path/'train').ls()"
   ]
  },
  {
   "cell_type": "code",
   "execution_count": 12,
   "id": "47d79789-887a-43e5-9a8f-5e5f3992088a",
   "metadata": {},
   "outputs": [],
   "source": [
    "dls = DataBlock(\n",
    "    blocks=(ImageBlock, CategoryBlock),\n",
    "    get_items=get_image_files,\n",
    "    splitter=GrandparentSplitter(valid_name='val'),\n",
    "    get_y=parent_label,\n",
    "    item_tfms=Resize(160),\n",
    "    batch_tfms=aug_transforms(min_scale=0.75, size=128)\n",
    ").dataloaders(path, bs=128)\n",
    "\n",
    "def get_learner(**kwargs):\n",
    "    return vision_learner(dls, resnet34, pretrained=False,\n",
    "                    metrics=accuracy, **kwargs).to_fp16()"
   ]
  },
  {
   "cell_type": "code",
   "execution_count": 14,
   "id": "703145c0-a9e9-4fce-8223-698151faf022",
   "metadata": {},
   "outputs": [
    {
     "data": {
      "text/html": [
       "\n",
       "<style>\n",
       "    /* Turns off some styling */\n",
       "    progress {\n",
       "        /* gets rid of default border in Firefox and Opera. */\n",
       "        border: none;\n",
       "        /* Needs to be in here for Safari polyfill so background images work as expected. */\n",
       "        background-size: auto;\n",
       "    }\n",
       "    .progress-bar-interrupted, .progress-bar-interrupted::-webkit-progress-bar {\n",
       "        background: #F44336;\n",
       "    }\n",
       "</style>\n"
      ],
      "text/plain": [
       "<IPython.core.display.HTML object>"
      ]
     },
     "metadata": {},
     "output_type": "display_data"
    },
    {
     "data": {
      "text/html": [],
      "text/plain": [
       "<IPython.core.display.HTML object>"
      ]
     },
     "metadata": {},
     "output_type": "display_data"
    },
    {
     "data": {
      "text/plain": [
       "SuggestedLRs(valley=0.0004786300996784121)"
      ]
     },
     "execution_count": 14,
     "metadata": {},
     "output_type": "execute_result"
    },
    {
     "data": {
      "image/png": "[encoded data removed]",
      "text/plain": [
       "<Figure size 432x288 with 1 Axes>"
      ]
     },
     "metadata": {
      "needs_background": "light"
     },
     "output_type": "display_data"
    }
   ],
   "source": [
    "learn = get_learner()\n",
    "learn.lr_find() #0.005"
   ]
  },
  {
   "cell_type": "code",
   "execution_count": 19,
   "id": "e4168053-c7fe-41f9-9ebf-fa5c425b3afe",
   "metadata": {},
   "outputs": [
    {
     "data": {
      "text/html": [
       "<h2 id=\"Optimizer\" class=\"doc_header\"><code>class</code> <code>Optimizer</code><a href=\"https://github.com/fastai/fastai/tree/master/fastai/optimizer.py#L95\" class=\"source_link\" style=\"float:right\">[source]</a></h2><blockquote><p><code>Optimizer</code>(<strong><code>params</code></strong>:<code>Tensor</code>, <strong><code>cbs</code></strong>:<code>list</code>, <strong><code>train_bn</code></strong>:<code>bool</code>=<em><code>True</code></em>, <strong>**<code>defaults</code></strong>) :: <code>_BaseOptimizer</code></p>\n",
       "</blockquote>\n",
       "<p>Base optimizer class for the fastai library, updating <code>params</code> with <code>cbs</code></p>\n",
       "<table>\n",
       "<thead><tr>\n",
       "<th></th>\n",
       "<th>Type</th>\n",
       "<th>Default</th>\n",
       "<th>Details</th>\n",
       "</tr>\n",
       "</thead>\n",
       "<tbody>\n",
       "<tr>\n",
       "<td><strong><code>params</code></strong></td>\n",
       "<td><code>Tensor</code></td>\n",
       "<td></td>\n",
       "<td>Parameters and hyper parameters</td>\n",
       "</tr>\n",
       "<tr>\n",
       "<td><strong><code>cbs</code></strong></td>\n",
       "<td><code>list</code></td>\n",
       "<td></td>\n",
       "<td><code>Optimizer</code> callbacks</td>\n",
       "</tr>\n",
       "<tr>\n",
       "<td><strong><code>train_bn</code></strong></td>\n",
       "<td><code>bool</code></td>\n",
       "<td><code>True</code></td>\n",
       "<td>Batch normalization is always trained</td>\n",
       "</tr>\n",
       "<tr>\n",
       "<td><strong><code>defaults</code></strong></td>\n",
       "<td></td>\n",
       "<td></td>\n",
       "<td><em>No Content</em></td>\n",
       "</tr>\n",
       "</tbody>\n",
       "</table>\n",
       "<p><a href=\"https://docs.fast.ai/optimizer#Optimizer\" target=\"_blank\" rel=\"noreferrer noopener\">Show in docs</a></p>\n",
       "<style>\n",
       "    table { border-collapse: collapse; border:thin solid #dddddd; margin: 25px 0px; ; }\n",
       "    table tr:first-child { background-color: #FFF}\n",
       "    table thead th { background-color: #eee; color: #000; text-align: center;}\n",
       "    tr, th, td { border: 1px solid #ccc; border-width: 1px 0 0 1px; border-collapse: collapse;\n",
       "    padding: 5px; }\n",
       "    tr:nth-child(even) {background: #eee;}</style>"
      ]
     },
     "metadata": {},
     "output_type": "display_data"
    }
   ],
   "source": [
    "doc(Optimizer)"
   ]
  },
  {
   "cell_type": "markdown",
   "id": "d6cf0450-9d34-4b88-975a-d282b17ed1c6",
   "metadata": {},
   "source": [
    "## SGD"
   ]
  },
  {
   "cell_type": "code",
   "execution_count": 22,
   "id": "f4364c97-8790-494b-be1d-5d65766c1ca3",
   "metadata": {},
   "outputs": [
    {
     "data": {
      "text/html": [
       "\n",
       "<style>\n",
       "    /* Turns off some styling */\n",
       "    progress {\n",
       "        /* gets rid of default border in Firefox and Opera. */\n",
       "        border: none;\n",
       "        /* Needs to be in here for Safari polyfill so background images work as expected. */\n",
       "        background-size: auto;\n",
       "    }\n",
       "    .progress-bar-interrupted, .progress-bar-interrupted::-webkit-progress-bar {\n",
       "        background: #F44336;\n",
       "    }\n",
       "</style>\n"
      ],
      "text/plain": [
       "<IPython.core.display.HTML object>"
      ]
     },
     "metadata": {},
     "output_type": "display_data"
    },
    {
     "data": {
      "text/html": [
       "<table border=\"1\" class=\"dataframe\">\n",
       "  <thead>\n",
       "    <tr style=\"text-align: left;\">\n",
       "      <th>epoch</th>\n",
       "      <th>train_loss</th>\n",
       "      <th>valid_loss</th>\n",
       "      <th>accuracy</th>\n",
       "      <th>time</th>\n",
       "    </tr>\n",
       "  </thead>\n",
       "  <tbody>\n",
       "    <tr>\n",
       "      <td>0</td>\n",
       "      <td>3.290718</td>\n",
       "      <td>2.880478</td>\n",
       "      <td>0.178089</td>\n",
       "      <td>00:11</td>\n",
       "    </tr>\n",
       "    <tr>\n",
       "      <td>1</td>\n",
       "      <td>2.892906</td>\n",
       "      <td>2.131830</td>\n",
       "      <td>0.276943</td>\n",
       "      <td>00:11</td>\n",
       "    </tr>\n",
       "    <tr>\n",
       "      <td>2</td>\n",
       "      <td>2.670070</td>\n",
       "      <td>2.015708</td>\n",
       "      <td>0.312102</td>\n",
       "      <td>00:11</td>\n",
       "    </tr>\n",
       "  </tbody>\n",
       "</table>"
      ],
      "text/plain": [
       "<IPython.core.display.HTML object>"
      ]
     },
     "metadata": {},
     "output_type": "display_data"
    }
   ],
   "source": [
    "learn = get_learner(opt_func=SGD)\n",
    "learn.fit_one_cycle(3, 0.005)"
   ]
  },
  {
   "cell_type": "markdown",
   "id": "de7ba0a5-750b-4f41-baf4-a15d1aae6243",
   "metadata": {},
   "source": [
    "## Momentum"
   ]
  },
  {
   "cell_type": "code",
   "execution_count": 55,
   "id": "f2a5930a-5635-4915-9ab3-dbb04b9fa210",
   "metadata": {},
   "outputs": [
    {
     "data": {
      "text/html": [
       "\n",
       "<style>\n",
       "    /* Turns off some styling */\n",
       "    progress {\n",
       "        /* gets rid of default border in Firefox and Opera. */\n",
       "        border: none;\n",
       "        /* Needs to be in here for Safari polyfill so background images work as expected. */\n",
       "        background-size: auto;\n",
       "    }\n",
       "    .progress-bar-interrupted, .progress-bar-interrupted::-webkit-progress-bar {\n",
       "        background: #F44336;\n",
       "    }\n",
       "</style>\n"
      ],
      "text/plain": [
       "<IPython.core.display.HTML object>"
      ]
     },
     "metadata": {},
     "output_type": "display_data"
    },
    {
     "data": {
      "text/html": [
       "<table border=\"1\" class=\"dataframe\">\n",
       "  <thead>\n",
       "    <tr style=\"text-align: left;\">\n",
       "      <th>epoch</th>\n",
       "      <th>train_loss</th>\n",
       "      <th>valid_loss</th>\n",
       "      <th>accuracy</th>\n",
       "      <th>time</th>\n",
       "    </tr>\n",
       "  </thead>\n",
       "  <tbody>\n",
       "    <tr>\n",
       "      <td>0</td>\n",
       "      <td>3.628242</td>\n",
       "      <td>11.389930</td>\n",
       "      <td>0.081529</td>\n",
       "      <td>00:12</td>\n",
       "    </tr>\n",
       "    <tr>\n",
       "      <td>1</td>\n",
       "      <td>3.498630</td>\n",
       "      <td>2.611330</td>\n",
       "      <td>0.137580</td>\n",
       "      <td>00:12</td>\n",
       "    </tr>\n",
       "    <tr>\n",
       "      <td>2</td>\n",
       "      <td>3.420885</td>\n",
       "      <td>2.578982</td>\n",
       "      <td>0.152102</td>\n",
       "      <td>00:12</td>\n",
       "    </tr>\n",
       "  </tbody>\n",
       "</table>"
      ],
      "text/plain": [
       "<IPython.core.display.HTML object>"
      ]
     },
     "metadata": {},
     "output_type": "display_data"
    }
   ],
   "source": [
    "def momentum_step(p, lr, mom, grad_av=0, **kwargs):\n",
    "    grad_av = mom*grad_av + (1 - mom)*p.grad.data\n",
    "    p.data -= lr*grad_av\n",
    "    \n",
    "learn = get_learner(opt_func=partial(Optimizer, cbs=momentum_step, mom=0.9))\n",
    "learn.fit_one_cycle(3, 0.005)"
   ]
  },
  {
   "cell_type": "code",
   "execution_count": 46,
   "id": "0f3027ac-c110-4e00-91a4-3c183106030b",
   "metadata": {},
   "outputs": [
    {
     "data": {
      "text/html": [
       "\n",
       "<style>\n",
       "    /* Turns off some styling */\n",
       "    progress {\n",
       "        /* gets rid of default border in Firefox and Opera. */\n",
       "        border: none;\n",
       "        /* Needs to be in here for Safari polyfill so background images work as expected. */\n",
       "        background-size: auto;\n",
       "    }\n",
       "    .progress-bar-interrupted, .progress-bar-interrupted::-webkit-progress-bar {\n",
       "        background: #F44336;\n",
       "    }\n",
       "</style>\n"
      ],
      "text/plain": [
       "<IPython.core.display.HTML object>"
      ]
     },
     "metadata": {},
     "output_type": "display_data"
    },
    {
     "data": {
      "text/html": [
       "<table border=\"1\" class=\"dataframe\">\n",
       "  <thead>\n",
       "    <tr style=\"text-align: left;\">\n",
       "      <th>epoch</th>\n",
       "      <th>train_loss</th>\n",
       "      <th>valid_loss</th>\n",
       "      <th>accuracy</th>\n",
       "      <th>time</th>\n",
       "    </tr>\n",
       "  </thead>\n",
       "  <tbody>\n",
       "    <tr>\n",
       "      <td>0</td>\n",
       "      <td>3.243884</td>\n",
       "      <td>3.115826</td>\n",
       "      <td>0.203312</td>\n",
       "      <td>00:12</td>\n",
       "    </tr>\n",
       "    <tr>\n",
       "      <td>1</td>\n",
       "      <td>2.853906</td>\n",
       "      <td>2.123694</td>\n",
       "      <td>0.278471</td>\n",
       "      <td>00:12</td>\n",
       "    </tr>\n",
       "    <tr>\n",
       "      <td>2</td>\n",
       "      <td>2.683579</td>\n",
       "      <td>2.008859</td>\n",
       "      <td>0.310064</td>\n",
       "      <td>00:12</td>\n",
       "    </tr>\n",
       "  </tbody>\n",
       "</table>"
      ],
      "text/plain": [
       "<IPython.core.display.HTML object>"
      ]
     },
     "metadata": {},
     "output_type": "display_data"
    }
   ],
   "source": [
    "# without 1-mom\n",
    "def momentum_step(p, lr, mom, grad_av=0, **kwargs):\n",
    "    grad_av = mom*grad_av + p.grad.data\n",
    "    p.data -= lr*grad_av\n",
    "    \n",
    "learn = get_learner(opt_func=partial(Optimizer, cbs=momentum_step, mom=0.9))\n",
    "learn.fit_one_cycle(3, 0.005)"
   ]
  },
  {
   "cell_type": "markdown",
   "id": "f6a81118-8617-4df1-a649-90eadf543a43",
   "metadata": {},
   "source": [
    "## RMSProp"
   ]
  },
  {
   "cell_type": "code",
   "execution_count": 53,
   "id": "8bf9192e-70c0-477f-9226-9b3bef19e9ce",
   "metadata": {},
   "outputs": [
    {
     "data": {
      "text/html": [
       "\n",
       "<style>\n",
       "    /* Turns off some styling */\n",
       "    progress {\n",
       "        /* gets rid of default border in Firefox and Opera. */\n",
       "        border: none;\n",
       "        /* Needs to be in here for Safari polyfill so background images work as expected. */\n",
       "        background-size: auto;\n",
       "    }\n",
       "    .progress-bar-interrupted, .progress-bar-interrupted::-webkit-progress-bar {\n",
       "        background: #F44336;\n",
       "    }\n",
       "</style>\n"
      ],
      "text/plain": [
       "<IPython.core.display.HTML object>"
      ]
     },
     "metadata": {},
     "output_type": "display_data"
    },
    {
     "data": {
      "text/html": [
       "<table border=\"1\" class=\"dataframe\">\n",
       "  <thead>\n",
       "    <tr style=\"text-align: left;\">\n",
       "      <th>epoch</th>\n",
       "      <th>train_loss</th>\n",
       "      <th>valid_loss</th>\n",
       "      <th>accuracy</th>\n",
       "      <th>time</th>\n",
       "    </tr>\n",
       "  </thead>\n",
       "  <tbody>\n",
       "    <tr>\n",
       "      <td>0</td>\n",
       "      <td>4.388772</td>\n",
       "      <td>295.678040</td>\n",
       "      <td>0.112102</td>\n",
       "      <td>00:12</td>\n",
       "    </tr>\n",
       "    <tr>\n",
       "      <td>1</td>\n",
       "      <td>3.004055</td>\n",
       "      <td>2.490513</td>\n",
       "      <td>0.128153</td>\n",
       "      <td>00:12</td>\n",
       "    </tr>\n",
       "    <tr>\n",
       "      <td>2</td>\n",
       "      <td>2.443463</td>\n",
       "      <td>2.205627</td>\n",
       "      <td>0.178089</td>\n",
       "      <td>00:12</td>\n",
       "    </tr>\n",
       "  </tbody>\n",
       "</table>"
      ],
      "text/plain": [
       "<IPython.core.display.HTML object>"
      ]
     },
     "metadata": {},
     "output_type": "display_data"
    }
   ],
   "source": [
    "def rms_prop_step(p, lr, sqr_mom, eps, grad_sqr=0, **kwargs):\n",
    "    grad_sqr = sqr_mom*grad_sqr + (1-sqr_mom)*p.grad.data**2\n",
    "    p.data -= lr*p.grad.data/torch.sqrt(grad_sqr + eps)\n",
    "    \n",
    "learn = get_learner(opt_func=partial(Optimizer, cbs=rms_prop_step, sqr_mom=0.99, eps=1e-7))\n",
    "learn.fit_one_cycle(3, 0.005)"
   ]
  },
  {
   "cell_type": "code",
   "execution_count": 54,
   "id": "0cd0e513-6e61-4cf4-984d-875286496f24",
   "metadata": {},
   "outputs": [
    {
     "data": {
      "text/html": [
       "\n",
       "<style>\n",
       "    /* Turns off some styling */\n",
       "    progress {\n",
       "        /* gets rid of default border in Firefox and Opera. */\n",
       "        border: none;\n",
       "        /* Needs to be in here for Safari polyfill so background images work as expected. */\n",
       "        background-size: auto;\n",
       "    }\n",
       "    .progress-bar-interrupted, .progress-bar-interrupted::-webkit-progress-bar {\n",
       "        background: #F44336;\n",
       "    }\n",
       "</style>\n"
      ],
      "text/plain": [
       "<IPython.core.display.HTML object>"
      ]
     },
     "metadata": {},
     "output_type": "display_data"
    },
    {
     "data": {
      "text/html": [
       "<table border=\"1\" class=\"dataframe\">\n",
       "  <thead>\n",
       "    <tr style=\"text-align: left;\">\n",
       "      <th>epoch</th>\n",
       "      <th>train_loss</th>\n",
       "      <th>valid_loss</th>\n",
       "      <th>accuracy</th>\n",
       "      <th>time</th>\n",
       "    </tr>\n",
       "  </thead>\n",
       "  <tbody>\n",
       "    <tr>\n",
       "      <td>0</td>\n",
       "      <td>2.941177</td>\n",
       "      <td>5.653687</td>\n",
       "      <td>0.148790</td>\n",
       "      <td>00:12</td>\n",
       "    </tr>\n",
       "    <tr>\n",
       "      <td>1</td>\n",
       "      <td>2.300845</td>\n",
       "      <td>1.902648</td>\n",
       "      <td>0.339873</td>\n",
       "      <td>00:12</td>\n",
       "    </tr>\n",
       "    <tr>\n",
       "      <td>2</td>\n",
       "      <td>1.809556</td>\n",
       "      <td>1.471902</td>\n",
       "      <td>0.495541</td>\n",
       "      <td>00:12</td>\n",
       "    </tr>\n",
       "  </tbody>\n",
       "</table>"
      ],
      "text/plain": [
       "<IPython.core.display.HTML object>"
      ]
     },
     "metadata": {},
     "output_type": "display_data"
    }
   ],
   "source": [
    "# without 1-sqr_mom\n",
    "def rms_prop_step(p, lr, sqr_mom, eps, grad_sqr=0, **kwargs):\n",
    "    grad_sqr = sqr_mom*grad_sqr + p.grad.data**2\n",
    "    p.data -= lr*p.grad.data/torch.sqrt(grad_sqr + eps)\n",
    "    \n",
    "learn = get_learner(opt_func=partial(Optimizer, cbs=rms_prop_step, sqr_mom=0.99, eps=1e-7))\n",
    "learn.fit_one_cycle(3, 0.005)"
   ]
  },
  {
   "cell_type": "markdown",
   "id": "69e0a9b2-76c3-4f74-bc11-71ce179472df",
   "metadata": {},
   "source": [
    "## Adam"
   ]
  },
  {
   "cell_type": "code",
   "execution_count": 58,
   "id": "1eeb84fb-941a-4f01-96e6-d098d0cdde4a",
   "metadata": {},
   "outputs": [
    {
     "data": {
      "text/html": [
       "\n",
       "<style>\n",
       "    /* Turns off some styling */\n",
       "    progress {\n",
       "        /* gets rid of default border in Firefox and Opera. */\n",
       "        border: none;\n",
       "        /* Needs to be in here for Safari polyfill so background images work as expected. */\n",
       "        background-size: auto;\n",
       "    }\n",
       "    .progress-bar-interrupted, .progress-bar-interrupted::-webkit-progress-bar {\n",
       "        background: #F44336;\n",
       "    }\n",
       "</style>\n"
      ],
      "text/plain": [
       "<IPython.core.display.HTML object>"
      ]
     },
     "metadata": {},
     "output_type": "display_data"
    },
    {
     "data": {
      "text/html": [
       "<table border=\"1\" class=\"dataframe\">\n",
       "  <thead>\n",
       "    <tr style=\"text-align: left;\">\n",
       "      <th>epoch</th>\n",
       "      <th>train_loss</th>\n",
       "      <th>valid_loss</th>\n",
       "      <th>accuracy</th>\n",
       "      <th>time</th>\n",
       "    </tr>\n",
       "  </thead>\n",
       "  <tbody>\n",
       "    <tr>\n",
       "      <td>0</td>\n",
       "      <td>3.043078</td>\n",
       "      <td>419.097687</td>\n",
       "      <td>0.099873</td>\n",
       "      <td>00:13</td>\n",
       "    </tr>\n",
       "    <tr>\n",
       "      <td>1</td>\n",
       "      <td>2.397956</td>\n",
       "      <td>1.970937</td>\n",
       "      <td>0.287643</td>\n",
       "      <td>00:13</td>\n",
       "    </tr>\n",
       "    <tr>\n",
       "      <td>2</td>\n",
       "      <td>1.905926</td>\n",
       "      <td>1.587586</td>\n",
       "      <td>0.462930</td>\n",
       "      <td>00:13</td>\n",
       "    </tr>\n",
       "  </tbody>\n",
       "</table>"
      ],
      "text/plain": [
       "<IPython.core.display.HTML object>"
      ]
     },
     "metadata": {},
     "output_type": "display_data"
    }
   ],
   "source": [
    "def adam_step(p, lr, mom1, mom2, eps, grad_av=0, grad_sqr=0, i=0, **kwargs):\n",
    "    grad_av = mom1*grad_av + (1-mom1)*p.grad.data\n",
    "    norm_grad_av = grad_av/(1 - mom1*(i+1))\n",
    "    grad_sqr = mom2*grad_sqr + (1 - mom2)*p.grad.data**2\n",
    "    norm_grad_sqr = grad_sqr/(1 - mom2*(i+1))\n",
    "    i += 1\n",
    "    p.data -= lr*norm_grad_av/torch.sqrt(norm_grad_sqr + eps)\n",
    "    \n",
    "learn = get_learner(opt_func=partial(Optimizer, cbs=adam_step, mom1=0.9, mom2=0.99, eps=1e-7))\n",
    "learn.fit_one_cycle(3, 0.005)"
   ]
  },
  {
   "cell_type": "code",
   "execution_count": null,
   "id": "b944aba6-125d-49df-8732-eeb39f1c9f43",
   "metadata": {},
   "outputs": [],
   "source": []
  }
 ],
 "metadata": {
  "kernelspec": {
   "display_name": "Python 3 (ipykernel)",
   "language": "python",
   "name": "python3"
  },
  "language_info": {
   "codemirror_mode": {
    "name": "ipython",
    "version": 3
   },
   "file_extension": ".py",
   "mimetype": "text/x-python",
   "name": "python",
   "nbconvert_exporter": "python",
   "pygments_lexer": "ipython3",
   "version": "3.9.13"
  }
 },
 "nbformat": 4,
 "nbformat_minor": 5
}
