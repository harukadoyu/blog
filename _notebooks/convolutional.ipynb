{
 "cells": [
  {
   "cell_type": "code",
   "execution_count": 8,
   "id": "a7291dd4-10b6-4b43-b129-b40854e4b3e0",
   "metadata": {},
   "outputs": [],
   "source": [
    "from fastai.vision.all import *\n",
    "matplotlib.rc('image', cmap='Greys')"
   ]
  },
  {
   "cell_type": "code",
   "execution_count": 37,
   "id": "f20bb5ac-dc78-43a1-a08e-c2b654b6f892",
   "metadata": {},
   "outputs": [],
   "source": [
    "path = untar_data(URLs.MNIST_SAMPLE)\n",
    "Path.BASE_PATH = path"
   ]
  },
  {
   "cell_type": "code",
   "execution_count": 38,
   "id": "b226887f-db46-401f-8ba8-3e300ca58d50",
   "metadata": {},
   "outputs": [
    {
     "data": {
      "text/plain": [
       "(#3) [Path('train'),Path('labels.csv'),Path('valid')]"
      ]
     },
     "execution_count": 38,
     "metadata": {},
     "output_type": "execute_result"
    }
   ],
   "source": [
    "path.ls()"
   ]
  },
  {
   "cell_type": "code",
   "execution_count": 4,
   "id": "0a754af3-2c0b-4569-badf-bce3fbe66d51",
   "metadata": {},
   "outputs": [],
   "source": [
    "sample_edge = torch.tensor([[1, 1, 1],\n",
    "                            [0, 0, 0],\n",
    "                            [-1, -1, -1]])"
   ]
  },
  {
   "cell_type": "code",
   "execution_count": 9,
   "id": "6c661dc2-e689-40f9-b519-c58d34f55ef6",
   "metadata": {},
   "outputs": [
    {
     "data": {
      "text/plain": [
       "<AxesSubplot:>"
      ]
     },
     "execution_count": 9,
     "metadata": {},
     "output_type": "execute_result"
    },
    {
     "data": {
      "image/png": "[encoded data removed]",
      "text/plain": [
       "<Figure size 72x72 with 1 Axes>"
      ]
     },
     "metadata": {
      "needs_background": "light"
     },
     "output_type": "display_data"
    }
   ],
   "source": [
    "im = Image.open(path/'train'/'3'/'12.png')\n",
    "show_image(im)"
   ]
  },
  {
   "cell_type": "code",
   "execution_count": 15,
   "id": "1b26c124-bfc9-4ae9-b988-2ee72e21d50f",
   "metadata": {},
   "outputs": [
    {
     "data": {
      "text/plain": [
       "tensor([[  0,   0,   0,   0,   0,   0,   0,   0,   0,   0],\n",
       "        [  0,   0,   0,   0,   0,   0,   0,   0,   0,   0],\n",
       "        [  0,   0,   0,   0,   0,   0,   0,   0,   0,   0],\n",
       "        [  0,   0,   0,   0,   0,   0,   0,   0,   0,   0],\n",
       "        [  0,   0,   0,   0,   0,   0,   0,   0,   0,   0],\n",
       "        [  0,   0,   0,  12,  99,  91, 142, 155, 246, 182],\n",
       "        [  0,   0,   0, 138, 254, 254, 254, 254, 254, 254],\n",
       "        [  0,   0,   0, 220, 254, 254, 254, 235, 189, 189],\n",
       "        [  0,   0,   0,  35,  74,  35,  35,  25,   0,   0],\n",
       "        [  0,   0,   0,   0,   0,   0,   0,   0,   0,   0]], dtype=torch.uint8)"
      ]
     },
     "execution_count": 15,
     "metadata": {},
     "output_type": "execute_result"
    }
   ],
   "source": [
    "im = tensor(im)\n",
    "im[:10,:10]"
   ]
  },
  {
   "cell_type": "code",
   "execution_count": 23,
   "id": "2be11362-1a75-4f84-a20f-a7ad9badc4ab",
   "metadata": {},
   "outputs": [
    {
     "data": {
      "text/html": [
       "<style type=\"text/css\">\n",
       "#T_0a468_row0_col0, #T_0a468_row0_col1, #T_0a468_row0_col2, #T_0a468_row0_col3, #T_0a468_row0_col4, #T_0a468_row0_col5, #T_0a468_row0_col6, #T_0a468_row0_col7, #T_0a468_row0_col8, #T_0a468_row0_col9, #T_0a468_row0_col10, #T_0a468_row0_col11, #T_0a468_row0_col12, #T_0a468_row0_col13, #T_0a468_row0_col14, #T_0a468_row0_col15, #T_0a468_row0_col16, #T_0a468_row0_col17, #T_0a468_row0_col18, #T_0a468_row0_col19, #T_0a468_row0_col20, #T_0a468_row0_col21, #T_0a468_row0_col22, #T_0a468_row0_col23, #T_0a468_row0_col24, #T_0a468_row0_col25, #T_0a468_row0_col26, #T_0a468_row0_col27, #T_0a468_row1_col0, #T_0a468_row1_col1, #T_0a468_row1_col2, #T_0a468_row1_col3, #T_0a468_row1_col4, #T_0a468_row1_col5, #T_0a468_row1_col6, #T_0a468_row1_col7, #T_0a468_row1_col8, #T_0a468_row1_col9, #T_0a468_row1_col10, #T_0a468_row1_col11, #T_0a468_row1_col12, #T_0a468_row1_col13, #T_0a468_row1_col14, #T_0a468_row1_col15, #T_0a468_row1_col16, #T_0a468_row1_col17, #T_0a468_row1_col18, #T_0a468_row1_col19, #T_0a468_row1_col20, #T_0a468_row1_col21, #T_0a468_row1_col22, #T_0a468_row1_col23, #T_0a468_row1_col24, #T_0a468_row1_col25, #T_0a468_row1_col26, #T_0a468_row1_col27, #T_0a468_row2_col0, #T_0a468_row2_col1, #T_0a468_row2_col2, #T_0a468_row2_col3, #T_0a468_row2_col4, #T_0a468_row2_col5, #T_0a468_row2_col6, #T_0a468_row2_col7, #T_0a468_row2_col8, #T_0a468_row2_col9, #T_0a468_row2_col10, #T_0a468_row2_col11, #T_0a468_row2_col12, #T_0a468_row2_col13, #T_0a468_row2_col14, #T_0a468_row2_col15, #T_0a468_row2_col16, #T_0a468_row2_col17, #T_0a468_row2_col18, #T_0a468_row2_col19, #T_0a468_row2_col20, #T_0a468_row2_col21, #T_0a468_row2_col22, #T_0a468_row2_col23, #T_0a468_row2_col24, #T_0a468_row2_col25, #T_0a468_row2_col26, #T_0a468_row2_col27, #T_0a468_row3_col0, #T_0a468_row3_col1, #T_0a468_row3_col2, #T_0a468_row3_col3, #T_0a468_row3_col4, #T_0a468_row3_col5, #T_0a468_row3_col6, #T_0a468_row3_col7, #T_0a468_row3_col8, #T_0a468_row3_col9, #T_0a468_row3_col10, #T_0a468_row3_col11, #T_0a468_row3_col12, #T_0a468_row3_col13, #T_0a468_row3_col14, #T_0a468_row3_col15, #T_0a468_row3_col16, #T_0a468_row3_col17, #T_0a468_row3_col18, #T_0a468_row3_col19, #T_0a468_row3_col20, #T_0a468_row3_col21, #T_0a468_row3_col22, #T_0a468_row3_col23, #T_0a468_row3_col24, #T_0a468_row3_col25, #T_0a468_row3_col26, #T_0a468_row3_col27, #T_0a468_row4_col0, #T_0a468_row4_col1, #T_0a468_row4_col2, #T_0a468_row4_col3, #T_0a468_row4_col4, #T_0a468_row4_col5, #T_0a468_row4_col6, #T_0a468_row4_col7, #T_0a468_row4_col8, #T_0a468_row4_col9, #T_0a468_row4_col10, #T_0a468_row4_col11, #T_0a468_row4_col12, #T_0a468_row4_col13, #T_0a468_row4_col14, #T_0a468_row4_col15, #T_0a468_row4_col16, #T_0a468_row4_col17, #T_0a468_row4_col18, #T_0a468_row4_col19, #T_0a468_row4_col20, #T_0a468_row4_col21, #T_0a468_row4_col22, #T_0a468_row4_col23, #T_0a468_row4_col24, #T_0a468_row4_col25, #T_0a468_row4_col26, #T_0a468_row4_col27, #T_0a468_row5_col0, #T_0a468_row5_col1, #T_0a468_row5_col2, #T_0a468_row5_col16, #T_0a468_row5_col17, #T_0a468_row5_col18, #T_0a468_row5_col19, #T_0a468_row5_col20, #T_0a468_row5_col21, #T_0a468_row5_col22, #T_0a468_row5_col23, #T_0a468_row5_col24, #T_0a468_row5_col25, #T_0a468_row5_col26, #T_0a468_row5_col27, #T_0a468_row6_col0, #T_0a468_row6_col1, #T_0a468_row6_col2, #T_0a468_row6_col19, #T_0a468_row6_col20, #T_0a468_row6_col21, #T_0a468_row6_col22, #T_0a468_row6_col23, #T_0a468_row6_col24, #T_0a468_row6_col25, #T_0a468_row6_col26, #T_0a468_row6_col27, #T_0a468_row7_col0, #T_0a468_row7_col1, #T_0a468_row7_col2, #T_0a468_row7_col19, #T_0a468_row7_col20, #T_0a468_row7_col21, #T_0a468_row7_col22, #T_0a468_row7_col23, #T_0a468_row7_col24, #T_0a468_row7_col25, #T_0a468_row7_col26, #T_0a468_row7_col27, #T_0a468_row8_col0, #T_0a468_row8_col1, #T_0a468_row8_col2, #T_0a468_row8_col8, #T_0a468_row8_col9, #T_0a468_row8_col10, #T_0a468_row8_col11, #T_0a468_row8_col12, #T_0a468_row8_col13, #T_0a468_row8_col19, #T_0a468_row8_col20, #T_0a468_row8_col21, #T_0a468_row8_col22, #T_0a468_row8_col23, #T_0a468_row8_col24, #T_0a468_row8_col25, #T_0a468_row8_col26, #T_0a468_row8_col27, #T_0a468_row9_col0, #T_0a468_row9_col1, #T_0a468_row9_col2, #T_0a468_row9_col3, #T_0a468_row9_col4, #T_0a468_row9_col5, #T_0a468_row9_col6, #T_0a468_row9_col7, #T_0a468_row9_col8, #T_0a468_row9_col9, #T_0a468_row9_col10, #T_0a468_row9_col11, #T_0a468_row9_col12, #T_0a468_row9_col13, #T_0a468_row9_col19, #T_0a468_row9_col20, #T_0a468_row9_col21, #T_0a468_row9_col22, #T_0a468_row9_col23, #T_0a468_row9_col24, #T_0a468_row9_col25, #T_0a468_row9_col26, #T_0a468_row9_col27, #T_0a468_row10_col0, #T_0a468_row10_col1, #T_0a468_row10_col2, #T_0a468_row10_col3, #T_0a468_row10_col4, #T_0a468_row10_col5, #T_0a468_row10_col6, #T_0a468_row10_col7, #T_0a468_row10_col8, #T_0a468_row10_col9, #T_0a468_row10_col10, #T_0a468_row10_col11, #T_0a468_row10_col18, #T_0a468_row10_col19, #T_0a468_row10_col20, #T_0a468_row10_col21, #T_0a468_row10_col22, #T_0a468_row10_col23, #T_0a468_row10_col24, #T_0a468_row10_col25, #T_0a468_row10_col26, #T_0a468_row10_col27, #T_0a468_row11_col0, #T_0a468_row11_col1, #T_0a468_row11_col2, #T_0a468_row11_col3, #T_0a468_row11_col4, #T_0a468_row11_col5, #T_0a468_row11_col6, #T_0a468_row11_col7, #T_0a468_row11_col8, #T_0a468_row11_col9, #T_0a468_row11_col10, #T_0a468_row11_col18, #T_0a468_row11_col19, #T_0a468_row11_col20, #T_0a468_row11_col21, #T_0a468_row11_col22, #T_0a468_row11_col23, #T_0a468_row11_col24, #T_0a468_row11_col25, #T_0a468_row11_col26, #T_0a468_row11_col27, #T_0a468_row12_col0, #T_0a468_row12_col1, #T_0a468_row12_col2, #T_0a468_row12_col3, #T_0a468_row12_col4, #T_0a468_row12_col5, #T_0a468_row12_col6, #T_0a468_row12_col7, #T_0a468_row12_col8, #T_0a468_row12_col9, #T_0a468_row12_col18, #T_0a468_row12_col19, #T_0a468_row12_col20, #T_0a468_row12_col21, #T_0a468_row12_col22, #T_0a468_row12_col23, #T_0a468_row12_col24, #T_0a468_row12_col25, #T_0a468_row12_col26, #T_0a468_row12_col27, #T_0a468_row13_col0, #T_0a468_row13_col1, #T_0a468_row13_col2, #T_0a468_row13_col3, #T_0a468_row13_col4, #T_0a468_row13_col5, #T_0a468_row13_col6, #T_0a468_row13_col7, #T_0a468_row13_col8, #T_0a468_row13_col9, #T_0a468_row13_col20, #T_0a468_row13_col21, #T_0a468_row13_col22, #T_0a468_row13_col23, #T_0a468_row13_col24, #T_0a468_row13_col25, #T_0a468_row13_col26, #T_0a468_row13_col27, #T_0a468_row14_col0, #T_0a468_row14_col1, #T_0a468_row14_col2, #T_0a468_row14_col3, #T_0a468_row14_col4, #T_0a468_row14_col5, #T_0a468_row14_col6, #T_0a468_row14_col7, #T_0a468_row14_col8, #T_0a468_row14_col9, #T_0a468_row14_col22, #T_0a468_row14_col23, #T_0a468_row14_col24, #T_0a468_row14_col25, #T_0a468_row14_col26, #T_0a468_row14_col27, #T_0a468_row15_col0, #T_0a468_row15_col1, #T_0a468_row15_col2, #T_0a468_row15_col3, #T_0a468_row15_col4, #T_0a468_row15_col5, #T_0a468_row15_col6, #T_0a468_row15_col7, #T_0a468_row15_col8, #T_0a468_row15_col9, #T_0a468_row15_col10, #T_0a468_row15_col11, #T_0a468_row15_col23, #T_0a468_row15_col24, #T_0a468_row15_col25, #T_0a468_row15_col26, #T_0a468_row15_col27, #T_0a468_row16_col0, #T_0a468_row16_col1, #T_0a468_row16_col2, #T_0a468_row16_col3, #T_0a468_row16_col4, #T_0a468_row16_col5, #T_0a468_row16_col6, #T_0a468_row16_col7, #T_0a468_row16_col8, #T_0a468_row16_col9, #T_0a468_row16_col10, #T_0a468_row16_col11, #T_0a468_row16_col12, #T_0a468_row16_col13, #T_0a468_row16_col14, #T_0a468_row16_col15, #T_0a468_row16_col23, #T_0a468_row16_col24, #T_0a468_row16_col25, #T_0a468_row16_col26, #T_0a468_row16_col27, #T_0a468_row17_col0, #T_0a468_row17_col1, #T_0a468_row17_col2, #T_0a468_row17_col3, #T_0a468_row17_col4, #T_0a468_row17_col5, #T_0a468_row17_col6, #T_0a468_row17_col7, #T_0a468_row17_col8, #T_0a468_row17_col9, #T_0a468_row17_col10, #T_0a468_row17_col11, #T_0a468_row17_col12, #T_0a468_row17_col13, #T_0a468_row17_col14, #T_0a468_row17_col15, #T_0a468_row17_col16, #T_0a468_row17_col23, #T_0a468_row17_col24, #T_0a468_row17_col25, #T_0a468_row17_col26, #T_0a468_row17_col27, #T_0a468_row18_col0, #T_0a468_row18_col1, #T_0a468_row18_col2, #T_0a468_row18_col3, #T_0a468_row18_col4, #T_0a468_row18_col5, #T_0a468_row18_col6, #T_0a468_row18_col7, #T_0a468_row18_col8, #T_0a468_row18_col9, #T_0a468_row18_col10, #T_0a468_row18_col11, #T_0a468_row18_col12, #T_0a468_row18_col13, #T_0a468_row18_col14, #T_0a468_row18_col15, #T_0a468_row18_col16, #T_0a468_row18_col17, #T_0a468_row18_col23, #T_0a468_row18_col24, #T_0a468_row18_col25, #T_0a468_row18_col26, #T_0a468_row18_col27, #T_0a468_row19_col0, #T_0a468_row19_col1, #T_0a468_row19_col2, #T_0a468_row19_col3, #T_0a468_row19_col4, #T_0a468_row19_col5, #T_0a468_row19_col6, #T_0a468_row19_col7, #T_0a468_row19_col11, #T_0a468_row19_col12, #T_0a468_row19_col13, #T_0a468_row19_col14, #T_0a468_row19_col15, #T_0a468_row19_col16, #T_0a468_row19_col23, #T_0a468_row19_col24, #T_0a468_row19_col25, #T_0a468_row19_col26, #T_0a468_row19_col27, #T_0a468_row20_col0, #T_0a468_row20_col1, #T_0a468_row20_col2, #T_0a468_row20_col3, #T_0a468_row20_col4, #T_0a468_row20_col5, #T_0a468_row20_col6, #T_0a468_row20_col11, #T_0a468_row20_col12, #T_0a468_row20_col13, #T_0a468_row20_col14, #T_0a468_row20_col15, #T_0a468_row20_col22, #T_0a468_row20_col23, #T_0a468_row20_col24, #T_0a468_row20_col25, #T_0a468_row20_col26, #T_0a468_row20_col27, #T_0a468_row21_col0, #T_0a468_row21_col1, #T_0a468_row21_col2, #T_0a468_row21_col3, #T_0a468_row21_col4, #T_0a468_row21_col5, #T_0a468_row21_col6, #T_0a468_row21_col12, #T_0a468_row21_col13, #T_0a468_row21_col22, #T_0a468_row21_col23, #T_0a468_row21_col24, #T_0a468_row21_col25, #T_0a468_row21_col26, #T_0a468_row21_col27, #T_0a468_row22_col0, #T_0a468_row22_col1, #T_0a468_row22_col2, #T_0a468_row22_col3, #T_0a468_row22_col4, #T_0a468_row22_col5, #T_0a468_row22_col6, #T_0a468_row22_col21, #T_0a468_row22_col22, #T_0a468_row22_col23, #T_0a468_row22_col24, #T_0a468_row22_col25, #T_0a468_row22_col26, #T_0a468_row22_col27, #T_0a468_row23_col0, #T_0a468_row23_col1, #T_0a468_row23_col2, #T_0a468_row23_col3, #T_0a468_row23_col4, #T_0a468_row23_col5, #T_0a468_row23_col6, #T_0a468_row23_col20, #T_0a468_row23_col21, #T_0a468_row23_col22, #T_0a468_row23_col23, #T_0a468_row23_col24, #T_0a468_row23_col25, #T_0a468_row23_col26, #T_0a468_row23_col27, #T_0a468_row24_col0, #T_0a468_row24_col1, #T_0a468_row24_col2, #T_0a468_row24_col3, #T_0a468_row24_col4, #T_0a468_row24_col5, #T_0a468_row24_col6, #T_0a468_row24_col7, #T_0a468_row24_col18, #T_0a468_row24_col19, #T_0a468_row24_col20, #T_0a468_row24_col21, #T_0a468_row24_col22, #T_0a468_row24_col23, #T_0a468_row24_col24, #T_0a468_row24_col25, #T_0a468_row24_col26, #T_0a468_row24_col27, #T_0a468_row25_col0, #T_0a468_row25_col1, #T_0a468_row25_col2, #T_0a468_row25_col3, #T_0a468_row25_col4, #T_0a468_row25_col5, #T_0a468_row25_col6, #T_0a468_row25_col7, #T_0a468_row25_col8, #T_0a468_row25_col9, #T_0a468_row25_col10, #T_0a468_row25_col11, #T_0a468_row25_col12, #T_0a468_row25_col13, #T_0a468_row25_col14, #T_0a468_row25_col15, #T_0a468_row25_col16, #T_0a468_row25_col17, #T_0a468_row25_col18, #T_0a468_row25_col19, #T_0a468_row25_col20, #T_0a468_row25_col21, #T_0a468_row25_col22, #T_0a468_row25_col23, #T_0a468_row25_col24, #T_0a468_row25_col25, #T_0a468_row25_col26, #T_0a468_row25_col27, #T_0a468_row26_col0, #T_0a468_row26_col1, #T_0a468_row26_col2, #T_0a468_row26_col3, #T_0a468_row26_col4, #T_0a468_row26_col5, #T_0a468_row26_col6, #T_0a468_row26_col7, #T_0a468_row26_col8, #T_0a468_row26_col9, #T_0a468_row26_col10, #T_0a468_row26_col11, #T_0a468_row26_col12, #T_0a468_row26_col13, #T_0a468_row26_col14, #T_0a468_row26_col15, #T_0a468_row26_col16, #T_0a468_row26_col17, #T_0a468_row26_col18, #T_0a468_row26_col19, #T_0a468_row26_col20, #T_0a468_row26_col21, #T_0a468_row26_col22, #T_0a468_row26_col23, #T_0a468_row26_col24, #T_0a468_row26_col25, #T_0a468_row26_col26, #T_0a468_row26_col27, #T_0a468_row27_col0, #T_0a468_row27_col1, #T_0a468_row27_col2, #T_0a468_row27_col3, #T_0a468_row27_col4, #T_0a468_row27_col5, #T_0a468_row27_col6, #T_0a468_row27_col7, #T_0a468_row27_col8, #T_0a468_row27_col9, #T_0a468_row27_col10, #T_0a468_row27_col11, #T_0a468_row27_col12, #T_0a468_row27_col13, #T_0a468_row27_col14, #T_0a468_row27_col15, #T_0a468_row27_col16, #T_0a468_row27_col17, #T_0a468_row27_col18, #T_0a468_row27_col19, #T_0a468_row27_col20, #T_0a468_row27_col21, #T_0a468_row27_col22, #T_0a468_row27_col23, #T_0a468_row27_col24, #T_0a468_row27_col25, #T_0a468_row27_col26, #T_0a468_row27_col27 {\n",
       "  font-size: 6pt;\n",
       "  background-color: #ffffff;\n",
       "  color: #000000;\n",
       "}\n",
       "#T_0a468_row5_col3, #T_0a468_row8_col14 {\n",
       "  font-size: 6pt;\n",
       "  background-color: #f9f9f9;\n",
       "  color: #000000;\n",
       "}\n",
       "#T_0a468_row5_col4 {\n",
       "  font-size: 6pt;\n",
       "  background-color: #b9b9b9;\n",
       "  color: #000000;\n",
       "}\n",
       "#T_0a468_row5_col5, #T_0a468_row16_col16 {\n",
       "  font-size: 6pt;\n",
       "  background-color: #c1c1c1;\n",
       "  color: #000000;\n",
       "}\n",
       "#T_0a468_row5_col6 {\n",
       "  font-size: 6pt;\n",
       "  background-color: #858585;\n",
       "  color: #f1f1f1;\n",
       "}\n",
       "#T_0a468_row5_col7, #T_0a468_row5_col10, #T_0a468_row5_col11, #T_0a468_row5_col12, #T_0a468_row5_col13, #T_0a468_row15_col15 {\n",
       "  font-size: 6pt;\n",
       "  background-color: #777777;\n",
       "  color: #f1f1f1;\n",
       "}\n",
       "#T_0a468_row5_col8, #T_0a468_row10_col14 {\n",
       "  font-size: 6pt;\n",
       "  background-color: #090909;\n",
       "  color: #f1f1f1;\n",
       "}\n",
       "#T_0a468_row5_col9 {\n",
       "  font-size: 6pt;\n",
       "  background-color: #5b5b5b;\n",
       "  color: #f1f1f1;\n",
       "}\n",
       "#T_0a468_row5_col14 {\n",
       "  font-size: 6pt;\n",
       "  background-color: #919191;\n",
       "  color: #f1f1f1;\n",
       "}\n",
       "#T_0a468_row5_col15, #T_0a468_row9_col18 {\n",
       "  font-size: 6pt;\n",
       "  background-color: #e1e1e1;\n",
       "  color: #000000;\n",
       "}\n",
       "#T_0a468_row6_col3 {\n",
       "  font-size: 6pt;\n",
       "  background-color: #727272;\n",
       "  color: #f1f1f1;\n",
       "}\n",
       "#T_0a468_row6_col4, #T_0a468_row6_col5, #T_0a468_row6_col6, #T_0a468_row6_col7, #T_0a468_row6_col8, #T_0a468_row6_col9, #T_0a468_row6_col10, #T_0a468_row6_col11, #T_0a468_row6_col12, #T_0a468_row6_col13, #T_0a468_row6_col14, #T_0a468_row7_col3, #T_0a468_row7_col4, #T_0a468_row7_col5, #T_0a468_row7_col6, #T_0a468_row7_col15, #T_0a468_row7_col16, #T_0a468_row7_col17, #T_0a468_row8_col16, #T_0a468_row8_col17, #T_0a468_row9_col15, #T_0a468_row9_col16, #T_0a468_row10_col15, #T_0a468_row10_col16, #T_0a468_row11_col13, #T_0a468_row11_col14, #T_0a468_row12_col12, #T_0a468_row12_col13, #T_0a468_row12_col14, #T_0a468_row13_col11, #T_0a468_row13_col12, #T_0a468_row13_col13, #T_0a468_row13_col14, #T_0a468_row13_col15, #T_0a468_row13_col16, #T_0a468_row14_col13, #T_0a468_row14_col14, #T_0a468_row14_col15, #T_0a468_row14_col16, #T_0a468_row14_col17, #T_0a468_row14_col18, #T_0a468_row15_col17, #T_0a468_row15_col18, #T_0a468_row15_col20, #T_0a468_row16_col18, #T_0a468_row16_col20, #T_0a468_row16_col21, #T_0a468_row17_col20, #T_0a468_row17_col21, #T_0a468_row17_col22, #T_0a468_row18_col20, #T_0a468_row18_col21, #T_0a468_row19_col20, #T_0a468_row20_col9, #T_0a468_row20_col18, #T_0a468_row20_col20, #T_0a468_row21_col8, #T_0a468_row21_col9, #T_0a468_row21_col17, #T_0a468_row21_col18, #T_0a468_row21_col19, #T_0a468_row22_col8, #T_0a468_row22_col9, #T_0a468_row22_col10, #T_0a468_row22_col15, #T_0a468_row22_col16, #T_0a468_row22_col17, #T_0a468_row22_col18, #T_0a468_row23_col9, #T_0a468_row23_col10, #T_0a468_row23_col11, #T_0a468_row23_col12, #T_0a468_row23_col13, #T_0a468_row23_col14, #T_0a468_row23_col15, #T_0a468_row23_col16 {\n",
       "  font-size: 6pt;\n",
       "  background-color: #000000;\n",
       "  color: #f1f1f1;\n",
       "}\n",
       "#T_0a468_row6_col15 {\n",
       "  font-size: 6pt;\n",
       "  background-color: #020202;\n",
       "  color: #f1f1f1;\n",
       "}\n",
       "#T_0a468_row6_col16 {\n",
       "  font-size: 6pt;\n",
       "  background-color: #363636;\n",
       "  color: #f1f1f1;\n",
       "}\n",
       "#T_0a468_row6_col17 {\n",
       "  font-size: 6pt;\n",
       "  background-color: #9d9d9d;\n",
       "  color: #f1f1f1;\n",
       "}\n",
       "#T_0a468_row6_col18, #T_0a468_row23_col7 {\n",
       "  font-size: 6pt;\n",
       "  background-color: #efefef;\n",
       "  color: #000000;\n",
       "}\n",
       "#T_0a468_row7_col7 {\n",
       "  font-size: 6pt;\n",
       "  background-color: #161616;\n",
       "  color: #f1f1f1;\n",
       "}\n",
       "#T_0a468_row7_col8, #T_0a468_row7_col9, #T_0a468_row7_col10, #T_0a468_row7_col11, #T_0a468_row7_col13 {\n",
       "  font-size: 6pt;\n",
       "  background-color: #535353;\n",
       "  color: #f1f1f1;\n",
       "}\n",
       "#T_0a468_row7_col12 {\n",
       "  font-size: 6pt;\n",
       "  background-color: #7c7c7c;\n",
       "  color: #f1f1f1;\n",
       "}\n",
       "#T_0a468_row7_col14, #T_0a468_row22_col11, #T_0a468_row22_col14 {\n",
       "  font-size: 6pt;\n",
       "  background-color: #3d3d3d;\n",
       "  color: #f1f1f1;\n",
       "}\n",
       "#T_0a468_row7_col18 {\n",
       "  font-size: 6pt;\n",
       "  background-color: #cfcfcf;\n",
       "  color: #000000;\n",
       "}\n",
       "#T_0a468_row8_col3 {\n",
       "  font-size: 6pt;\n",
       "  background-color: #eaeaea;\n",
       "  color: #000000;\n",
       "}\n",
       "#T_0a468_row8_col4, #T_0a468_row12_col16 {\n",
       "  font-size: 6pt;\n",
       "  background-color: #d0d0d0;\n",
       "  color: #000000;\n",
       "}\n",
       "#T_0a468_row8_col5, #T_0a468_row8_col6 {\n",
       "  font-size: 6pt;\n",
       "  background-color: #eeeeee;\n",
       "  color: #000000;\n",
       "}\n",
       "#T_0a468_row8_col7, #T_0a468_row19_col8 {\n",
       "  font-size: 6pt;\n",
       "  background-color: #f3f3f3;\n",
       "  color: #000000;\n",
       "}\n",
       "#T_0a468_row8_col15 {\n",
       "  font-size: 6pt;\n",
       "  background-color: #232323;\n",
       "  color: #f1f1f1;\n",
       "}\n",
       "#T_0a468_row8_col18 {\n",
       "  font-size: 6pt;\n",
       "  background-color: #797979;\n",
       "  color: #f1f1f1;\n",
       "}\n",
       "#T_0a468_row9_col14 {\n",
       "  font-size: 6pt;\n",
       "  background-color: #c2c2c2;\n",
       "  color: #000000;\n",
       "}\n",
       "#T_0a468_row9_col17 {\n",
       "  font-size: 6pt;\n",
       "  background-color: #080808;\n",
       "  color: #f1f1f1;\n",
       "}\n",
       "#T_0a468_row10_col12, #T_0a468_row24_col8 {\n",
       "  font-size: 6pt;\n",
       "  background-color: #fcfcfc;\n",
       "  color: #000000;\n",
       "}\n",
       "#T_0a468_row10_col13 {\n",
       "  font-size: 6pt;\n",
       "  background-color: #7a7a7a;\n",
       "  color: #f1f1f1;\n",
       "}\n",
       "#T_0a468_row10_col17, #T_0a468_row21_col10, #T_0a468_row24_col17 {\n",
       "  font-size: 6pt;\n",
       "  background-color: #e4e4e4;\n",
       "  color: #000000;\n",
       "}\n",
       "#T_0a468_row11_col11 {\n",
       "  font-size: 6pt;\n",
       "  background-color: #d7d7d7;\n",
       "  color: #000000;\n",
       "}\n",
       "#T_0a468_row11_col12 {\n",
       "  font-size: 6pt;\n",
       "  background-color: #737373;\n",
       "  color: #f1f1f1;\n",
       "}\n",
       "#T_0a468_row11_col15 {\n",
       "  font-size: 6pt;\n",
       "  background-color: #060606;\n",
       "  color: #f1f1f1;\n",
       "}\n",
       "#T_0a468_row11_col16 {\n",
       "  font-size: 6pt;\n",
       "  background-color: #b4b4b4;\n",
       "  color: #000000;\n",
       "}\n",
       "#T_0a468_row11_col17, #T_0a468_row21_col11, #T_0a468_row21_col14 {\n",
       "  font-size: 6pt;\n",
       "  background-color: #fbfbfb;\n",
       "  color: #000000;\n",
       "}\n",
       "#T_0a468_row12_col10 {\n",
       "  font-size: 6pt;\n",
       "  background-color: #e0e0e0;\n",
       "  color: #000000;\n",
       "}\n",
       "#T_0a468_row12_col11, #T_0a468_row14_col19 {\n",
       "  font-size: 6pt;\n",
       "  background-color: #030303;\n",
       "  color: #f1f1f1;\n",
       "}\n",
       "#T_0a468_row12_col15 {\n",
       "  font-size: 6pt;\n",
       "  background-color: #070707;\n",
       "  color: #f1f1f1;\n",
       "}\n",
       "#T_0a468_row12_col17, #T_0a468_row17_col17 {\n",
       "  font-size: 6pt;\n",
       "  background-color: #fdfdfd;\n",
       "  color: #000000;\n",
       "}\n",
       "#T_0a468_row13_col10, #T_0a468_row14_col20 {\n",
       "  font-size: 6pt;\n",
       "  background-color: #878787;\n",
       "  color: #f1f1f1;\n",
       "}\n",
       "#T_0a468_row13_col17 {\n",
       "  font-size: 6pt;\n",
       "  background-color: #414141;\n",
       "  color: #f1f1f1;\n",
       "}\n",
       "#T_0a468_row13_col18 {\n",
       "  font-size: 6pt;\n",
       "  background-color: #999999;\n",
       "  color: #f1f1f1;\n",
       "}\n",
       "#T_0a468_row13_col19 {\n",
       "  font-size: 6pt;\n",
       "  background-color: #e7e7e7;\n",
       "  color: #000000;\n",
       "}\n",
       "#T_0a468_row14_col10 {\n",
       "  font-size: 6pt;\n",
       "  background-color: #dddddd;\n",
       "  color: #000000;\n",
       "}\n",
       "#T_0a468_row14_col11 {\n",
       "  font-size: 6pt;\n",
       "  background-color: #5c5c5c;\n",
       "  color: #f1f1f1;\n",
       "}\n",
       "#T_0a468_row14_col12 {\n",
       "  font-size: 6pt;\n",
       "  background-color: #171717;\n",
       "  color: #f1f1f1;\n",
       "}\n",
       "#T_0a468_row14_col21 {\n",
       "  font-size: 6pt;\n",
       "  background-color: #f5f5f5;\n",
       "  color: #000000;\n",
       "}\n",
       "#T_0a468_row15_col12 {\n",
       "  font-size: 6pt;\n",
       "  background-color: #f1f1f1;\n",
       "  color: #000000;\n",
       "}\n",
       "#T_0a468_row15_col13 {\n",
       "  font-size: 6pt;\n",
       "  background-color: #e3e3e3;\n",
       "  color: #000000;\n",
       "}\n",
       "#T_0a468_row15_col14 {\n",
       "  font-size: 6pt;\n",
       "  background-color: #d1d1d1;\n",
       "  color: #000000;\n",
       "}\n",
       "#T_0a468_row15_col16, #T_0a468_row15_col19, #T_0a468_row16_col19, #T_0a468_row17_col19, #T_0a468_row18_col19, #T_0a468_row19_col19, #T_0a468_row20_col19 {\n",
       "  font-size: 6pt;\n",
       "  background-color: #010101;\n",
       "  color: #f1f1f1;\n",
       "}\n",
       "#T_0a468_row15_col21, #T_0a468_row18_col22 {\n",
       "  font-size: 6pt;\n",
       "  background-color: #515151;\n",
       "  color: #f1f1f1;\n",
       "}\n",
       "#T_0a468_row15_col22, #T_0a468_row19_col17 {\n",
       "  font-size: 6pt;\n",
       "  background-color: #fefefe;\n",
       "  color: #000000;\n",
       "}\n",
       "#T_0a468_row16_col17 {\n",
       "  font-size: 6pt;\n",
       "  background-color: #444444;\n",
       "  color: #f1f1f1;\n",
       "}\n",
       "#T_0a468_row16_col22 {\n",
       "  font-size: 6pt;\n",
       "  background-color: #4b4b4b;\n",
       "  color: #f1f1f1;\n",
       "}\n",
       "#T_0a468_row17_col18 {\n",
       "  font-size: 6pt;\n",
       "  background-color: #505050;\n",
       "  color: #f1f1f1;\n",
       "}\n",
       "#T_0a468_row18_col18 {\n",
       "  font-size: 6pt;\n",
       "  background-color: #868686;\n",
       "  color: #f1f1f1;\n",
       "}\n",
       "#T_0a468_row19_col9 {\n",
       "  font-size: 6pt;\n",
       "  background-color: #989898;\n",
       "  color: #f1f1f1;\n",
       "}\n",
       "#T_0a468_row19_col10 {\n",
       "  font-size: 6pt;\n",
       "  background-color: #c5c5c5;\n",
       "  color: #000000;\n",
       "}\n",
       "#T_0a468_row19_col18 {\n",
       "  font-size: 6pt;\n",
       "  background-color: #545454;\n",
       "  color: #f1f1f1;\n",
       "}\n",
       "#T_0a468_row19_col21, #T_0a468_row23_col17 {\n",
       "  font-size: 6pt;\n",
       "  background-color: #050505;\n",
       "  color: #f1f1f1;\n",
       "}\n",
       "#T_0a468_row19_col22, #T_0a468_row22_col7 {\n",
       "  font-size: 6pt;\n",
       "  background-color: #b6b6b6;\n",
       "  color: #000000;\n",
       "}\n",
       "#T_0a468_row20_col7, #T_0a468_row20_col16 {\n",
       "  font-size: 6pt;\n",
       "  background-color: #f4f4f4;\n",
       "  color: #000000;\n",
       "}\n",
       "#T_0a468_row20_col8, #T_0a468_row20_col21 {\n",
       "  font-size: 6pt;\n",
       "  background-color: #383838;\n",
       "  color: #f1f1f1;\n",
       "}\n",
       "#T_0a468_row20_col10 {\n",
       "  font-size: 6pt;\n",
       "  background-color: #f8f8f8;\n",
       "  color: #000000;\n",
       "}\n",
       "#T_0a468_row20_col17 {\n",
       "  font-size: 6pt;\n",
       "  background-color: #8a8a8a;\n",
       "  color: #f1f1f1;\n",
       "}\n",
       "#T_0a468_row21_col7 {\n",
       "  font-size: 6pt;\n",
       "  background-color: #696969;\n",
       "  color: #f1f1f1;\n",
       "}\n",
       "#T_0a468_row21_col15 {\n",
       "  font-size: 6pt;\n",
       "  background-color: #959595;\n",
       "  color: #f1f1f1;\n",
       "}\n",
       "#T_0a468_row21_col16, #T_0a468_row22_col19 {\n",
       "  font-size: 6pt;\n",
       "  background-color: #0f0f0f;\n",
       "  color: #f1f1f1;\n",
       "}\n",
       "#T_0a468_row21_col20 {\n",
       "  font-size: 6pt;\n",
       "  background-color: #0e0e0e;\n",
       "  color: #f1f1f1;\n",
       "}\n",
       "#T_0a468_row21_col21 {\n",
       "  font-size: 6pt;\n",
       "  background-color: #dadada;\n",
       "  color: #000000;\n",
       "}\n",
       "#T_0a468_row22_col12, #T_0a468_row22_col13 {\n",
       "  font-size: 6pt;\n",
       "  background-color: #525252;\n",
       "  color: #f1f1f1;\n",
       "}\n",
       "#T_0a468_row22_col20 {\n",
       "  font-size: 6pt;\n",
       "  background-color: #d6d6d6;\n",
       "  color: #000000;\n",
       "}\n",
       "#T_0a468_row23_col8 {\n",
       "  font-size: 6pt;\n",
       "  background-color: #6b6b6b;\n",
       "  color: #f1f1f1;\n",
       "}\n",
       "#T_0a468_row23_col18 {\n",
       "  font-size: 6pt;\n",
       "  background-color: #898989;\n",
       "  color: #f1f1f1;\n",
       "}\n",
       "#T_0a468_row23_col19 {\n",
       "  font-size: 6pt;\n",
       "  background-color: #dfdfdf;\n",
       "  color: #000000;\n",
       "}\n",
       "#T_0a468_row24_col9, #T_0a468_row24_col16 {\n",
       "  font-size: 6pt;\n",
       "  background-color: #c4c4c4;\n",
       "  color: #000000;\n",
       "}\n",
       "#T_0a468_row24_col10, #T_0a468_row24_col14, #T_0a468_row24_col15 {\n",
       "  font-size: 6pt;\n",
       "  background-color: #787878;\n",
       "  color: #f1f1f1;\n",
       "}\n",
       "#T_0a468_row24_col11 {\n",
       "  font-size: 6pt;\n",
       "  background-color: #a4a4a4;\n",
       "  color: #f1f1f1;\n",
       "}\n",
       "#T_0a468_row24_col12, #T_0a468_row24_col13 {\n",
       "  font-size: 6pt;\n",
       "  background-color: #4d4d4d;\n",
       "  color: #f1f1f1;\n",
       "}\n",
       "</style>\n",
       "<table id=\"T_0a468\">\n",
       "  <thead>\n",
       "    <tr>\n",
       "      <th class=\"blank level0\" >&nbsp;</th>\n",
       "      <th id=\"T_0a468_level0_col0\" class=\"col_heading level0 col0\" >0</th>\n",
       "      <th id=\"T_0a468_level0_col1\" class=\"col_heading level0 col1\" >1</th>\n",
       "      <th id=\"T_0a468_level0_col2\" class=\"col_heading level0 col2\" >2</th>\n",
       "      <th id=\"T_0a468_level0_col3\" class=\"col_heading level0 col3\" >3</th>\n",
       "      <th id=\"T_0a468_level0_col4\" class=\"col_heading level0 col4\" >4</th>\n",
       "      <th id=\"T_0a468_level0_col5\" class=\"col_heading level0 col5\" >5</th>\n",
       "      <th id=\"T_0a468_level0_col6\" class=\"col_heading level0 col6\" >6</th>\n",
       "      <th id=\"T_0a468_level0_col7\" class=\"col_heading level0 col7\" >7</th>\n",
       "      <th id=\"T_0a468_level0_col8\" class=\"col_heading level0 col8\" >8</th>\n",
       "      <th id=\"T_0a468_level0_col9\" class=\"col_heading level0 col9\" >9</th>\n",
       "      <th id=\"T_0a468_level0_col10\" class=\"col_heading level0 col10\" >10</th>\n",
       "      <th id=\"T_0a468_level0_col11\" class=\"col_heading level0 col11\" >11</th>\n",
       "      <th id=\"T_0a468_level0_col12\" class=\"col_heading level0 col12\" >12</th>\n",
       "      <th id=\"T_0a468_level0_col13\" class=\"col_heading level0 col13\" >13</th>\n",
       "      <th id=\"T_0a468_level0_col14\" class=\"col_heading level0 col14\" >14</th>\n",
       "      <th id=\"T_0a468_level0_col15\" class=\"col_heading level0 col15\" >15</th>\n",
       "      <th id=\"T_0a468_level0_col16\" class=\"col_heading level0 col16\" >16</th>\n",
       "      <th id=\"T_0a468_level0_col17\" class=\"col_heading level0 col17\" >17</th>\n",
       "      <th id=\"T_0a468_level0_col18\" class=\"col_heading level0 col18\" >18</th>\n",
       "      <th id=\"T_0a468_level0_col19\" class=\"col_heading level0 col19\" >19</th>\n",
       "      <th id=\"T_0a468_level0_col20\" class=\"col_heading level0 col20\" >20</th>\n",
       "      <th id=\"T_0a468_level0_col21\" class=\"col_heading level0 col21\" >21</th>\n",
       "      <th id=\"T_0a468_level0_col22\" class=\"col_heading level0 col22\" >22</th>\n",
       "      <th id=\"T_0a468_level0_col23\" class=\"col_heading level0 col23\" >23</th>\n",
       "      <th id=\"T_0a468_level0_col24\" class=\"col_heading level0 col24\" >24</th>\n",
       "      <th id=\"T_0a468_level0_col25\" class=\"col_heading level0 col25\" >25</th>\n",
       "      <th id=\"T_0a468_level0_col26\" class=\"col_heading level0 col26\" >26</th>\n",
       "      <th id=\"T_0a468_level0_col27\" class=\"col_heading level0 col27\" >27</th>\n",
       "    </tr>\n",
       "  </thead>\n",
       "  <tbody>\n",
       "    <tr>\n",
       "      <th id=\"T_0a468_level0_row0\" class=\"row_heading level0 row0\" >0</th>\n",
       "      <td id=\"T_0a468_row0_col0\" class=\"data row0 col0\" >0</td>\n",
       "      <td id=\"T_0a468_row0_col1\" class=\"data row0 col1\" >0</td>\n",
       "      <td id=\"T_0a468_row0_col2\" class=\"data row0 col2\" >0</td>\n",
       "      <td id=\"T_0a468_row0_col3\" class=\"data row0 col3\" >0</td>\n",
       "      <td id=\"T_0a468_row0_col4\" class=\"data row0 col4\" >0</td>\n",
       "      <td id=\"T_0a468_row0_col5\" class=\"data row0 col5\" >0</td>\n",
       "      <td id=\"T_0a468_row0_col6\" class=\"data row0 col6\" >0</td>\n",
       "      <td id=\"T_0a468_row0_col7\" class=\"data row0 col7\" >0</td>\n",
       "      <td id=\"T_0a468_row0_col8\" class=\"data row0 col8\" >0</td>\n",
       "      <td id=\"T_0a468_row0_col9\" class=\"data row0 col9\" >0</td>\n",
       "      <td id=\"T_0a468_row0_col10\" class=\"data row0 col10\" >0</td>\n",
       "      <td id=\"T_0a468_row0_col11\" class=\"data row0 col11\" >0</td>\n",
       "      <td id=\"T_0a468_row0_col12\" class=\"data row0 col12\" >0</td>\n",
       "      <td id=\"T_0a468_row0_col13\" class=\"data row0 col13\" >0</td>\n",
       "      <td id=\"T_0a468_row0_col14\" class=\"data row0 col14\" >0</td>\n",
       "      <td id=\"T_0a468_row0_col15\" class=\"data row0 col15\" >0</td>\n",
       "      <td id=\"T_0a468_row0_col16\" class=\"data row0 col16\" >0</td>\n",
       "      <td id=\"T_0a468_row0_col17\" class=\"data row0 col17\" >0</td>\n",
       "      <td id=\"T_0a468_row0_col18\" class=\"data row0 col18\" >0</td>\n",
       "      <td id=\"T_0a468_row0_col19\" class=\"data row0 col19\" >0</td>\n",
       "      <td id=\"T_0a468_row0_col20\" class=\"data row0 col20\" >0</td>\n",
       "      <td id=\"T_0a468_row0_col21\" class=\"data row0 col21\" >0</td>\n",
       "      <td id=\"T_0a468_row0_col22\" class=\"data row0 col22\" >0</td>\n",
       "      <td id=\"T_0a468_row0_col23\" class=\"data row0 col23\" >0</td>\n",
       "      <td id=\"T_0a468_row0_col24\" class=\"data row0 col24\" >0</td>\n",
       "      <td id=\"T_0a468_row0_col25\" class=\"data row0 col25\" >0</td>\n",
       "      <td id=\"T_0a468_row0_col26\" class=\"data row0 col26\" >0</td>\n",
       "      <td id=\"T_0a468_row0_col27\" class=\"data row0 col27\" >0</td>\n",
       "    </tr>\n",
       "    <tr>\n",
       "      <th id=\"T_0a468_level0_row1\" class=\"row_heading level0 row1\" >1</th>\n",
       "      <td id=\"T_0a468_row1_col0\" class=\"data row1 col0\" >0</td>\n",
       "      <td id=\"T_0a468_row1_col1\" class=\"data row1 col1\" >0</td>\n",
       "      <td id=\"T_0a468_row1_col2\" class=\"data row1 col2\" >0</td>\n",
       "      <td id=\"T_0a468_row1_col3\" class=\"data row1 col3\" >0</td>\n",
       "      <td id=\"T_0a468_row1_col4\" class=\"data row1 col4\" >0</td>\n",
       "      <td id=\"T_0a468_row1_col5\" class=\"data row1 col5\" >0</td>\n",
       "      <td id=\"T_0a468_row1_col6\" class=\"data row1 col6\" >0</td>\n",
       "      <td id=\"T_0a468_row1_col7\" class=\"data row1 col7\" >0</td>\n",
       "      <td id=\"T_0a468_row1_col8\" class=\"data row1 col8\" >0</td>\n",
       "      <td id=\"T_0a468_row1_col9\" class=\"data row1 col9\" >0</td>\n",
       "      <td id=\"T_0a468_row1_col10\" class=\"data row1 col10\" >0</td>\n",
       "      <td id=\"T_0a468_row1_col11\" class=\"data row1 col11\" >0</td>\n",
       "      <td id=\"T_0a468_row1_col12\" class=\"data row1 col12\" >0</td>\n",
       "      <td id=\"T_0a468_row1_col13\" class=\"data row1 col13\" >0</td>\n",
       "      <td id=\"T_0a468_row1_col14\" class=\"data row1 col14\" >0</td>\n",
       "      <td id=\"T_0a468_row1_col15\" class=\"data row1 col15\" >0</td>\n",
       "      <td id=\"T_0a468_row1_col16\" class=\"data row1 col16\" >0</td>\n",
       "      <td id=\"T_0a468_row1_col17\" class=\"data row1 col17\" >0</td>\n",
       "      <td id=\"T_0a468_row1_col18\" class=\"data row1 col18\" >0</td>\n",
       "      <td id=\"T_0a468_row1_col19\" class=\"data row1 col19\" >0</td>\n",
       "      <td id=\"T_0a468_row1_col20\" class=\"data row1 col20\" >0</td>\n",
       "      <td id=\"T_0a468_row1_col21\" class=\"data row1 col21\" >0</td>\n",
       "      <td id=\"T_0a468_row1_col22\" class=\"data row1 col22\" >0</td>\n",
       "      <td id=\"T_0a468_row1_col23\" class=\"data row1 col23\" >0</td>\n",
       "      <td id=\"T_0a468_row1_col24\" class=\"data row1 col24\" >0</td>\n",
       "      <td id=\"T_0a468_row1_col25\" class=\"data row1 col25\" >0</td>\n",
       "      <td id=\"T_0a468_row1_col26\" class=\"data row1 col26\" >0</td>\n",
       "      <td id=\"T_0a468_row1_col27\" class=\"data row1 col27\" >0</td>\n",
       "    </tr>\n",
       "    <tr>\n",
       "      <th id=\"T_0a468_level0_row2\" class=\"row_heading level0 row2\" >2</th>\n",
       "      <td id=\"T_0a468_row2_col0\" class=\"data row2 col0\" >0</td>\n",
       "      <td id=\"T_0a468_row2_col1\" class=\"data row2 col1\" >0</td>\n",
       "      <td id=\"T_0a468_row2_col2\" class=\"data row2 col2\" >0</td>\n",
       "      <td id=\"T_0a468_row2_col3\" class=\"data row2 col3\" >0</td>\n",
       "      <td id=\"T_0a468_row2_col4\" class=\"data row2 col4\" >0</td>\n",
       "      <td id=\"T_0a468_row2_col5\" class=\"data row2 col5\" >0</td>\n",
       "      <td id=\"T_0a468_row2_col6\" class=\"data row2 col6\" >0</td>\n",
       "      <td id=\"T_0a468_row2_col7\" class=\"data row2 col7\" >0</td>\n",
       "      <td id=\"T_0a468_row2_col8\" class=\"data row2 col8\" >0</td>\n",
       "      <td id=\"T_0a468_row2_col9\" class=\"data row2 col9\" >0</td>\n",
       "      <td id=\"T_0a468_row2_col10\" class=\"data row2 col10\" >0</td>\n",
       "      <td id=\"T_0a468_row2_col11\" class=\"data row2 col11\" >0</td>\n",
       "      <td id=\"T_0a468_row2_col12\" class=\"data row2 col12\" >0</td>\n",
       "      <td id=\"T_0a468_row2_col13\" class=\"data row2 col13\" >0</td>\n",
       "      <td id=\"T_0a468_row2_col14\" class=\"data row2 col14\" >0</td>\n",
       "      <td id=\"T_0a468_row2_col15\" class=\"data row2 col15\" >0</td>\n",
       "      <td id=\"T_0a468_row2_col16\" class=\"data row2 col16\" >0</td>\n",
       "      <td id=\"T_0a468_row2_col17\" class=\"data row2 col17\" >0</td>\n",
       "      <td id=\"T_0a468_row2_col18\" class=\"data row2 col18\" >0</td>\n",
       "      <td id=\"T_0a468_row2_col19\" class=\"data row2 col19\" >0</td>\n",
       "      <td id=\"T_0a468_row2_col20\" class=\"data row2 col20\" >0</td>\n",
       "      <td id=\"T_0a468_row2_col21\" class=\"data row2 col21\" >0</td>\n",
       "      <td id=\"T_0a468_row2_col22\" class=\"data row2 col22\" >0</td>\n",
       "      <td id=\"T_0a468_row2_col23\" class=\"data row2 col23\" >0</td>\n",
       "      <td id=\"T_0a468_row2_col24\" class=\"data row2 col24\" >0</td>\n",
       "      <td id=\"T_0a468_row2_col25\" class=\"data row2 col25\" >0</td>\n",
       "      <td id=\"T_0a468_row2_col26\" class=\"data row2 col26\" >0</td>\n",
       "      <td id=\"T_0a468_row2_col27\" class=\"data row2 col27\" >0</td>\n",
       "    </tr>\n",
       "    <tr>\n",
       "      <th id=\"T_0a468_level0_row3\" class=\"row_heading level0 row3\" >3</th>\n",
       "      <td id=\"T_0a468_row3_col0\" class=\"data row3 col0\" >0</td>\n",
       "      <td id=\"T_0a468_row3_col1\" class=\"data row3 col1\" >0</td>\n",
       "      <td id=\"T_0a468_row3_col2\" class=\"data row3 col2\" >0</td>\n",
       "      <td id=\"T_0a468_row3_col3\" class=\"data row3 col3\" >0</td>\n",
       "      <td id=\"T_0a468_row3_col4\" class=\"data row3 col4\" >0</td>\n",
       "      <td id=\"T_0a468_row3_col5\" class=\"data row3 col5\" >0</td>\n",
       "      <td id=\"T_0a468_row3_col6\" class=\"data row3 col6\" >0</td>\n",
       "      <td id=\"T_0a468_row3_col7\" class=\"data row3 col7\" >0</td>\n",
       "      <td id=\"T_0a468_row3_col8\" class=\"data row3 col8\" >0</td>\n",
       "      <td id=\"T_0a468_row3_col9\" class=\"data row3 col9\" >0</td>\n",
       "      <td id=\"T_0a468_row3_col10\" class=\"data row3 col10\" >0</td>\n",
       "      <td id=\"T_0a468_row3_col11\" class=\"data row3 col11\" >0</td>\n",
       "      <td id=\"T_0a468_row3_col12\" class=\"data row3 col12\" >0</td>\n",
       "      <td id=\"T_0a468_row3_col13\" class=\"data row3 col13\" >0</td>\n",
       "      <td id=\"T_0a468_row3_col14\" class=\"data row3 col14\" >0</td>\n",
       "      <td id=\"T_0a468_row3_col15\" class=\"data row3 col15\" >0</td>\n",
       "      <td id=\"T_0a468_row3_col16\" class=\"data row3 col16\" >0</td>\n",
       "      <td id=\"T_0a468_row3_col17\" class=\"data row3 col17\" >0</td>\n",
       "      <td id=\"T_0a468_row3_col18\" class=\"data row3 col18\" >0</td>\n",
       "      <td id=\"T_0a468_row3_col19\" class=\"data row3 col19\" >0</td>\n",
       "      <td id=\"T_0a468_row3_col20\" class=\"data row3 col20\" >0</td>\n",
       "      <td id=\"T_0a468_row3_col21\" class=\"data row3 col21\" >0</td>\n",
       "      <td id=\"T_0a468_row3_col22\" class=\"data row3 col22\" >0</td>\n",
       "      <td id=\"T_0a468_row3_col23\" class=\"data row3 col23\" >0</td>\n",
       "      <td id=\"T_0a468_row3_col24\" class=\"data row3 col24\" >0</td>\n",
       "      <td id=\"T_0a468_row3_col25\" class=\"data row3 col25\" >0</td>\n",
       "      <td id=\"T_0a468_row3_col26\" class=\"data row3 col26\" >0</td>\n",
       "      <td id=\"T_0a468_row3_col27\" class=\"data row3 col27\" >0</td>\n",
       "    </tr>\n",
       "    <tr>\n",
       "      <th id=\"T_0a468_level0_row4\" class=\"row_heading level0 row4\" >4</th>\n",
       "      <td id=\"T_0a468_row4_col0\" class=\"data row4 col0\" >0</td>\n",
       "      <td id=\"T_0a468_row4_col1\" class=\"data row4 col1\" >0</td>\n",
       "      <td id=\"T_0a468_row4_col2\" class=\"data row4 col2\" >0</td>\n",
       "      <td id=\"T_0a468_row4_col3\" class=\"data row4 col3\" >0</td>\n",
       "      <td id=\"T_0a468_row4_col4\" class=\"data row4 col4\" >0</td>\n",
       "      <td id=\"T_0a468_row4_col5\" class=\"data row4 col5\" >0</td>\n",
       "      <td id=\"T_0a468_row4_col6\" class=\"data row4 col6\" >0</td>\n",
       "      <td id=\"T_0a468_row4_col7\" class=\"data row4 col7\" >0</td>\n",
       "      <td id=\"T_0a468_row4_col8\" class=\"data row4 col8\" >0</td>\n",
       "      <td id=\"T_0a468_row4_col9\" class=\"data row4 col9\" >0</td>\n",
       "      <td id=\"T_0a468_row4_col10\" class=\"data row4 col10\" >0</td>\n",
       "      <td id=\"T_0a468_row4_col11\" class=\"data row4 col11\" >0</td>\n",
       "      <td id=\"T_0a468_row4_col12\" class=\"data row4 col12\" >0</td>\n",
       "      <td id=\"T_0a468_row4_col13\" class=\"data row4 col13\" >0</td>\n",
       "      <td id=\"T_0a468_row4_col14\" class=\"data row4 col14\" >0</td>\n",
       "      <td id=\"T_0a468_row4_col15\" class=\"data row4 col15\" >0</td>\n",
       "      <td id=\"T_0a468_row4_col16\" class=\"data row4 col16\" >0</td>\n",
       "      <td id=\"T_0a468_row4_col17\" class=\"data row4 col17\" >0</td>\n",
       "      <td id=\"T_0a468_row4_col18\" class=\"data row4 col18\" >0</td>\n",
       "      <td id=\"T_0a468_row4_col19\" class=\"data row4 col19\" >0</td>\n",
       "      <td id=\"T_0a468_row4_col20\" class=\"data row4 col20\" >0</td>\n",
       "      <td id=\"T_0a468_row4_col21\" class=\"data row4 col21\" >0</td>\n",
       "      <td id=\"T_0a468_row4_col22\" class=\"data row4 col22\" >0</td>\n",
       "      <td id=\"T_0a468_row4_col23\" class=\"data row4 col23\" >0</td>\n",
       "      <td id=\"T_0a468_row4_col24\" class=\"data row4 col24\" >0</td>\n",
       "      <td id=\"T_0a468_row4_col25\" class=\"data row4 col25\" >0</td>\n",
       "      <td id=\"T_0a468_row4_col26\" class=\"data row4 col26\" >0</td>\n",
       "      <td id=\"T_0a468_row4_col27\" class=\"data row4 col27\" >0</td>\n",
       "    </tr>\n",
       "    <tr>\n",
       "      <th id=\"T_0a468_level0_row5\" class=\"row_heading level0 row5\" >5</th>\n",
       "      <td id=\"T_0a468_row5_col0\" class=\"data row5 col0\" >0</td>\n",
       "      <td id=\"T_0a468_row5_col1\" class=\"data row5 col1\" >0</td>\n",
       "      <td id=\"T_0a468_row5_col2\" class=\"data row5 col2\" >0</td>\n",
       "      <td id=\"T_0a468_row5_col3\" class=\"data row5 col3\" >12</td>\n",
       "      <td id=\"T_0a468_row5_col4\" class=\"data row5 col4\" >99</td>\n",
       "      <td id=\"T_0a468_row5_col5\" class=\"data row5 col5\" >91</td>\n",
       "      <td id=\"T_0a468_row5_col6\" class=\"data row5 col6\" >142</td>\n",
       "      <td id=\"T_0a468_row5_col7\" class=\"data row5 col7\" >155</td>\n",
       "      <td id=\"T_0a468_row5_col8\" class=\"data row5 col8\" >246</td>\n",
       "      <td id=\"T_0a468_row5_col9\" class=\"data row5 col9\" >182</td>\n",
       "      <td id=\"T_0a468_row5_col10\" class=\"data row5 col10\" >155</td>\n",
       "      <td id=\"T_0a468_row5_col11\" class=\"data row5 col11\" >155</td>\n",
       "      <td id=\"T_0a468_row5_col12\" class=\"data row5 col12\" >155</td>\n",
       "      <td id=\"T_0a468_row5_col13\" class=\"data row5 col13\" >155</td>\n",
       "      <td id=\"T_0a468_row5_col14\" class=\"data row5 col14\" >131</td>\n",
       "      <td id=\"T_0a468_row5_col15\" class=\"data row5 col15\" >52</td>\n",
       "      <td id=\"T_0a468_row5_col16\" class=\"data row5 col16\" >0</td>\n",
       "      <td id=\"T_0a468_row5_col17\" class=\"data row5 col17\" >0</td>\n",
       "      <td id=\"T_0a468_row5_col18\" class=\"data row5 col18\" >0</td>\n",
       "      <td id=\"T_0a468_row5_col19\" class=\"data row5 col19\" >0</td>\n",
       "      <td id=\"T_0a468_row5_col20\" class=\"data row5 col20\" >0</td>\n",
       "      <td id=\"T_0a468_row5_col21\" class=\"data row5 col21\" >0</td>\n",
       "      <td id=\"T_0a468_row5_col22\" class=\"data row5 col22\" >0</td>\n",
       "      <td id=\"T_0a468_row5_col23\" class=\"data row5 col23\" >0</td>\n",
       "      <td id=\"T_0a468_row5_col24\" class=\"data row5 col24\" >0</td>\n",
       "      <td id=\"T_0a468_row5_col25\" class=\"data row5 col25\" >0</td>\n",
       "      <td id=\"T_0a468_row5_col26\" class=\"data row5 col26\" >0</td>\n",
       "      <td id=\"T_0a468_row5_col27\" class=\"data row5 col27\" >0</td>\n",
       "    </tr>\n",
       "    <tr>\n",
       "      <th id=\"T_0a468_level0_row6\" class=\"row_heading level0 row6\" >6</th>\n",
       "      <td id=\"T_0a468_row6_col0\" class=\"data row6 col0\" >0</td>\n",
       "      <td id=\"T_0a468_row6_col1\" class=\"data row6 col1\" >0</td>\n",
       "      <td id=\"T_0a468_row6_col2\" class=\"data row6 col2\" >0</td>\n",
       "      <td id=\"T_0a468_row6_col3\" class=\"data row6 col3\" >138</td>\n",
       "      <td id=\"T_0a468_row6_col4\" class=\"data row6 col4\" >254</td>\n",
       "      <td id=\"T_0a468_row6_col5\" class=\"data row6 col5\" >254</td>\n",
       "      <td id=\"T_0a468_row6_col6\" class=\"data row6 col6\" >254</td>\n",
       "      <td id=\"T_0a468_row6_col7\" class=\"data row6 col7\" >254</td>\n",
       "      <td id=\"T_0a468_row6_col8\" class=\"data row6 col8\" >254</td>\n",
       "      <td id=\"T_0a468_row6_col9\" class=\"data row6 col9\" >254</td>\n",
       "      <td id=\"T_0a468_row6_col10\" class=\"data row6 col10\" >254</td>\n",
       "      <td id=\"T_0a468_row6_col11\" class=\"data row6 col11\" >254</td>\n",
       "      <td id=\"T_0a468_row6_col12\" class=\"data row6 col12\" >254</td>\n",
       "      <td id=\"T_0a468_row6_col13\" class=\"data row6 col13\" >254</td>\n",
       "      <td id=\"T_0a468_row6_col14\" class=\"data row6 col14\" >254</td>\n",
       "      <td id=\"T_0a468_row6_col15\" class=\"data row6 col15\" >252</td>\n",
       "      <td id=\"T_0a468_row6_col16\" class=\"data row6 col16\" >210</td>\n",
       "      <td id=\"T_0a468_row6_col17\" class=\"data row6 col17\" >122</td>\n",
       "      <td id=\"T_0a468_row6_col18\" class=\"data row6 col18\" >33</td>\n",
       "      <td id=\"T_0a468_row6_col19\" class=\"data row6 col19\" >0</td>\n",
       "      <td id=\"T_0a468_row6_col20\" class=\"data row6 col20\" >0</td>\n",
       "      <td id=\"T_0a468_row6_col21\" class=\"data row6 col21\" >0</td>\n",
       "      <td id=\"T_0a468_row6_col22\" class=\"data row6 col22\" >0</td>\n",
       "      <td id=\"T_0a468_row6_col23\" class=\"data row6 col23\" >0</td>\n",
       "      <td id=\"T_0a468_row6_col24\" class=\"data row6 col24\" >0</td>\n",
       "      <td id=\"T_0a468_row6_col25\" class=\"data row6 col25\" >0</td>\n",
       "      <td id=\"T_0a468_row6_col26\" class=\"data row6 col26\" >0</td>\n",
       "      <td id=\"T_0a468_row6_col27\" class=\"data row6 col27\" >0</td>\n",
       "    </tr>\n",
       "    <tr>\n",
       "      <th id=\"T_0a468_level0_row7\" class=\"row_heading level0 row7\" >7</th>\n",
       "      <td id=\"T_0a468_row7_col0\" class=\"data row7 col0\" >0</td>\n",
       "      <td id=\"T_0a468_row7_col1\" class=\"data row7 col1\" >0</td>\n",
       "      <td id=\"T_0a468_row7_col2\" class=\"data row7 col2\" >0</td>\n",
       "      <td id=\"T_0a468_row7_col3\" class=\"data row7 col3\" >220</td>\n",
       "      <td id=\"T_0a468_row7_col4\" class=\"data row7 col4\" >254</td>\n",
       "      <td id=\"T_0a468_row7_col5\" class=\"data row7 col5\" >254</td>\n",
       "      <td id=\"T_0a468_row7_col6\" class=\"data row7 col6\" >254</td>\n",
       "      <td id=\"T_0a468_row7_col7\" class=\"data row7 col7\" >235</td>\n",
       "      <td id=\"T_0a468_row7_col8\" class=\"data row7 col8\" >189</td>\n",
       "      <td id=\"T_0a468_row7_col9\" class=\"data row7 col9\" >189</td>\n",
       "      <td id=\"T_0a468_row7_col10\" class=\"data row7 col10\" >189</td>\n",
       "      <td id=\"T_0a468_row7_col11\" class=\"data row7 col11\" >189</td>\n",
       "      <td id=\"T_0a468_row7_col12\" class=\"data row7 col12\" >150</td>\n",
       "      <td id=\"T_0a468_row7_col13\" class=\"data row7 col13\" >189</td>\n",
       "      <td id=\"T_0a468_row7_col14\" class=\"data row7 col14\" >205</td>\n",
       "      <td id=\"T_0a468_row7_col15\" class=\"data row7 col15\" >254</td>\n",
       "      <td id=\"T_0a468_row7_col16\" class=\"data row7 col16\" >254</td>\n",
       "      <td id=\"T_0a468_row7_col17\" class=\"data row7 col17\" >254</td>\n",
       "      <td id=\"T_0a468_row7_col18\" class=\"data row7 col18\" >75</td>\n",
       "      <td id=\"T_0a468_row7_col19\" class=\"data row7 col19\" >0</td>\n",
       "      <td id=\"T_0a468_row7_col20\" class=\"data row7 col20\" >0</td>\n",
       "      <td id=\"T_0a468_row7_col21\" class=\"data row7 col21\" >0</td>\n",
       "      <td id=\"T_0a468_row7_col22\" class=\"data row7 col22\" >0</td>\n",
       "      <td id=\"T_0a468_row7_col23\" class=\"data row7 col23\" >0</td>\n",
       "      <td id=\"T_0a468_row7_col24\" class=\"data row7 col24\" >0</td>\n",
       "      <td id=\"T_0a468_row7_col25\" class=\"data row7 col25\" >0</td>\n",
       "      <td id=\"T_0a468_row7_col26\" class=\"data row7 col26\" >0</td>\n",
       "      <td id=\"T_0a468_row7_col27\" class=\"data row7 col27\" >0</td>\n",
       "    </tr>\n",
       "    <tr>\n",
       "      <th id=\"T_0a468_level0_row8\" class=\"row_heading level0 row8\" >8</th>\n",
       "      <td id=\"T_0a468_row8_col0\" class=\"data row8 col0\" >0</td>\n",
       "      <td id=\"T_0a468_row8_col1\" class=\"data row8 col1\" >0</td>\n",
       "      <td id=\"T_0a468_row8_col2\" class=\"data row8 col2\" >0</td>\n",
       "      <td id=\"T_0a468_row8_col3\" class=\"data row8 col3\" >35</td>\n",
       "      <td id=\"T_0a468_row8_col4\" class=\"data row8 col4\" >74</td>\n",
       "      <td id=\"T_0a468_row8_col5\" class=\"data row8 col5\" >35</td>\n",
       "      <td id=\"T_0a468_row8_col6\" class=\"data row8 col6\" >35</td>\n",
       "      <td id=\"T_0a468_row8_col7\" class=\"data row8 col7\" >25</td>\n",
       "      <td id=\"T_0a468_row8_col8\" class=\"data row8 col8\" >0</td>\n",
       "      <td id=\"T_0a468_row8_col9\" class=\"data row8 col9\" >0</td>\n",
       "      <td id=\"T_0a468_row8_col10\" class=\"data row8 col10\" >0</td>\n",
       "      <td id=\"T_0a468_row8_col11\" class=\"data row8 col11\" >0</td>\n",
       "      <td id=\"T_0a468_row8_col12\" class=\"data row8 col12\" >0</td>\n",
       "      <td id=\"T_0a468_row8_col13\" class=\"data row8 col13\" >0</td>\n",
       "      <td id=\"T_0a468_row8_col14\" class=\"data row8 col14\" >13</td>\n",
       "      <td id=\"T_0a468_row8_col15\" class=\"data row8 col15\" >224</td>\n",
       "      <td id=\"T_0a468_row8_col16\" class=\"data row8 col16\" >254</td>\n",
       "      <td id=\"T_0a468_row8_col17\" class=\"data row8 col17\" >254</td>\n",
       "      <td id=\"T_0a468_row8_col18\" class=\"data row8 col18\" >153</td>\n",
       "      <td id=\"T_0a468_row8_col19\" class=\"data row8 col19\" >0</td>\n",
       "      <td id=\"T_0a468_row8_col20\" class=\"data row8 col20\" >0</td>\n",
       "      <td id=\"T_0a468_row8_col21\" class=\"data row8 col21\" >0</td>\n",
       "      <td id=\"T_0a468_row8_col22\" class=\"data row8 col22\" >0</td>\n",
       "      <td id=\"T_0a468_row8_col23\" class=\"data row8 col23\" >0</td>\n",
       "      <td id=\"T_0a468_row8_col24\" class=\"data row8 col24\" >0</td>\n",
       "      <td id=\"T_0a468_row8_col25\" class=\"data row8 col25\" >0</td>\n",
       "      <td id=\"T_0a468_row8_col26\" class=\"data row8 col26\" >0</td>\n",
       "      <td id=\"T_0a468_row8_col27\" class=\"data row8 col27\" >0</td>\n",
       "    </tr>\n",
       "    <tr>\n",
       "      <th id=\"T_0a468_level0_row9\" class=\"row_heading level0 row9\" >9</th>\n",
       "      <td id=\"T_0a468_row9_col0\" class=\"data row9 col0\" >0</td>\n",
       "      <td id=\"T_0a468_row9_col1\" class=\"data row9 col1\" >0</td>\n",
       "      <td id=\"T_0a468_row9_col2\" class=\"data row9 col2\" >0</td>\n",
       "      <td id=\"T_0a468_row9_col3\" class=\"data row9 col3\" >0</td>\n",
       "      <td id=\"T_0a468_row9_col4\" class=\"data row9 col4\" >0</td>\n",
       "      <td id=\"T_0a468_row9_col5\" class=\"data row9 col5\" >0</td>\n",
       "      <td id=\"T_0a468_row9_col6\" class=\"data row9 col6\" >0</td>\n",
       "      <td id=\"T_0a468_row9_col7\" class=\"data row9 col7\" >0</td>\n",
       "      <td id=\"T_0a468_row9_col8\" class=\"data row9 col8\" >0</td>\n",
       "      <td id=\"T_0a468_row9_col9\" class=\"data row9 col9\" >0</td>\n",
       "      <td id=\"T_0a468_row9_col10\" class=\"data row9 col10\" >0</td>\n",
       "      <td id=\"T_0a468_row9_col11\" class=\"data row9 col11\" >0</td>\n",
       "      <td id=\"T_0a468_row9_col12\" class=\"data row9 col12\" >0</td>\n",
       "      <td id=\"T_0a468_row9_col13\" class=\"data row9 col13\" >0</td>\n",
       "      <td id=\"T_0a468_row9_col14\" class=\"data row9 col14\" >90</td>\n",
       "      <td id=\"T_0a468_row9_col15\" class=\"data row9 col15\" >254</td>\n",
       "      <td id=\"T_0a468_row9_col16\" class=\"data row9 col16\" >254</td>\n",
       "      <td id=\"T_0a468_row9_col17\" class=\"data row9 col17\" >247</td>\n",
       "      <td id=\"T_0a468_row9_col18\" class=\"data row9 col18\" >53</td>\n",
       "      <td id=\"T_0a468_row9_col19\" class=\"data row9 col19\" >0</td>\n",
       "      <td id=\"T_0a468_row9_col20\" class=\"data row9 col20\" >0</td>\n",
       "      <td id=\"T_0a468_row9_col21\" class=\"data row9 col21\" >0</td>\n",
       "      <td id=\"T_0a468_row9_col22\" class=\"data row9 col22\" >0</td>\n",
       "      <td id=\"T_0a468_row9_col23\" class=\"data row9 col23\" >0</td>\n",
       "      <td id=\"T_0a468_row9_col24\" class=\"data row9 col24\" >0</td>\n",
       "      <td id=\"T_0a468_row9_col25\" class=\"data row9 col25\" >0</td>\n",
       "      <td id=\"T_0a468_row9_col26\" class=\"data row9 col26\" >0</td>\n",
       "      <td id=\"T_0a468_row9_col27\" class=\"data row9 col27\" >0</td>\n",
       "    </tr>\n",
       "    <tr>\n",
       "      <th id=\"T_0a468_level0_row10\" class=\"row_heading level0 row10\" >10</th>\n",
       "      <td id=\"T_0a468_row10_col0\" class=\"data row10 col0\" >0</td>\n",
       "      <td id=\"T_0a468_row10_col1\" class=\"data row10 col1\" >0</td>\n",
       "      <td id=\"T_0a468_row10_col2\" class=\"data row10 col2\" >0</td>\n",
       "      <td id=\"T_0a468_row10_col3\" class=\"data row10 col3\" >0</td>\n",
       "      <td id=\"T_0a468_row10_col4\" class=\"data row10 col4\" >0</td>\n",
       "      <td id=\"T_0a468_row10_col5\" class=\"data row10 col5\" >0</td>\n",
       "      <td id=\"T_0a468_row10_col6\" class=\"data row10 col6\" >0</td>\n",
       "      <td id=\"T_0a468_row10_col7\" class=\"data row10 col7\" >0</td>\n",
       "      <td id=\"T_0a468_row10_col8\" class=\"data row10 col8\" >0</td>\n",
       "      <td id=\"T_0a468_row10_col9\" class=\"data row10 col9\" >0</td>\n",
       "      <td id=\"T_0a468_row10_col10\" class=\"data row10 col10\" >0</td>\n",
       "      <td id=\"T_0a468_row10_col11\" class=\"data row10 col11\" >0</td>\n",
       "      <td id=\"T_0a468_row10_col12\" class=\"data row10 col12\" >6</td>\n",
       "      <td id=\"T_0a468_row10_col13\" class=\"data row10 col13\" >152</td>\n",
       "      <td id=\"T_0a468_row10_col14\" class=\"data row10 col14\" >246</td>\n",
       "      <td id=\"T_0a468_row10_col15\" class=\"data row10 col15\" >254</td>\n",
       "      <td id=\"T_0a468_row10_col16\" class=\"data row10 col16\" >254</td>\n",
       "      <td id=\"T_0a468_row10_col17\" class=\"data row10 col17\" >49</td>\n",
       "      <td id=\"T_0a468_row10_col18\" class=\"data row10 col18\" >0</td>\n",
       "      <td id=\"T_0a468_row10_col19\" class=\"data row10 col19\" >0</td>\n",
       "      <td id=\"T_0a468_row10_col20\" class=\"data row10 col20\" >0</td>\n",
       "      <td id=\"T_0a468_row10_col21\" class=\"data row10 col21\" >0</td>\n",
       "      <td id=\"T_0a468_row10_col22\" class=\"data row10 col22\" >0</td>\n",
       "      <td id=\"T_0a468_row10_col23\" class=\"data row10 col23\" >0</td>\n",
       "      <td id=\"T_0a468_row10_col24\" class=\"data row10 col24\" >0</td>\n",
       "      <td id=\"T_0a468_row10_col25\" class=\"data row10 col25\" >0</td>\n",
       "      <td id=\"T_0a468_row10_col26\" class=\"data row10 col26\" >0</td>\n",
       "      <td id=\"T_0a468_row10_col27\" class=\"data row10 col27\" >0</td>\n",
       "    </tr>\n",
       "    <tr>\n",
       "      <th id=\"T_0a468_level0_row11\" class=\"row_heading level0 row11\" >11</th>\n",
       "      <td id=\"T_0a468_row11_col0\" class=\"data row11 col0\" >0</td>\n",
       "      <td id=\"T_0a468_row11_col1\" class=\"data row11 col1\" >0</td>\n",
       "      <td id=\"T_0a468_row11_col2\" class=\"data row11 col2\" >0</td>\n",
       "      <td id=\"T_0a468_row11_col3\" class=\"data row11 col3\" >0</td>\n",
       "      <td id=\"T_0a468_row11_col4\" class=\"data row11 col4\" >0</td>\n",
       "      <td id=\"T_0a468_row11_col5\" class=\"data row11 col5\" >0</td>\n",
       "      <td id=\"T_0a468_row11_col6\" class=\"data row11 col6\" >0</td>\n",
       "      <td id=\"T_0a468_row11_col7\" class=\"data row11 col7\" >0</td>\n",
       "      <td id=\"T_0a468_row11_col8\" class=\"data row11 col8\" >0</td>\n",
       "      <td id=\"T_0a468_row11_col9\" class=\"data row11 col9\" >0</td>\n",
       "      <td id=\"T_0a468_row11_col10\" class=\"data row11 col10\" >0</td>\n",
       "      <td id=\"T_0a468_row11_col11\" class=\"data row11 col11\" >66</td>\n",
       "      <td id=\"T_0a468_row11_col12\" class=\"data row11 col12\" >158</td>\n",
       "      <td id=\"T_0a468_row11_col13\" class=\"data row11 col13\" >254</td>\n",
       "      <td id=\"T_0a468_row11_col14\" class=\"data row11 col14\" >254</td>\n",
       "      <td id=\"T_0a468_row11_col15\" class=\"data row11 col15\" >249</td>\n",
       "      <td id=\"T_0a468_row11_col16\" class=\"data row11 col16\" >103</td>\n",
       "      <td id=\"T_0a468_row11_col17\" class=\"data row11 col17\" >8</td>\n",
       "      <td id=\"T_0a468_row11_col18\" class=\"data row11 col18\" >0</td>\n",
       "      <td id=\"T_0a468_row11_col19\" class=\"data row11 col19\" >0</td>\n",
       "      <td id=\"T_0a468_row11_col20\" class=\"data row11 col20\" >0</td>\n",
       "      <td id=\"T_0a468_row11_col21\" class=\"data row11 col21\" >0</td>\n",
       "      <td id=\"T_0a468_row11_col22\" class=\"data row11 col22\" >0</td>\n",
       "      <td id=\"T_0a468_row11_col23\" class=\"data row11 col23\" >0</td>\n",
       "      <td id=\"T_0a468_row11_col24\" class=\"data row11 col24\" >0</td>\n",
       "      <td id=\"T_0a468_row11_col25\" class=\"data row11 col25\" >0</td>\n",
       "      <td id=\"T_0a468_row11_col26\" class=\"data row11 col26\" >0</td>\n",
       "      <td id=\"T_0a468_row11_col27\" class=\"data row11 col27\" >0</td>\n",
       "    </tr>\n",
       "    <tr>\n",
       "      <th id=\"T_0a468_level0_row12\" class=\"row_heading level0 row12\" >12</th>\n",
       "      <td id=\"T_0a468_row12_col0\" class=\"data row12 col0\" >0</td>\n",
       "      <td id=\"T_0a468_row12_col1\" class=\"data row12 col1\" >0</td>\n",
       "      <td id=\"T_0a468_row12_col2\" class=\"data row12 col2\" >0</td>\n",
       "      <td id=\"T_0a468_row12_col3\" class=\"data row12 col3\" >0</td>\n",
       "      <td id=\"T_0a468_row12_col4\" class=\"data row12 col4\" >0</td>\n",
       "      <td id=\"T_0a468_row12_col5\" class=\"data row12 col5\" >0</td>\n",
       "      <td id=\"T_0a468_row12_col6\" class=\"data row12 col6\" >0</td>\n",
       "      <td id=\"T_0a468_row12_col7\" class=\"data row12 col7\" >0</td>\n",
       "      <td id=\"T_0a468_row12_col8\" class=\"data row12 col8\" >0</td>\n",
       "      <td id=\"T_0a468_row12_col9\" class=\"data row12 col9\" >0</td>\n",
       "      <td id=\"T_0a468_row12_col10\" class=\"data row12 col10\" >54</td>\n",
       "      <td id=\"T_0a468_row12_col11\" class=\"data row12 col11\" >251</td>\n",
       "      <td id=\"T_0a468_row12_col12\" class=\"data row12 col12\" >254</td>\n",
       "      <td id=\"T_0a468_row12_col13\" class=\"data row12 col13\" >254</td>\n",
       "      <td id=\"T_0a468_row12_col14\" class=\"data row12 col14\" >254</td>\n",
       "      <td id=\"T_0a468_row12_col15\" class=\"data row12 col15\" >248</td>\n",
       "      <td id=\"T_0a468_row12_col16\" class=\"data row12 col16\" >74</td>\n",
       "      <td id=\"T_0a468_row12_col17\" class=\"data row12 col17\" >5</td>\n",
       "      <td id=\"T_0a468_row12_col18\" class=\"data row12 col18\" >0</td>\n",
       "      <td id=\"T_0a468_row12_col19\" class=\"data row12 col19\" >0</td>\n",
       "      <td id=\"T_0a468_row12_col20\" class=\"data row12 col20\" >0</td>\n",
       "      <td id=\"T_0a468_row12_col21\" class=\"data row12 col21\" >0</td>\n",
       "      <td id=\"T_0a468_row12_col22\" class=\"data row12 col22\" >0</td>\n",
       "      <td id=\"T_0a468_row12_col23\" class=\"data row12 col23\" >0</td>\n",
       "      <td id=\"T_0a468_row12_col24\" class=\"data row12 col24\" >0</td>\n",
       "      <td id=\"T_0a468_row12_col25\" class=\"data row12 col25\" >0</td>\n",
       "      <td id=\"T_0a468_row12_col26\" class=\"data row12 col26\" >0</td>\n",
       "      <td id=\"T_0a468_row12_col27\" class=\"data row12 col27\" >0</td>\n",
       "    </tr>\n",
       "    <tr>\n",
       "      <th id=\"T_0a468_level0_row13\" class=\"row_heading level0 row13\" >13</th>\n",
       "      <td id=\"T_0a468_row13_col0\" class=\"data row13 col0\" >0</td>\n",
       "      <td id=\"T_0a468_row13_col1\" class=\"data row13 col1\" >0</td>\n",
       "      <td id=\"T_0a468_row13_col2\" class=\"data row13 col2\" >0</td>\n",
       "      <td id=\"T_0a468_row13_col3\" class=\"data row13 col3\" >0</td>\n",
       "      <td id=\"T_0a468_row13_col4\" class=\"data row13 col4\" >0</td>\n",
       "      <td id=\"T_0a468_row13_col5\" class=\"data row13 col5\" >0</td>\n",
       "      <td id=\"T_0a468_row13_col6\" class=\"data row13 col6\" >0</td>\n",
       "      <td id=\"T_0a468_row13_col7\" class=\"data row13 col7\" >0</td>\n",
       "      <td id=\"T_0a468_row13_col8\" class=\"data row13 col8\" >0</td>\n",
       "      <td id=\"T_0a468_row13_col9\" class=\"data row13 col9\" >0</td>\n",
       "      <td id=\"T_0a468_row13_col10\" class=\"data row13 col10\" >140</td>\n",
       "      <td id=\"T_0a468_row13_col11\" class=\"data row13 col11\" >254</td>\n",
       "      <td id=\"T_0a468_row13_col12\" class=\"data row13 col12\" >254</td>\n",
       "      <td id=\"T_0a468_row13_col13\" class=\"data row13 col13\" >254</td>\n",
       "      <td id=\"T_0a468_row13_col14\" class=\"data row13 col14\" >254</td>\n",
       "      <td id=\"T_0a468_row13_col15\" class=\"data row13 col15\" >254</td>\n",
       "      <td id=\"T_0a468_row13_col16\" class=\"data row13 col16\" >254</td>\n",
       "      <td id=\"T_0a468_row13_col17\" class=\"data row13 col17\" >202</td>\n",
       "      <td id=\"T_0a468_row13_col18\" class=\"data row13 col18\" >125</td>\n",
       "      <td id=\"T_0a468_row13_col19\" class=\"data row13 col19\" >45</td>\n",
       "      <td id=\"T_0a468_row13_col20\" class=\"data row13 col20\" >0</td>\n",
       "      <td id=\"T_0a468_row13_col21\" class=\"data row13 col21\" >0</td>\n",
       "      <td id=\"T_0a468_row13_col22\" class=\"data row13 col22\" >0</td>\n",
       "      <td id=\"T_0a468_row13_col23\" class=\"data row13 col23\" >0</td>\n",
       "      <td id=\"T_0a468_row13_col24\" class=\"data row13 col24\" >0</td>\n",
       "      <td id=\"T_0a468_row13_col25\" class=\"data row13 col25\" >0</td>\n",
       "      <td id=\"T_0a468_row13_col26\" class=\"data row13 col26\" >0</td>\n",
       "      <td id=\"T_0a468_row13_col27\" class=\"data row13 col27\" >0</td>\n",
       "    </tr>\n",
       "    <tr>\n",
       "      <th id=\"T_0a468_level0_row14\" class=\"row_heading level0 row14\" >14</th>\n",
       "      <td id=\"T_0a468_row14_col0\" class=\"data row14 col0\" >0</td>\n",
       "      <td id=\"T_0a468_row14_col1\" class=\"data row14 col1\" >0</td>\n",
       "      <td id=\"T_0a468_row14_col2\" class=\"data row14 col2\" >0</td>\n",
       "      <td id=\"T_0a468_row14_col3\" class=\"data row14 col3\" >0</td>\n",
       "      <td id=\"T_0a468_row14_col4\" class=\"data row14 col4\" >0</td>\n",
       "      <td id=\"T_0a468_row14_col5\" class=\"data row14 col5\" >0</td>\n",
       "      <td id=\"T_0a468_row14_col6\" class=\"data row14 col6\" >0</td>\n",
       "      <td id=\"T_0a468_row14_col7\" class=\"data row14 col7\" >0</td>\n",
       "      <td id=\"T_0a468_row14_col8\" class=\"data row14 col8\" >0</td>\n",
       "      <td id=\"T_0a468_row14_col9\" class=\"data row14 col9\" >0</td>\n",
       "      <td id=\"T_0a468_row14_col10\" class=\"data row14 col10\" >58</td>\n",
       "      <td id=\"T_0a468_row14_col11\" class=\"data row14 col11\" >181</td>\n",
       "      <td id=\"T_0a468_row14_col12\" class=\"data row14 col12\" >234</td>\n",
       "      <td id=\"T_0a468_row14_col13\" class=\"data row14 col13\" >254</td>\n",
       "      <td id=\"T_0a468_row14_col14\" class=\"data row14 col14\" >254</td>\n",
       "      <td id=\"T_0a468_row14_col15\" class=\"data row14 col15\" >254</td>\n",
       "      <td id=\"T_0a468_row14_col16\" class=\"data row14 col16\" >254</td>\n",
       "      <td id=\"T_0a468_row14_col17\" class=\"data row14 col17\" >254</td>\n",
       "      <td id=\"T_0a468_row14_col18\" class=\"data row14 col18\" >254</td>\n",
       "      <td id=\"T_0a468_row14_col19\" class=\"data row14 col19\" >252</td>\n",
       "      <td id=\"T_0a468_row14_col20\" class=\"data row14 col20\" >140</td>\n",
       "      <td id=\"T_0a468_row14_col21\" class=\"data row14 col21\" >22</td>\n",
       "      <td id=\"T_0a468_row14_col22\" class=\"data row14 col22\" >0</td>\n",
       "      <td id=\"T_0a468_row14_col23\" class=\"data row14 col23\" >0</td>\n",
       "      <td id=\"T_0a468_row14_col24\" class=\"data row14 col24\" >0</td>\n",
       "      <td id=\"T_0a468_row14_col25\" class=\"data row14 col25\" >0</td>\n",
       "      <td id=\"T_0a468_row14_col26\" class=\"data row14 col26\" >0</td>\n",
       "      <td id=\"T_0a468_row14_col27\" class=\"data row14 col27\" >0</td>\n",
       "    </tr>\n",
       "    <tr>\n",
       "      <th id=\"T_0a468_level0_row15\" class=\"row_heading level0 row15\" >15</th>\n",
       "      <td id=\"T_0a468_row15_col0\" class=\"data row15 col0\" >0</td>\n",
       "      <td id=\"T_0a468_row15_col1\" class=\"data row15 col1\" >0</td>\n",
       "      <td id=\"T_0a468_row15_col2\" class=\"data row15 col2\" >0</td>\n",
       "      <td id=\"T_0a468_row15_col3\" class=\"data row15 col3\" >0</td>\n",
       "      <td id=\"T_0a468_row15_col4\" class=\"data row15 col4\" >0</td>\n",
       "      <td id=\"T_0a468_row15_col5\" class=\"data row15 col5\" >0</td>\n",
       "      <td id=\"T_0a468_row15_col6\" class=\"data row15 col6\" >0</td>\n",
       "      <td id=\"T_0a468_row15_col7\" class=\"data row15 col7\" >0</td>\n",
       "      <td id=\"T_0a468_row15_col8\" class=\"data row15 col8\" >0</td>\n",
       "      <td id=\"T_0a468_row15_col9\" class=\"data row15 col9\" >0</td>\n",
       "      <td id=\"T_0a468_row15_col10\" class=\"data row15 col10\" >0</td>\n",
       "      <td id=\"T_0a468_row15_col11\" class=\"data row15 col11\" >0</td>\n",
       "      <td id=\"T_0a468_row15_col12\" class=\"data row15 col12\" >30</td>\n",
       "      <td id=\"T_0a468_row15_col13\" class=\"data row15 col13\" >50</td>\n",
       "      <td id=\"T_0a468_row15_col14\" class=\"data row15 col14\" >73</td>\n",
       "      <td id=\"T_0a468_row15_col15\" class=\"data row15 col15\" >155</td>\n",
       "      <td id=\"T_0a468_row15_col16\" class=\"data row15 col16\" >253</td>\n",
       "      <td id=\"T_0a468_row15_col17\" class=\"data row15 col17\" >254</td>\n",
       "      <td id=\"T_0a468_row15_col18\" class=\"data row15 col18\" >254</td>\n",
       "      <td id=\"T_0a468_row15_col19\" class=\"data row15 col19\" >254</td>\n",
       "      <td id=\"T_0a468_row15_col20\" class=\"data row15 col20\" >254</td>\n",
       "      <td id=\"T_0a468_row15_col21\" class=\"data row15 col21\" >191</td>\n",
       "      <td id=\"T_0a468_row15_col22\" class=\"data row15 col22\" >2</td>\n",
       "      <td id=\"T_0a468_row15_col23\" class=\"data row15 col23\" >0</td>\n",
       "      <td id=\"T_0a468_row15_col24\" class=\"data row15 col24\" >0</td>\n",
       "      <td id=\"T_0a468_row15_col25\" class=\"data row15 col25\" >0</td>\n",
       "      <td id=\"T_0a468_row15_col26\" class=\"data row15 col26\" >0</td>\n",
       "      <td id=\"T_0a468_row15_col27\" class=\"data row15 col27\" >0</td>\n",
       "    </tr>\n",
       "    <tr>\n",
       "      <th id=\"T_0a468_level0_row16\" class=\"row_heading level0 row16\" >16</th>\n",
       "      <td id=\"T_0a468_row16_col0\" class=\"data row16 col0\" >0</td>\n",
       "      <td id=\"T_0a468_row16_col1\" class=\"data row16 col1\" >0</td>\n",
       "      <td id=\"T_0a468_row16_col2\" class=\"data row16 col2\" >0</td>\n",
       "      <td id=\"T_0a468_row16_col3\" class=\"data row16 col3\" >0</td>\n",
       "      <td id=\"T_0a468_row16_col4\" class=\"data row16 col4\" >0</td>\n",
       "      <td id=\"T_0a468_row16_col5\" class=\"data row16 col5\" >0</td>\n",
       "      <td id=\"T_0a468_row16_col6\" class=\"data row16 col6\" >0</td>\n",
       "      <td id=\"T_0a468_row16_col7\" class=\"data row16 col7\" >0</td>\n",
       "      <td id=\"T_0a468_row16_col8\" class=\"data row16 col8\" >0</td>\n",
       "      <td id=\"T_0a468_row16_col9\" class=\"data row16 col9\" >0</td>\n",
       "      <td id=\"T_0a468_row16_col10\" class=\"data row16 col10\" >0</td>\n",
       "      <td id=\"T_0a468_row16_col11\" class=\"data row16 col11\" >0</td>\n",
       "      <td id=\"T_0a468_row16_col12\" class=\"data row16 col12\" >0</td>\n",
       "      <td id=\"T_0a468_row16_col13\" class=\"data row16 col13\" >0</td>\n",
       "      <td id=\"T_0a468_row16_col14\" class=\"data row16 col14\" >0</td>\n",
       "      <td id=\"T_0a468_row16_col15\" class=\"data row16 col15\" >0</td>\n",
       "      <td id=\"T_0a468_row16_col16\" class=\"data row16 col16\" >91</td>\n",
       "      <td id=\"T_0a468_row16_col17\" class=\"data row16 col17\" >200</td>\n",
       "      <td id=\"T_0a468_row16_col18\" class=\"data row16 col18\" >254</td>\n",
       "      <td id=\"T_0a468_row16_col19\" class=\"data row16 col19\" >254</td>\n",
       "      <td id=\"T_0a468_row16_col20\" class=\"data row16 col20\" >254</td>\n",
       "      <td id=\"T_0a468_row16_col21\" class=\"data row16 col21\" >254</td>\n",
       "      <td id=\"T_0a468_row16_col22\" class=\"data row16 col22\" >118</td>\n",
       "      <td id=\"T_0a468_row16_col23\" class=\"data row16 col23\" >0</td>\n",
       "      <td id=\"T_0a468_row16_col24\" class=\"data row16 col24\" >0</td>\n",
       "      <td id=\"T_0a468_row16_col25\" class=\"data row16 col25\" >0</td>\n",
       "      <td id=\"T_0a468_row16_col26\" class=\"data row16 col26\" >0</td>\n",
       "      <td id=\"T_0a468_row16_col27\" class=\"data row16 col27\" >0</td>\n",
       "    </tr>\n",
       "    <tr>\n",
       "      <th id=\"T_0a468_level0_row17\" class=\"row_heading level0 row17\" >17</th>\n",
       "      <td id=\"T_0a468_row17_col0\" class=\"data row17 col0\" >0</td>\n",
       "      <td id=\"T_0a468_row17_col1\" class=\"data row17 col1\" >0</td>\n",
       "      <td id=\"T_0a468_row17_col2\" class=\"data row17 col2\" >0</td>\n",
       "      <td id=\"T_0a468_row17_col3\" class=\"data row17 col3\" >0</td>\n",
       "      <td id=\"T_0a468_row17_col4\" class=\"data row17 col4\" >0</td>\n",
       "      <td id=\"T_0a468_row17_col5\" class=\"data row17 col5\" >0</td>\n",
       "      <td id=\"T_0a468_row17_col6\" class=\"data row17 col6\" >0</td>\n",
       "      <td id=\"T_0a468_row17_col7\" class=\"data row17 col7\" >0</td>\n",
       "      <td id=\"T_0a468_row17_col8\" class=\"data row17 col8\" >0</td>\n",
       "      <td id=\"T_0a468_row17_col9\" class=\"data row17 col9\" >0</td>\n",
       "      <td id=\"T_0a468_row17_col10\" class=\"data row17 col10\" >0</td>\n",
       "      <td id=\"T_0a468_row17_col11\" class=\"data row17 col11\" >0</td>\n",
       "      <td id=\"T_0a468_row17_col12\" class=\"data row17 col12\" >0</td>\n",
       "      <td id=\"T_0a468_row17_col13\" class=\"data row17 col13\" >0</td>\n",
       "      <td id=\"T_0a468_row17_col14\" class=\"data row17 col14\" >0</td>\n",
       "      <td id=\"T_0a468_row17_col15\" class=\"data row17 col15\" >0</td>\n",
       "      <td id=\"T_0a468_row17_col16\" class=\"data row17 col16\" >0</td>\n",
       "      <td id=\"T_0a468_row17_col17\" class=\"data row17 col17\" >4</td>\n",
       "      <td id=\"T_0a468_row17_col18\" class=\"data row17 col18\" >192</td>\n",
       "      <td id=\"T_0a468_row17_col19\" class=\"data row17 col19\" >254</td>\n",
       "      <td id=\"T_0a468_row17_col20\" class=\"data row17 col20\" >254</td>\n",
       "      <td id=\"T_0a468_row17_col21\" class=\"data row17 col21\" >254</td>\n",
       "      <td id=\"T_0a468_row17_col22\" class=\"data row17 col22\" >154</td>\n",
       "      <td id=\"T_0a468_row17_col23\" class=\"data row17 col23\" >0</td>\n",
       "      <td id=\"T_0a468_row17_col24\" class=\"data row17 col24\" >0</td>\n",
       "      <td id=\"T_0a468_row17_col25\" class=\"data row17 col25\" >0</td>\n",
       "      <td id=\"T_0a468_row17_col26\" class=\"data row17 col26\" >0</td>\n",
       "      <td id=\"T_0a468_row17_col27\" class=\"data row17 col27\" >0</td>\n",
       "    </tr>\n",
       "    <tr>\n",
       "      <th id=\"T_0a468_level0_row18\" class=\"row_heading level0 row18\" >18</th>\n",
       "      <td id=\"T_0a468_row18_col0\" class=\"data row18 col0\" >0</td>\n",
       "      <td id=\"T_0a468_row18_col1\" class=\"data row18 col1\" >0</td>\n",
       "      <td id=\"T_0a468_row18_col2\" class=\"data row18 col2\" >0</td>\n",
       "      <td id=\"T_0a468_row18_col3\" class=\"data row18 col3\" >0</td>\n",
       "      <td id=\"T_0a468_row18_col4\" class=\"data row18 col4\" >0</td>\n",
       "      <td id=\"T_0a468_row18_col5\" class=\"data row18 col5\" >0</td>\n",
       "      <td id=\"T_0a468_row18_col6\" class=\"data row18 col6\" >0</td>\n",
       "      <td id=\"T_0a468_row18_col7\" class=\"data row18 col7\" >0</td>\n",
       "      <td id=\"T_0a468_row18_col8\" class=\"data row18 col8\" >0</td>\n",
       "      <td id=\"T_0a468_row18_col9\" class=\"data row18 col9\" >0</td>\n",
       "      <td id=\"T_0a468_row18_col10\" class=\"data row18 col10\" >0</td>\n",
       "      <td id=\"T_0a468_row18_col11\" class=\"data row18 col11\" >0</td>\n",
       "      <td id=\"T_0a468_row18_col12\" class=\"data row18 col12\" >0</td>\n",
       "      <td id=\"T_0a468_row18_col13\" class=\"data row18 col13\" >0</td>\n",
       "      <td id=\"T_0a468_row18_col14\" class=\"data row18 col14\" >0</td>\n",
       "      <td id=\"T_0a468_row18_col15\" class=\"data row18 col15\" >0</td>\n",
       "      <td id=\"T_0a468_row18_col16\" class=\"data row18 col16\" >0</td>\n",
       "      <td id=\"T_0a468_row18_col17\" class=\"data row18 col17\" >0</td>\n",
       "      <td id=\"T_0a468_row18_col18\" class=\"data row18 col18\" >141</td>\n",
       "      <td id=\"T_0a468_row18_col19\" class=\"data row18 col19\" >254</td>\n",
       "      <td id=\"T_0a468_row18_col20\" class=\"data row18 col20\" >254</td>\n",
       "      <td id=\"T_0a468_row18_col21\" class=\"data row18 col21\" >254</td>\n",
       "      <td id=\"T_0a468_row18_col22\" class=\"data row18 col22\" >116</td>\n",
       "      <td id=\"T_0a468_row18_col23\" class=\"data row18 col23\" >0</td>\n",
       "      <td id=\"T_0a468_row18_col24\" class=\"data row18 col24\" >0</td>\n",
       "      <td id=\"T_0a468_row18_col25\" class=\"data row18 col25\" >0</td>\n",
       "      <td id=\"T_0a468_row18_col26\" class=\"data row18 col26\" >0</td>\n",
       "      <td id=\"T_0a468_row18_col27\" class=\"data row18 col27\" >0</td>\n",
       "    </tr>\n",
       "    <tr>\n",
       "      <th id=\"T_0a468_level0_row19\" class=\"row_heading level0 row19\" >19</th>\n",
       "      <td id=\"T_0a468_row19_col0\" class=\"data row19 col0\" >0</td>\n",
       "      <td id=\"T_0a468_row19_col1\" class=\"data row19 col1\" >0</td>\n",
       "      <td id=\"T_0a468_row19_col2\" class=\"data row19 col2\" >0</td>\n",
       "      <td id=\"T_0a468_row19_col3\" class=\"data row19 col3\" >0</td>\n",
       "      <td id=\"T_0a468_row19_col4\" class=\"data row19 col4\" >0</td>\n",
       "      <td id=\"T_0a468_row19_col5\" class=\"data row19 col5\" >0</td>\n",
       "      <td id=\"T_0a468_row19_col6\" class=\"data row19 col6\" >0</td>\n",
       "      <td id=\"T_0a468_row19_col7\" class=\"data row19 col7\" >0</td>\n",
       "      <td id=\"T_0a468_row19_col8\" class=\"data row19 col8\" >25</td>\n",
       "      <td id=\"T_0a468_row19_col9\" class=\"data row19 col9\" >126</td>\n",
       "      <td id=\"T_0a468_row19_col10\" class=\"data row19 col10\" >86</td>\n",
       "      <td id=\"T_0a468_row19_col11\" class=\"data row19 col11\" >0</td>\n",
       "      <td id=\"T_0a468_row19_col12\" class=\"data row19 col12\" >0</td>\n",
       "      <td id=\"T_0a468_row19_col13\" class=\"data row19 col13\" >0</td>\n",
       "      <td id=\"T_0a468_row19_col14\" class=\"data row19 col14\" >0</td>\n",
       "      <td id=\"T_0a468_row19_col15\" class=\"data row19 col15\" >0</td>\n",
       "      <td id=\"T_0a468_row19_col16\" class=\"data row19 col16\" >0</td>\n",
       "      <td id=\"T_0a468_row19_col17\" class=\"data row19 col17\" >3</td>\n",
       "      <td id=\"T_0a468_row19_col18\" class=\"data row19 col18\" >188</td>\n",
       "      <td id=\"T_0a468_row19_col19\" class=\"data row19 col19\" >254</td>\n",
       "      <td id=\"T_0a468_row19_col20\" class=\"data row19 col20\" >254</td>\n",
       "      <td id=\"T_0a468_row19_col21\" class=\"data row19 col21\" >250</td>\n",
       "      <td id=\"T_0a468_row19_col22\" class=\"data row19 col22\" >61</td>\n",
       "      <td id=\"T_0a468_row19_col23\" class=\"data row19 col23\" >0</td>\n",
       "      <td id=\"T_0a468_row19_col24\" class=\"data row19 col24\" >0</td>\n",
       "      <td id=\"T_0a468_row19_col25\" class=\"data row19 col25\" >0</td>\n",
       "      <td id=\"T_0a468_row19_col26\" class=\"data row19 col26\" >0</td>\n",
       "      <td id=\"T_0a468_row19_col27\" class=\"data row19 col27\" >0</td>\n",
       "    </tr>\n",
       "    <tr>\n",
       "      <th id=\"T_0a468_level0_row20\" class=\"row_heading level0 row20\" >20</th>\n",
       "      <td id=\"T_0a468_row20_col0\" class=\"data row20 col0\" >0</td>\n",
       "      <td id=\"T_0a468_row20_col1\" class=\"data row20 col1\" >0</td>\n",
       "      <td id=\"T_0a468_row20_col2\" class=\"data row20 col2\" >0</td>\n",
       "      <td id=\"T_0a468_row20_col3\" class=\"data row20 col3\" >0</td>\n",
       "      <td id=\"T_0a468_row20_col4\" class=\"data row20 col4\" >0</td>\n",
       "      <td id=\"T_0a468_row20_col5\" class=\"data row20 col5\" >0</td>\n",
       "      <td id=\"T_0a468_row20_col6\" class=\"data row20 col6\" >0</td>\n",
       "      <td id=\"T_0a468_row20_col7\" class=\"data row20 col7\" >24</td>\n",
       "      <td id=\"T_0a468_row20_col8\" class=\"data row20 col8\" >209</td>\n",
       "      <td id=\"T_0a468_row20_col9\" class=\"data row20 col9\" >254</td>\n",
       "      <td id=\"T_0a468_row20_col10\" class=\"data row20 col10\" >15</td>\n",
       "      <td id=\"T_0a468_row20_col11\" class=\"data row20 col11\" >0</td>\n",
       "      <td id=\"T_0a468_row20_col12\" class=\"data row20 col12\" >0</td>\n",
       "      <td id=\"T_0a468_row20_col13\" class=\"data row20 col13\" >0</td>\n",
       "      <td id=\"T_0a468_row20_col14\" class=\"data row20 col14\" >0</td>\n",
       "      <td id=\"T_0a468_row20_col15\" class=\"data row20 col15\" >0</td>\n",
       "      <td id=\"T_0a468_row20_col16\" class=\"data row20 col16\" >23</td>\n",
       "      <td id=\"T_0a468_row20_col17\" class=\"data row20 col17\" >137</td>\n",
       "      <td id=\"T_0a468_row20_col18\" class=\"data row20 col18\" >254</td>\n",
       "      <td id=\"T_0a468_row20_col19\" class=\"data row20 col19\" >254</td>\n",
       "      <td id=\"T_0a468_row20_col20\" class=\"data row20 col20\" >254</td>\n",
       "      <td id=\"T_0a468_row20_col21\" class=\"data row20 col21\" >209</td>\n",
       "      <td id=\"T_0a468_row20_col22\" class=\"data row20 col22\" >0</td>\n",
       "      <td id=\"T_0a468_row20_col23\" class=\"data row20 col23\" >0</td>\n",
       "      <td id=\"T_0a468_row20_col24\" class=\"data row20 col24\" >0</td>\n",
       "      <td id=\"T_0a468_row20_col25\" class=\"data row20 col25\" >0</td>\n",
       "      <td id=\"T_0a468_row20_col26\" class=\"data row20 col26\" >0</td>\n",
       "      <td id=\"T_0a468_row20_col27\" class=\"data row20 col27\" >0</td>\n",
       "    </tr>\n",
       "    <tr>\n",
       "      <th id=\"T_0a468_level0_row21\" class=\"row_heading level0 row21\" >21</th>\n",
       "      <td id=\"T_0a468_row21_col0\" class=\"data row21 col0\" >0</td>\n",
       "      <td id=\"T_0a468_row21_col1\" class=\"data row21 col1\" >0</td>\n",
       "      <td id=\"T_0a468_row21_col2\" class=\"data row21 col2\" >0</td>\n",
       "      <td id=\"T_0a468_row21_col3\" class=\"data row21 col3\" >0</td>\n",
       "      <td id=\"T_0a468_row21_col4\" class=\"data row21 col4\" >0</td>\n",
       "      <td id=\"T_0a468_row21_col5\" class=\"data row21 col5\" >0</td>\n",
       "      <td id=\"T_0a468_row21_col6\" class=\"data row21 col6\" >0</td>\n",
       "      <td id=\"T_0a468_row21_col7\" class=\"data row21 col7\" >168</td>\n",
       "      <td id=\"T_0a468_row21_col8\" class=\"data row21 col8\" >254</td>\n",
       "      <td id=\"T_0a468_row21_col9\" class=\"data row21 col9\" >254</td>\n",
       "      <td id=\"T_0a468_row21_col10\" class=\"data row21 col10\" >48</td>\n",
       "      <td id=\"T_0a468_row21_col11\" class=\"data row21 col11\" >9</td>\n",
       "      <td id=\"T_0a468_row21_col12\" class=\"data row21 col12\" >0</td>\n",
       "      <td id=\"T_0a468_row21_col13\" class=\"data row21 col13\" >0</td>\n",
       "      <td id=\"T_0a468_row21_col14\" class=\"data row21 col14\" >9</td>\n",
       "      <td id=\"T_0a468_row21_col15\" class=\"data row21 col15\" >127</td>\n",
       "      <td id=\"T_0a468_row21_col16\" class=\"data row21 col16\" >241</td>\n",
       "      <td id=\"T_0a468_row21_col17\" class=\"data row21 col17\" >254</td>\n",
       "      <td id=\"T_0a468_row21_col18\" class=\"data row21 col18\" >254</td>\n",
       "      <td id=\"T_0a468_row21_col19\" class=\"data row21 col19\" >255</td>\n",
       "      <td id=\"T_0a468_row21_col20\" class=\"data row21 col20\" >242</td>\n",
       "      <td id=\"T_0a468_row21_col21\" class=\"data row21 col21\" >63</td>\n",
       "      <td id=\"T_0a468_row21_col22\" class=\"data row21 col22\" >0</td>\n",
       "      <td id=\"T_0a468_row21_col23\" class=\"data row21 col23\" >0</td>\n",
       "      <td id=\"T_0a468_row21_col24\" class=\"data row21 col24\" >0</td>\n",
       "      <td id=\"T_0a468_row21_col25\" class=\"data row21 col25\" >0</td>\n",
       "      <td id=\"T_0a468_row21_col26\" class=\"data row21 col26\" >0</td>\n",
       "      <td id=\"T_0a468_row21_col27\" class=\"data row21 col27\" >0</td>\n",
       "    </tr>\n",
       "    <tr>\n",
       "      <th id=\"T_0a468_level0_row22\" class=\"row_heading level0 row22\" >22</th>\n",
       "      <td id=\"T_0a468_row22_col0\" class=\"data row22 col0\" >0</td>\n",
       "      <td id=\"T_0a468_row22_col1\" class=\"data row22 col1\" >0</td>\n",
       "      <td id=\"T_0a468_row22_col2\" class=\"data row22 col2\" >0</td>\n",
       "      <td id=\"T_0a468_row22_col3\" class=\"data row22 col3\" >0</td>\n",
       "      <td id=\"T_0a468_row22_col4\" class=\"data row22 col4\" >0</td>\n",
       "      <td id=\"T_0a468_row22_col5\" class=\"data row22 col5\" >0</td>\n",
       "      <td id=\"T_0a468_row22_col6\" class=\"data row22 col6\" >0</td>\n",
       "      <td id=\"T_0a468_row22_col7\" class=\"data row22 col7\" >101</td>\n",
       "      <td id=\"T_0a468_row22_col8\" class=\"data row22 col8\" >254</td>\n",
       "      <td id=\"T_0a468_row22_col9\" class=\"data row22 col9\" >254</td>\n",
       "      <td id=\"T_0a468_row22_col10\" class=\"data row22 col10\" >254</td>\n",
       "      <td id=\"T_0a468_row22_col11\" class=\"data row22 col11\" >205</td>\n",
       "      <td id=\"T_0a468_row22_col12\" class=\"data row22 col12\" >190</td>\n",
       "      <td id=\"T_0a468_row22_col13\" class=\"data row22 col13\" >190</td>\n",
       "      <td id=\"T_0a468_row22_col14\" class=\"data row22 col14\" >205</td>\n",
       "      <td id=\"T_0a468_row22_col15\" class=\"data row22 col15\" >254</td>\n",
       "      <td id=\"T_0a468_row22_col16\" class=\"data row22 col16\" >254</td>\n",
       "      <td id=\"T_0a468_row22_col17\" class=\"data row22 col17\" >254</td>\n",
       "      <td id=\"T_0a468_row22_col18\" class=\"data row22 col18\" >254</td>\n",
       "      <td id=\"T_0a468_row22_col19\" class=\"data row22 col19\" >242</td>\n",
       "      <td id=\"T_0a468_row22_col20\" class=\"data row22 col20\" >67</td>\n",
       "      <td id=\"T_0a468_row22_col21\" class=\"data row22 col21\" >0</td>\n",
       "      <td id=\"T_0a468_row22_col22\" class=\"data row22 col22\" >0</td>\n",
       "      <td id=\"T_0a468_row22_col23\" class=\"data row22 col23\" >0</td>\n",
       "      <td id=\"T_0a468_row22_col24\" class=\"data row22 col24\" >0</td>\n",
       "      <td id=\"T_0a468_row22_col25\" class=\"data row22 col25\" >0</td>\n",
       "      <td id=\"T_0a468_row22_col26\" class=\"data row22 col26\" >0</td>\n",
       "      <td id=\"T_0a468_row22_col27\" class=\"data row22 col27\" >0</td>\n",
       "    </tr>\n",
       "    <tr>\n",
       "      <th id=\"T_0a468_level0_row23\" class=\"row_heading level0 row23\" >23</th>\n",
       "      <td id=\"T_0a468_row23_col0\" class=\"data row23 col0\" >0</td>\n",
       "      <td id=\"T_0a468_row23_col1\" class=\"data row23 col1\" >0</td>\n",
       "      <td id=\"T_0a468_row23_col2\" class=\"data row23 col2\" >0</td>\n",
       "      <td id=\"T_0a468_row23_col3\" class=\"data row23 col3\" >0</td>\n",
       "      <td id=\"T_0a468_row23_col4\" class=\"data row23 col4\" >0</td>\n",
       "      <td id=\"T_0a468_row23_col5\" class=\"data row23 col5\" >0</td>\n",
       "      <td id=\"T_0a468_row23_col6\" class=\"data row23 col6\" >0</td>\n",
       "      <td id=\"T_0a468_row23_col7\" class=\"data row23 col7\" >33</td>\n",
       "      <td id=\"T_0a468_row23_col8\" class=\"data row23 col8\" >166</td>\n",
       "      <td id=\"T_0a468_row23_col9\" class=\"data row23 col9\" >254</td>\n",
       "      <td id=\"T_0a468_row23_col10\" class=\"data row23 col10\" >254</td>\n",
       "      <td id=\"T_0a468_row23_col11\" class=\"data row23 col11\" >254</td>\n",
       "      <td id=\"T_0a468_row23_col12\" class=\"data row23 col12\" >254</td>\n",
       "      <td id=\"T_0a468_row23_col13\" class=\"data row23 col13\" >254</td>\n",
       "      <td id=\"T_0a468_row23_col14\" class=\"data row23 col14\" >254</td>\n",
       "      <td id=\"T_0a468_row23_col15\" class=\"data row23 col15\" >254</td>\n",
       "      <td id=\"T_0a468_row23_col16\" class=\"data row23 col16\" >254</td>\n",
       "      <td id=\"T_0a468_row23_col17\" class=\"data row23 col17\" >250</td>\n",
       "      <td id=\"T_0a468_row23_col18\" class=\"data row23 col18\" >138</td>\n",
       "      <td id=\"T_0a468_row23_col19\" class=\"data row23 col19\" >55</td>\n",
       "      <td id=\"T_0a468_row23_col20\" class=\"data row23 col20\" >0</td>\n",
       "      <td id=\"T_0a468_row23_col21\" class=\"data row23 col21\" >0</td>\n",
       "      <td id=\"T_0a468_row23_col22\" class=\"data row23 col22\" >0</td>\n",
       "      <td id=\"T_0a468_row23_col23\" class=\"data row23 col23\" >0</td>\n",
       "      <td id=\"T_0a468_row23_col24\" class=\"data row23 col24\" >0</td>\n",
       "      <td id=\"T_0a468_row23_col25\" class=\"data row23 col25\" >0</td>\n",
       "      <td id=\"T_0a468_row23_col26\" class=\"data row23 col26\" >0</td>\n",
       "      <td id=\"T_0a468_row23_col27\" class=\"data row23 col27\" >0</td>\n",
       "    </tr>\n",
       "    <tr>\n",
       "      <th id=\"T_0a468_level0_row24\" class=\"row_heading level0 row24\" >24</th>\n",
       "      <td id=\"T_0a468_row24_col0\" class=\"data row24 col0\" >0</td>\n",
       "      <td id=\"T_0a468_row24_col1\" class=\"data row24 col1\" >0</td>\n",
       "      <td id=\"T_0a468_row24_col2\" class=\"data row24 col2\" >0</td>\n",
       "      <td id=\"T_0a468_row24_col3\" class=\"data row24 col3\" >0</td>\n",
       "      <td id=\"T_0a468_row24_col4\" class=\"data row24 col4\" >0</td>\n",
       "      <td id=\"T_0a468_row24_col5\" class=\"data row24 col5\" >0</td>\n",
       "      <td id=\"T_0a468_row24_col6\" class=\"data row24 col6\" >0</td>\n",
       "      <td id=\"T_0a468_row24_col7\" class=\"data row24 col7\" >0</td>\n",
       "      <td id=\"T_0a468_row24_col8\" class=\"data row24 col8\" >7</td>\n",
       "      <td id=\"T_0a468_row24_col9\" class=\"data row24 col9\" >88</td>\n",
       "      <td id=\"T_0a468_row24_col10\" class=\"data row24 col10\" >154</td>\n",
       "      <td id=\"T_0a468_row24_col11\" class=\"data row24 col11\" >116</td>\n",
       "      <td id=\"T_0a468_row24_col12\" class=\"data row24 col12\" >194</td>\n",
       "      <td id=\"T_0a468_row24_col13\" class=\"data row24 col13\" >194</td>\n",
       "      <td id=\"T_0a468_row24_col14\" class=\"data row24 col14\" >154</td>\n",
       "      <td id=\"T_0a468_row24_col15\" class=\"data row24 col15\" >154</td>\n",
       "      <td id=\"T_0a468_row24_col16\" class=\"data row24 col16\" >88</td>\n",
       "      <td id=\"T_0a468_row24_col17\" class=\"data row24 col17\" >49</td>\n",
       "      <td id=\"T_0a468_row24_col18\" class=\"data row24 col18\" >0</td>\n",
       "      <td id=\"T_0a468_row24_col19\" class=\"data row24 col19\" >0</td>\n",
       "      <td id=\"T_0a468_row24_col20\" class=\"data row24 col20\" >0</td>\n",
       "      <td id=\"T_0a468_row24_col21\" class=\"data row24 col21\" >0</td>\n",
       "      <td id=\"T_0a468_row24_col22\" class=\"data row24 col22\" >0</td>\n",
       "      <td id=\"T_0a468_row24_col23\" class=\"data row24 col23\" >0</td>\n",
       "      <td id=\"T_0a468_row24_col24\" class=\"data row24 col24\" >0</td>\n",
       "      <td id=\"T_0a468_row24_col25\" class=\"data row24 col25\" >0</td>\n",
       "      <td id=\"T_0a468_row24_col26\" class=\"data row24 col26\" >0</td>\n",
       "      <td id=\"T_0a468_row24_col27\" class=\"data row24 col27\" >0</td>\n",
       "    </tr>\n",
       "    <tr>\n",
       "      <th id=\"T_0a468_level0_row25\" class=\"row_heading level0 row25\" >25</th>\n",
       "      <td id=\"T_0a468_row25_col0\" class=\"data row25 col0\" >0</td>\n",
       "      <td id=\"T_0a468_row25_col1\" class=\"data row25 col1\" >0</td>\n",
       "      <td id=\"T_0a468_row25_col2\" class=\"data row25 col2\" >0</td>\n",
       "      <td id=\"T_0a468_row25_col3\" class=\"data row25 col3\" >0</td>\n",
       "      <td id=\"T_0a468_row25_col4\" class=\"data row25 col4\" >0</td>\n",
       "      <td id=\"T_0a468_row25_col5\" class=\"data row25 col5\" >0</td>\n",
       "      <td id=\"T_0a468_row25_col6\" class=\"data row25 col6\" >0</td>\n",
       "      <td id=\"T_0a468_row25_col7\" class=\"data row25 col7\" >0</td>\n",
       "      <td id=\"T_0a468_row25_col8\" class=\"data row25 col8\" >0</td>\n",
       "      <td id=\"T_0a468_row25_col9\" class=\"data row25 col9\" >0</td>\n",
       "      <td id=\"T_0a468_row25_col10\" class=\"data row25 col10\" >0</td>\n",
       "      <td id=\"T_0a468_row25_col11\" class=\"data row25 col11\" >0</td>\n",
       "      <td id=\"T_0a468_row25_col12\" class=\"data row25 col12\" >0</td>\n",
       "      <td id=\"T_0a468_row25_col13\" class=\"data row25 col13\" >0</td>\n",
       "      <td id=\"T_0a468_row25_col14\" class=\"data row25 col14\" >0</td>\n",
       "      <td id=\"T_0a468_row25_col15\" class=\"data row25 col15\" >0</td>\n",
       "      <td id=\"T_0a468_row25_col16\" class=\"data row25 col16\" >0</td>\n",
       "      <td id=\"T_0a468_row25_col17\" class=\"data row25 col17\" >0</td>\n",
       "      <td id=\"T_0a468_row25_col18\" class=\"data row25 col18\" >0</td>\n",
       "      <td id=\"T_0a468_row25_col19\" class=\"data row25 col19\" >0</td>\n",
       "      <td id=\"T_0a468_row25_col20\" class=\"data row25 col20\" >0</td>\n",
       "      <td id=\"T_0a468_row25_col21\" class=\"data row25 col21\" >0</td>\n",
       "      <td id=\"T_0a468_row25_col22\" class=\"data row25 col22\" >0</td>\n",
       "      <td id=\"T_0a468_row25_col23\" class=\"data row25 col23\" >0</td>\n",
       "      <td id=\"T_0a468_row25_col24\" class=\"data row25 col24\" >0</td>\n",
       "      <td id=\"T_0a468_row25_col25\" class=\"data row25 col25\" >0</td>\n",
       "      <td id=\"T_0a468_row25_col26\" class=\"data row25 col26\" >0</td>\n",
       "      <td id=\"T_0a468_row25_col27\" class=\"data row25 col27\" >0</td>\n",
       "    </tr>\n",
       "    <tr>\n",
       "      <th id=\"T_0a468_level0_row26\" class=\"row_heading level0 row26\" >26</th>\n",
       "      <td id=\"T_0a468_row26_col0\" class=\"data row26 col0\" >0</td>\n",
       "      <td id=\"T_0a468_row26_col1\" class=\"data row26 col1\" >0</td>\n",
       "      <td id=\"T_0a468_row26_col2\" class=\"data row26 col2\" >0</td>\n",
       "      <td id=\"T_0a468_row26_col3\" class=\"data row26 col3\" >0</td>\n",
       "      <td id=\"T_0a468_row26_col4\" class=\"data row26 col4\" >0</td>\n",
       "      <td id=\"T_0a468_row26_col5\" class=\"data row26 col5\" >0</td>\n",
       "      <td id=\"T_0a468_row26_col6\" class=\"data row26 col6\" >0</td>\n",
       "      <td id=\"T_0a468_row26_col7\" class=\"data row26 col7\" >0</td>\n",
       "      <td id=\"T_0a468_row26_col8\" class=\"data row26 col8\" >0</td>\n",
       "      <td id=\"T_0a468_row26_col9\" class=\"data row26 col9\" >0</td>\n",
       "      <td id=\"T_0a468_row26_col10\" class=\"data row26 col10\" >0</td>\n",
       "      <td id=\"T_0a468_row26_col11\" class=\"data row26 col11\" >0</td>\n",
       "      <td id=\"T_0a468_row26_col12\" class=\"data row26 col12\" >0</td>\n",
       "      <td id=\"T_0a468_row26_col13\" class=\"data row26 col13\" >0</td>\n",
       "      <td id=\"T_0a468_row26_col14\" class=\"data row26 col14\" >0</td>\n",
       "      <td id=\"T_0a468_row26_col15\" class=\"data row26 col15\" >0</td>\n",
       "      <td id=\"T_0a468_row26_col16\" class=\"data row26 col16\" >0</td>\n",
       "      <td id=\"T_0a468_row26_col17\" class=\"data row26 col17\" >0</td>\n",
       "      <td id=\"T_0a468_row26_col18\" class=\"data row26 col18\" >0</td>\n",
       "      <td id=\"T_0a468_row26_col19\" class=\"data row26 col19\" >0</td>\n",
       "      <td id=\"T_0a468_row26_col20\" class=\"data row26 col20\" >0</td>\n",
       "      <td id=\"T_0a468_row26_col21\" class=\"data row26 col21\" >0</td>\n",
       "      <td id=\"T_0a468_row26_col22\" class=\"data row26 col22\" >0</td>\n",
       "      <td id=\"T_0a468_row26_col23\" class=\"data row26 col23\" >0</td>\n",
       "      <td id=\"T_0a468_row26_col24\" class=\"data row26 col24\" >0</td>\n",
       "      <td id=\"T_0a468_row26_col25\" class=\"data row26 col25\" >0</td>\n",
       "      <td id=\"T_0a468_row26_col26\" class=\"data row26 col26\" >0</td>\n",
       "      <td id=\"T_0a468_row26_col27\" class=\"data row26 col27\" >0</td>\n",
       "    </tr>\n",
       "    <tr>\n",
       "      <th id=\"T_0a468_level0_row27\" class=\"row_heading level0 row27\" >27</th>\n",
       "      <td id=\"T_0a468_row27_col0\" class=\"data row27 col0\" >0</td>\n",
       "      <td id=\"T_0a468_row27_col1\" class=\"data row27 col1\" >0</td>\n",
       "      <td id=\"T_0a468_row27_col2\" class=\"data row27 col2\" >0</td>\n",
       "      <td id=\"T_0a468_row27_col3\" class=\"data row27 col3\" >0</td>\n",
       "      <td id=\"T_0a468_row27_col4\" class=\"data row27 col4\" >0</td>\n",
       "      <td id=\"T_0a468_row27_col5\" class=\"data row27 col5\" >0</td>\n",
       "      <td id=\"T_0a468_row27_col6\" class=\"data row27 col6\" >0</td>\n",
       "      <td id=\"T_0a468_row27_col7\" class=\"data row27 col7\" >0</td>\n",
       "      <td id=\"T_0a468_row27_col8\" class=\"data row27 col8\" >0</td>\n",
       "      <td id=\"T_0a468_row27_col9\" class=\"data row27 col9\" >0</td>\n",
       "      <td id=\"T_0a468_row27_col10\" class=\"data row27 col10\" >0</td>\n",
       "      <td id=\"T_0a468_row27_col11\" class=\"data row27 col11\" >0</td>\n",
       "      <td id=\"T_0a468_row27_col12\" class=\"data row27 col12\" >0</td>\n",
       "      <td id=\"T_0a468_row27_col13\" class=\"data row27 col13\" >0</td>\n",
       "      <td id=\"T_0a468_row27_col14\" class=\"data row27 col14\" >0</td>\n",
       "      <td id=\"T_0a468_row27_col15\" class=\"data row27 col15\" >0</td>\n",
       "      <td id=\"T_0a468_row27_col16\" class=\"data row27 col16\" >0</td>\n",
       "      <td id=\"T_0a468_row27_col17\" class=\"data row27 col17\" >0</td>\n",
       "      <td id=\"T_0a468_row27_col18\" class=\"data row27 col18\" >0</td>\n",
       "      <td id=\"T_0a468_row27_col19\" class=\"data row27 col19\" >0</td>\n",
       "      <td id=\"T_0a468_row27_col20\" class=\"data row27 col20\" >0</td>\n",
       "      <td id=\"T_0a468_row27_col21\" class=\"data row27 col21\" >0</td>\n",
       "      <td id=\"T_0a468_row27_col22\" class=\"data row27 col22\" >0</td>\n",
       "      <td id=\"T_0a468_row27_col23\" class=\"data row27 col23\" >0</td>\n",
       "      <td id=\"T_0a468_row27_col24\" class=\"data row27 col24\" >0</td>\n",
       "      <td id=\"T_0a468_row27_col25\" class=\"data row27 col25\" >0</td>\n",
       "      <td id=\"T_0a468_row27_col26\" class=\"data row27 col26\" >0</td>\n",
       "      <td id=\"T_0a468_row27_col27\" class=\"data row27 col27\" >0</td>\n",
       "    </tr>\n",
       "  </tbody>\n",
       "</table>\n"
      ],
      "text/plain": [
       "<pandas.io.formats.style.Styler at 0x7f8dd92fdd60>"
      ]
     },
     "execution_count": 23,
     "metadata": {},
     "output_type": "execute_result"
    }
   ],
   "source": [
    "pd.DataFrame(im).style.set_properties(**{'font-size':'6pt'}).background_gradient('Greys')"
   ]
  },
  {
   "cell_type": "code",
   "execution_count": 24,
   "id": "528e8332-70c4-4a83-ab7b-5f80e0d83a5c",
   "metadata": {},
   "outputs": [],
   "source": [
    "def apply_kernel3(im, row, col, kernel):\n",
    "    return (im[row-1:row+2,col-1:col+2]*kernel).sum()"
   ]
  },
  {
   "cell_type": "code",
   "execution_count": 29,
   "id": "3ea51017-7ab6-4bab-b1b3-5928478a72be",
   "metadata": {},
   "outputs": [],
   "source": [
    "def first_conv(im, kernel):\n",
    "    test_conv = tensor([[apply_kernel3(im, i, j, kernel) for j in range(1,27)] for i in range(1,27)])\n",
    "    return test_conv"
   ]
  },
  {
   "cell_type": "code",
   "execution_count": 31,
   "id": "23d5fc12-90f5-4015-8dfd-fbdee09b49cf",
   "metadata": {},
   "outputs": [
    {
     "data": {
      "text/plain": [
       "<AxesSubplot:>"
      ]
     },
     "execution_count": 31,
     "metadata": {},
     "output_type": "execute_result"
    },
    {
     "data": {
      "image/png": "[encoded data removed]",
      "text/plain": [
       "<Figure size 72x72 with 1 Axes>"
      ]
     },
     "metadata": {
      "needs_background": "light"
     },
     "output_type": "display_data"
    }
   ],
   "source": [
    "show_image(first_conv(im, sample_edge))"
   ]
  },
  {
   "cell_type": "code",
   "execution_count": 35,
   "id": "0e55bcec-93f4-4692-b2d4-794f492189e4",
   "metadata": {},
   "outputs": [
    {
     "data": {
      "text/plain": [
       "(#2) [Path('/root/.fastai/data/mnist_png/training'),Path('/root/.fastai/data/mnist_png/testing')]"
      ]
     },
     "execution_count": 35,
     "metadata": {},
     "output_type": "execute_result"
    }
   ],
   "source": [
    "path.ls()"
   ]
  },
  {
   "cell_type": "code",
   "execution_count": 40,
   "id": "82667803-8d81-4481-bd06-e3b8edde3f19",
   "metadata": {},
   "outputs": [],
   "source": [
    "dls = DataBlock(\n",
    "    (ImageBlock(cls=PILImageBW), CategoryBlock),\n",
    "    get_items=get_image_files,\n",
    "    splitter=GrandparentSplitter(),\n",
    "    get_y=parent_label).dataloaders(path)"
   ]
  },
  {
   "cell_type": "code",
   "execution_count": 41,
   "id": "a95c5a56-f5c3-445b-8454-1c540604b5c6",
   "metadata": {},
   "outputs": [],
   "source": [
    "x, y = dls.one_batch()"
   ]
  },
  {
   "cell_type": "code",
   "execution_count": 42,
   "id": "948e63f6-d0fe-4588-bb8e-43727028c02d",
   "metadata": {},
   "outputs": [
    {
     "data": {
      "text/plain": [
       "(torch.Size([64, 1, 28, 28]), torch.Size([64]))"
      ]
     },
     "execution_count": 42,
     "metadata": {},
     "output_type": "execute_result"
    }
   ],
   "source": [
    "x.shape, y.shape"
   ]
  },
  {
   "cell_type": "code",
   "execution_count": 76,
   "id": "c1a34ce5-ff75-4cd3-b3b8-b70522feb7e4",
   "metadata": {},
   "outputs": [],
   "source": [
    "sample_edge = sample_edge.unsqueeze(0).unsqueeze(0)"
   ]
  },
  {
   "cell_type": "code",
   "execution_count": 77,
   "id": "d32dfcac-65cd-4b0b-a82b-feb47369577b",
   "metadata": {},
   "outputs": [],
   "source": [
    "sample_edge = sample_edge.float()"
   ]
  },
  {
   "cell_type": "code",
   "execution_count": 81,
   "id": "0dcf1bf3-68ae-4768-a0d3-424a8f26a5f2",
   "metadata": {},
   "outputs": [],
   "source": [
    "batch_features = F.conv2d(to_cpu(x),sample_edge)"
   ]
  },
  {
   "cell_type": "code",
   "execution_count": 84,
   "id": "c80fd358-ff63-4472-977a-8ccf4f78b9cd",
   "metadata": {},
   "outputs": [
    {
     "data": {
      "text/plain": [
       "<AxesSubplot:>"
      ]
     },
     "execution_count": 84,
     "metadata": {},
     "output_type": "execute_result"
    },
    {
     "data": {
      "image/png": "[encoded data removed]",
      "text/plain": [
       "<Figure size 72x72 with 1 Axes>"
      ]
     },
     "metadata": {
      "needs_background": "light"
     },
     "output_type": "display_data"
    }
   ],
   "source": [
    "show_image(batch_features[0])"
   ]
  },
  {
   "cell_type": "code",
   "execution_count": 87,
   "id": "cc95bef6-e6a8-4eb9-a23c-f84c6e5e6fb0",
   "metadata": {},
   "outputs": [],
   "source": [
    "def conv(ni, nf, ks=3, act=True):\n",
    "    res = nn.Conv2d(ni, nf, stride=2, kernel_size=ks, padding=ks//2)\n",
    "    if act: res = nn.Sequential(res, nn.ReLU())\n",
    "    return res"
   ]
  },
  {
   "cell_type": "code",
   "execution_count": 88,
   "id": "ffb3fb38-269d-4d38-84f2-b38be347e5e7",
   "metadata": {},
   "outputs": [],
   "source": [
    "simple_cnn = nn.Sequential(\n",
    "    conv(1,4),\n",
    "    conv(4,8),\n",
    "    conv(8,16),\n",
    "    conv(16,32),\n",
    "    conv(32,2,act=False),\n",
    "    Flatten())"
   ]
  },
  {
   "cell_type": "code",
   "execution_count": 120,
   "id": "172bfe58-5d36-4459-a109-a153c3421ff2",
   "metadata": {},
   "outputs": [
    {
     "data": {
      "text/plain": [
       "torch.Size([64, 2])"
      ]
     },
     "execution_count": 120,
     "metadata": {},
     "output_type": "execute_result"
    }
   ],
   "source": [
    "simple_cnn(x).shape"
   ]
  },
  {
   "cell_type": "code",
   "execution_count": 95,
   "id": "814c3d56-6464-49ee-95d5-caa80b05661a",
   "metadata": {},
   "outputs": [],
   "source": [
    "learn = Learner(dls, simple_cnn, loss_func=nn.CrossEntropyLoss(), metrics=accuracy)"
   ]
  },
  {
   "cell_type": "code",
   "execution_count": 96,
   "id": "b0457ced-47be-496f-ab57-e6afea2e19d2",
   "metadata": {},
   "outputs": [
    {
     "data": {
      "text/html": [
       "\n",
       "<style>\n",
       "    /* Turns off some styling */\n",
       "    progress {\n",
       "        /* gets rid of default border in Firefox and Opera. */\n",
       "        border: none;\n",
       "        /* Needs to be in here for Safari polyfill so background images work as expected. */\n",
       "        background-size: auto;\n",
       "    }\n",
       "    .progress-bar-interrupted, .progress-bar-interrupted::-webkit-progress-bar {\n",
       "        background: #F44336;\n",
       "    }\n",
       "</style>\n"
      ],
      "text/plain": [
       "<IPython.core.display.HTML object>"
      ]
     },
     "metadata": {},
     "output_type": "display_data"
    },
    {
     "data": {
      "text/html": [],
      "text/plain": [
       "<IPython.core.display.HTML object>"
      ]
     },
     "metadata": {},
     "output_type": "display_data"
    },
    {
     "data": {
      "text/plain": [
       "Sequential (Input shape: 64 x 1 x 28 x 28)\n",
       "============================================================================\n",
       "Layer (type)         Output Shape         Param #    Trainable \n",
       "============================================================================\n",
       "                     64 x 4 x 14 x 14    \n",
       "Conv2d                                    40         True      \n",
       "ReLU                                                           \n",
       "____________________________________________________________________________\n",
       "                     64 x 8 x 7 x 7      \n",
       "Conv2d                                    296        True      \n",
       "ReLU                                                           \n",
       "____________________________________________________________________________\n",
       "                     64 x 16 x 4 x 4     \n",
       "Conv2d                                    1168       True      \n",
       "ReLU                                                           \n",
       "____________________________________________________________________________\n",
       "                     64 x 32 x 2 x 2     \n",
       "Conv2d                                    4640       True      \n",
       "ReLU                                                           \n",
       "____________________________________________________________________________\n",
       "                     64 x 2 x 1 x 1      \n",
       "Conv2d                                    578        True      \n",
       "____________________________________________________________________________\n",
       "                     64 x 2              \n",
       "Flatten                                                        \n",
       "____________________________________________________________________________\n",
       "\n",
       "Total params: 6,722\n",
       "Total trainable params: 6,722\n",
       "Total non-trainable params: 0\n",
       "\n",
       "Optimizer used: <function Adam at 0x7f8dec8d9940>\n",
       "Loss function: CrossEntropyLoss()\n",
       "\n",
       "Callbacks:\n",
       "  - TrainEvalCallback\n",
       "  - CastToTensor\n",
       "  - Recorder\n",
       "  - ProgressCallback"
      ]
     },
     "execution_count": 96,
     "metadata": {},
     "output_type": "execute_result"
    }
   ],
   "source": [
    "learn.summary()"
   ]
  },
  {
   "cell_type": "code",
   "execution_count": 97,
   "id": "89b7fa0a-9289-4039-af93-1396de243534",
   "metadata": {},
   "outputs": [
    {
     "data": {
      "text/html": [
       "\n",
       "<style>\n",
       "    /* Turns off some styling */\n",
       "    progress {\n",
       "        /* gets rid of default border in Firefox and Opera. */\n",
       "        border: none;\n",
       "        /* Needs to be in here for Safari polyfill so background images work as expected. */\n",
       "        background-size: auto;\n",
       "    }\n",
       "    .progress-bar-interrupted, .progress-bar-interrupted::-webkit-progress-bar {\n",
       "        background: #F44336;\n",
       "    }\n",
       "</style>\n"
      ],
      "text/plain": [
       "<IPython.core.display.HTML object>"
      ]
     },
     "metadata": {},
     "output_type": "display_data"
    },
    {
     "data": {
      "text/html": [],
      "text/plain": [
       "<IPython.core.display.HTML object>"
      ]
     },
     "metadata": {},
     "output_type": "display_data"
    },
    {
     "data": {
      "text/plain": [
       "SuggestedLRs(valley=0.010964781977236271)"
      ]
     },
     "execution_count": 97,
     "metadata": {},
     "output_type": "execute_result"
    },
    {
     "data": {
      "image/png": "[encoded data removed]",
      "text/plain": [
       "<Figure size 432x288 with 1 Axes>"
      ]
     },
     "metadata": {
      "needs_background": "light"
     },
     "output_type": "display_data"
    }
   ],
   "source": [
    "learn.lr_find()"
   ]
  },
  {
   "cell_type": "code",
   "execution_count": 98,
   "id": "c055bd26-925f-4fcb-8f2e-82ca42d9b4a2",
   "metadata": {},
   "outputs": [
    {
     "data": {
      "text/html": [
       "\n",
       "<style>\n",
       "    /* Turns off some styling */\n",
       "    progress {\n",
       "        /* gets rid of default border in Firefox and Opera. */\n",
       "        border: none;\n",
       "        /* Needs to be in here for Safari polyfill so background images work as expected. */\n",
       "        background-size: auto;\n",
       "    }\n",
       "    .progress-bar-interrupted, .progress-bar-interrupted::-webkit-progress-bar {\n",
       "        background: #F44336;\n",
       "    }\n",
       "</style>\n"
      ],
      "text/plain": [
       "<IPython.core.display.HTML object>"
      ]
     },
     "metadata": {},
     "output_type": "display_data"
    },
    {
     "data": {
      "text/html": [
       "<table border=\"1\" class=\"dataframe\">\n",
       "  <thead>\n",
       "    <tr style=\"text-align: left;\">\n",
       "      <th>epoch</th>\n",
       "      <th>train_loss</th>\n",
       "      <th>valid_loss</th>\n",
       "      <th>accuracy</th>\n",
       "      <th>time</th>\n",
       "    </tr>\n",
       "  </thead>\n",
       "  <tbody>\n",
       "    <tr>\n",
       "      <td>0</td>\n",
       "      <td>0.088996</td>\n",
       "      <td>0.043669</td>\n",
       "      <td>0.986261</td>\n",
       "      <td>00:05</td>\n",
       "    </tr>\n",
       "    <tr>\n",
       "      <td>1</td>\n",
       "      <td>0.021198</td>\n",
       "      <td>0.019554</td>\n",
       "      <td>0.993621</td>\n",
       "      <td>00:04</td>\n",
       "    </tr>\n",
       "    <tr>\n",
       "      <td>2</td>\n",
       "      <td>0.011176</td>\n",
       "      <td>0.014373</td>\n",
       "      <td>0.993621</td>\n",
       "      <td>00:04</td>\n",
       "    </tr>\n",
       "  </tbody>\n",
       "</table>"
      ],
      "text/plain": [
       "<IPython.core.display.HTML object>"
      ]
     },
     "metadata": {},
     "output_type": "display_data"
    }
   ],
   "source": [
    "learn.fit_one_cycle(3,0.01)"
   ]
  },
  {
   "cell_type": "code",
   "execution_count": 104,
   "id": "4b55452a-fea6-403d-a7b2-61c3696c3342",
   "metadata": {},
   "outputs": [
    {
     "data": {
      "text/plain": [
       "(Conv2d(1, 4, kernel_size=(3, 3), stride=(2, 2), padding=(1, 1)),\n",
       " Parameter containing:\n",
       " tensor([[[[ 0.1733, -0.3433,  0.0261],\n",
       "           [-0.3171, -0.2345, -0.2754],\n",
       "           [-0.2389, -0.2379,  0.0075]]],\n",
       " \n",
       " \n",
       "         [[[-0.0266,  0.0156, -0.3424],\n",
       "           [-0.0460, -0.2192, -0.2735],\n",
       "           [ 0.0182,  0.4928,  0.1289]]],\n",
       " \n",
       " \n",
       "         [[[-0.0053, -0.0257, -0.0504],\n",
       "           [ 0.0861, -0.1159, -0.2073],\n",
       "           [-0.2751,  0.0151,  0.0757]]],\n",
       " \n",
       " \n",
       "         [[[ 0.2150, -0.3034, -0.1920],\n",
       "           [ 0.1762,  0.4773, -0.1147],\n",
       "           [ 0.2150,  0.4258,  0.1540]]]], device='cuda:0', requires_grad=True),\n",
       " Parameter containing:\n",
       " tensor([ 0.3933,  0.0241, -0.2851,  0.0212], device='cuda:0',\n",
       "        requires_grad=True))"
      ]
     },
     "execution_count": 104,
     "metadata": {},
     "output_type": "execute_result"
    }
   ],
   "source": [
    "learn.model[0][0], learn.model[0][0].weight, learn.model[0][0].bias"
   ]
  },
  {
   "cell_type": "code",
   "execution_count": 109,
   "id": "bffa9bb5-7822-462c-955d-4391d399e33b",
   "metadata": {},
   "outputs": [],
   "source": [
    "path = untar_data(URLs.MNIST)\n",
    "Path.BASE_PATH = path"
   ]
  },
  {
   "cell_type": "code",
   "execution_count": 111,
   "id": "5ec20466-ff36-481b-86f7-ea2bc356e9ef",
   "metadata": {},
   "outputs": [
    {
     "data": {
      "text/plain": [
       "((#2) [Path('training'),Path('testing')],\n",
       " (#10) [Path('training/8'),Path('training/3'),Path('training/9'),Path('training/2'),Path('training/4'),Path('training/1'),Path('training/0'),Path('training/5'),Path('training/7'),Path('training/6')])"
      ]
     },
     "execution_count": 111,
     "metadata": {},
     "output_type": "execute_result"
    }
   ],
   "source": [
    "path.ls(), (path/'training').ls()"
   ]
  },
  {
   "cell_type": "code",
   "execution_count": 123,
   "id": "88541eec-0582-47bf-9365-df3454265d85",
   "metadata": {},
   "outputs": [],
   "source": [
    "def get_dls(bs=64):\n",
    "    dls = DataBlock(\n",
    "        blocks=(ImageBlock(cls=PILImageBW), CategoryBlock),\n",
    "        get_items=get_image_files,\n",
    "        splitter=GrandparentSplitter('training', 'testing'),\n",
    "        get_y=parent_label,\n",
    "        batch_tfms=Normalize()\n",
    "    ).dataloaders(path, bs=64)\n",
    "    return dls\n",
    "\n",
    "dls = get_dls()"
   ]
  },
  {
   "cell_type": "code",
   "execution_count": 116,
   "id": "6a997541-21bd-440f-be7f-b4a1728b4c67",
   "metadata": {},
   "outputs": [
    {
     "data": {
      "image/png": "[encoded data removed]",
      "text/plain": [
       "<Figure size 648x648 with 9 Axes>"
      ]
     },
     "metadata": {
      "needs_background": "light"
     },
     "output_type": "display_data"
    }
   ],
   "source": [
    "dls.show_batch()"
   ]
  },
  {
   "cell_type": "code",
   "execution_count": 127,
   "id": "2e41a12b-f921-407f-8fed-1904fe03a6ee",
   "metadata": {},
   "outputs": [],
   "source": [
    "def conv(ni, nf, ks=3, act=True):\n",
    "    res = nn.Conv2d(ni, nf, stride=2, kernel_size=ks, padding=ks//2)\n",
    "    if act: res = nn.Sequential(res, nn.ReLU())\n",
    "    return res"
   ]
  },
  {
   "cell_type": "code",
   "execution_count": 128,
   "id": "8f1c2c35-8d02-451b-9d1a-11be0c73ac24",
   "metadata": {},
   "outputs": [],
   "source": [
    "def simple_cnn():\n",
    "    return nn.Sequential(\n",
    "        conv(1,8,ks=5),\n",
    "        conv(8,16),\n",
    "        conv(16,32),\n",
    "        conv(32,64),\n",
    "        conv(64,10,act=False),\n",
    "        Flatten())"
   ]
  },
  {
   "cell_type": "code",
   "execution_count": 122,
   "id": "218130e4-f46b-4a87-93fb-75cd0e8a8db1",
   "metadata": {},
   "outputs": [],
   "source": [
    "from fastai.callback.hook import *"
   ]
  },
  {
   "cell_type": "code",
   "execution_count": 130,
   "id": "0a87c607-10a8-455a-a403-ca3a38fa9891",
   "metadata": {},
   "outputs": [
    {
     "data": {
      "text/html": [
       "\n",
       "<style>\n",
       "    /* Turns off some styling */\n",
       "    progress {\n",
       "        /* gets rid of default border in Firefox and Opera. */\n",
       "        border: none;\n",
       "        /* Needs to be in here for Safari polyfill so background images work as expected. */\n",
       "        background-size: auto;\n",
       "    }\n",
       "    .progress-bar-interrupted, .progress-bar-interrupted::-webkit-progress-bar {\n",
       "        background: #F44336;\n",
       "    }\n",
       "</style>\n"
      ],
      "text/plain": [
       "<IPython.core.display.HTML object>"
      ]
     },
     "metadata": {},
     "output_type": "display_data"
    },
    {
     "data": {
      "text/html": [
       "<table border=\"1\" class=\"dataframe\">\n",
       "  <thead>\n",
       "    <tr style=\"text-align: left;\">\n",
       "      <th>epoch</th>\n",
       "      <th>train_loss</th>\n",
       "      <th>valid_loss</th>\n",
       "      <th>accuracy</th>\n",
       "      <th>time</th>\n",
       "    </tr>\n",
       "  </thead>\n",
       "  <tbody>\n",
       "    <tr>\n",
       "      <td>0</td>\n",
       "      <td>0.173593</td>\n",
       "      <td>0.149614</td>\n",
       "      <td>0.953100</td>\n",
       "      <td>01:12</td>\n",
       "    </tr>\n",
       "  </tbody>\n",
       "</table>"
      ],
      "text/plain": [
       "<IPython.core.display.HTML object>"
      ]
     },
     "metadata": {},
     "output_type": "display_data"
    }
   ],
   "source": [
    "dls = get_dls(512)\n",
    "\n",
    "learn = Learner(dls, simple_cnn(), loss_func=F.cross_entropy, metrics=accuracy, cbs=ActivationStats(with_hist=True))\n",
    "learn.fit_one_cycle(1, 0.06)"
   ]
  },
  {
   "cell_type": "code",
   "execution_count": 131,
   "id": "ff9b1a4f-6d91-4099-a301-cb45e14714cf",
   "metadata": {},
   "outputs": [
    {
     "data": {
      "image/png": "[encoded data removed]",
      "text/plain": [
       "<Figure size 864x216 with 3 Axes>"
      ]
     },
     "metadata": {
      "needs_background": "light"
     },
     "output_type": "display_data"
    }
   ],
   "source": [
    "learn.activation_stats.plot_layer_stats(-2)"
   ]
  },
  {
   "cell_type": "code",
   "execution_count": 134,
   "id": "39aa9c1a-6ea4-4028-bcd2-b81a89318ff2",
   "metadata": {},
   "outputs": [],
   "source": [
    "def conv(ni, nf, ks=3,act=True):\n",
    "    layers = [nn.Conv2d(ni, nf, stride=2, kernel_size=ks, padding=ks//2)]\n",
    "    if act: layers.append(nn.ReLU())\n",
    "    layers.append(nn.BatchNorm2d(nf))\n",
    "    return nn.Sequential(*layers)"
   ]
  },
  {
   "cell_type": "code",
   "execution_count": 135,
   "id": "d6c1d82d-f581-4d28-9911-2bdeea8bfdd4",
   "metadata": {},
   "outputs": [
    {
     "data": {
      "text/html": [
       "\n",
       "<style>\n",
       "    /* Turns off some styling */\n",
       "    progress {\n",
       "        /* gets rid of default border in Firefox and Opera. */\n",
       "        border: none;\n",
       "        /* Needs to be in here for Safari polyfill so background images work as expected. */\n",
       "        background-size: auto;\n",
       "    }\n",
       "    .progress-bar-interrupted, .progress-bar-interrupted::-webkit-progress-bar {\n",
       "        background: #F44336;\n",
       "    }\n",
       "</style>\n"
      ],
      "text/plain": [
       "<IPython.core.display.HTML object>"
      ]
     },
     "metadata": {},
     "output_type": "display_data"
    },
    {
     "data": {
      "text/html": [
       "<table border=\"1\" class=\"dataframe\">\n",
       "  <thead>\n",
       "    <tr style=\"text-align: left;\">\n",
       "      <th>epoch</th>\n",
       "      <th>train_loss</th>\n",
       "      <th>valid_loss</th>\n",
       "      <th>accuracy</th>\n",
       "      <th>time</th>\n",
       "    </tr>\n",
       "  </thead>\n",
       "  <tbody>\n",
       "    <tr>\n",
       "      <td>0</td>\n",
       "      <td>0.064323</td>\n",
       "      <td>0.038872</td>\n",
       "      <td>0.988200</td>\n",
       "      <td>01:12</td>\n",
       "    </tr>\n",
       "  </tbody>\n",
       "</table>"
      ],
      "text/plain": [
       "<IPython.core.display.HTML object>"
      ]
     },
     "metadata": {},
     "output_type": "display_data"
    }
   ],
   "source": [
    "learn = Learner(dls, simple_cnn(), loss_func=F.cross_entropy, metrics=accuracy, cbs=ActivationStats(with_hist=True))\n",
    "learn.fit_one_cycle(1, 0.06)"
   ]
  },
  {
   "cell_type": "markdown",
   "id": "c07ecd37-5503-4807-a915-812ac1c06d59",
   "metadata": {},
   "source": [
    "Need more sophistication: Batch Normalization and colordim"
   ]
  },
  {
   "cell_type": "markdown",
   "id": "395fb786-a686-4368-9818-0db63bbf665b",
   "metadata": {},
   "source": [
    "## Part 2"
   ]
  },
  {
   "cell_type": "code",
   "execution_count": 136,
   "id": "14ad58a8-d622-4e7a-9e0b-60bb7bfe7b08",
   "metadata": {},
   "outputs": [
    {
     "data": {
      "text/html": [
       "\n",
       "<style>\n",
       "    /* Turns off some styling */\n",
       "    progress {\n",
       "        /* gets rid of default border in Firefox and Opera. */\n",
       "        border: none;\n",
       "        /* Needs to be in here for Safari polyfill so background images work as expected. */\n",
       "        background-size: auto;\n",
       "    }\n",
       "    .progress-bar-interrupted, .progress-bar-interrupted::-webkit-progress-bar {\n",
       "        background: #F44336;\n",
       "    }\n",
       "</style>\n"
      ],
      "text/plain": [
       "<IPython.core.display.HTML object>"
      ]
     },
     "metadata": {},
     "output_type": "display_data"
    },
    {
     "data": {
      "text/html": [
       "\n",
       "    <div>\n",
       "      <progress value='99008512' class='' max='99003388' style='width:300px; height:20px; vertical-align: middle;'></progress>\n",
       "      100.01% [99008512/99003388 00:02<00:00]\n",
       "    </div>\n",
       "    "
      ],
      "text/plain": [
       "<IPython.core.display.HTML object>"
      ]
     },
     "metadata": {},
     "output_type": "display_data"
    },
    {
     "data": {
      "text/plain": [
       "(#4) [Path('/root/.fastai/data/imagenette2-160/train'),Path('/root/.fastai/data/imagenette2-160/val'),Path('/root/.fastai/data/imagenette2-160/.DS_Store'),Path('/root/.fastai/data/imagenette2-160/noisy_imagenette.csv')]"
      ]
     },
     "execution_count": 136,
     "metadata": {},
     "output_type": "execute_result"
    }
   ],
   "source": [
    "path = untar_data(URLs.IMAGENETTE_160)"
   ]
  },
  {
   "cell_type": "code",
   "execution_count": 138,
   "id": "ea2bfe59-6bc7-42a8-b24b-57755b9e645c",
   "metadata": {},
   "outputs": [],
   "source": [
    "Path.BASE_PATH = path"
   ]
  },
  {
   "cell_type": "code",
   "execution_count": 139,
   "id": "a4e406ab-320c-404f-9548-cb3eb1aaa741",
   "metadata": {},
   "outputs": [
    {
     "data": {
      "text/plain": [
       "(#4) [Path('train'),Path('val'),Path('.DS_Store'),Path('noisy_imagenette.csv')]"
      ]
     },
     "execution_count": 139,
     "metadata": {},
     "output_type": "execute_result"
    }
   ],
   "source": [
    "path.ls()"
   ]
  },
  {
   "cell_type": "code",
   "execution_count": 141,
   "id": "a14d50f8-a1c2-4322-9abf-7120c81778d6",
   "metadata": {},
   "outputs": [],
   "source": [
    "def create_dl(path, i_size, b_size):\n",
    "    dls = DataBlock(\n",
    "        blocks=(ImageBlock, CategoryBlock),\n",
    "        get_items=get_image_files,\n",
    "        splitter=GrandparentSplitter('train', 'val'),\n",
    "        get_y=parent_label, \n",
    "        item_tfms=Resize(i_size),\n",
    "        batch_tfms=[*aug_transforms(min_scale=0.5, size=b_size),\n",
    "                    Normalize.from_stats(*imagenet_stats)],\n",
    "    ).dataloaders(path, bs=128)\n",
    "    return dls"
   ]
  },
  {
   "cell_type": "code",
   "execution_count": 142,
   "id": "018bd99e-7af6-4f71-9b06-ea6d75fedaab",
   "metadata": {},
   "outputs": [],
   "source": [
    "dls = create_dl(path, 160, 128)"
   ]
  },
  {
   "cell_type": "code",
   "execution_count": 144,
   "id": "e7752402-dc97-43ba-afe5-35b69c05ee10",
   "metadata": {},
   "outputs": [
    {
     "data": {
      "image/png": "[encoded data removed]",
      "text/plain": [
       "<Figure size 432x216 with 2 Axes>"
      ]
     },
     "metadata": {
      "needs_background": "light"
     },
     "output_type": "display_data"
    }
   ],
   "source": [
    "dls.show_batch(max_n=2)"
   ]
  },
  {
   "cell_type": "code",
   "execution_count": 145,
   "id": "57180e77-bac5-4855-ab3a-1f5409aa97b2",
   "metadata": {},
   "outputs": [],
   "source": [
    "def avg_pool(x):\n",
    "    return x.mean((-1,-2))"
   ]
  },
  {
   "cell_type": "code",
   "execution_count": 150,
   "id": "10f652ce-633c-4911-a86b-4ce45927286d",
   "metadata": {},
   "outputs": [],
   "source": [
    "def conv(ni, nf):\n",
    "    return ConvLayer(ni, nf, stride=2)\n",
    "\n",
    "def get_model():\n",
    "    return nn.Sequential(\n",
    "        conv(3, 4),\n",
    "        conv(4, 8),\n",
    "        conv(8, 16),\n",
    "        conv(16, 32),\n",
    "        conv(32, 64),\n",
    "        nn.AdaptiveAvgPool2d(1),\n",
    "        Flatten(),\n",
    "        nn.Linear(64, dls.c))\n",
    "        \n",
    "# dls.c=len(dls.vocab)"
   ]
  },
  {
   "cell_type": "code",
   "execution_count": 151,
   "id": "88f82a99-fcda-4f6d-9c2b-caa905cc63bb",
   "metadata": {},
   "outputs": [],
   "source": [
    "def get_learner(m):\n",
    "    return Learner(dls, m, loss_func=nn.CrossEntropyLoss(), metrics=accuracy).to_fp16()"
   ]
  },
  {
   "cell_type": "code",
   "execution_count": 152,
   "id": "46a0a08e-da42-4cec-8238-6d0050b03efe",
   "metadata": {},
   "outputs": [
    {
     "data": {
      "text/html": [
       "\n",
       "<style>\n",
       "    /* Turns off some styling */\n",
       "    progress {\n",
       "        /* gets rid of default border in Firefox and Opera. */\n",
       "        border: none;\n",
       "        /* Needs to be in here for Safari polyfill so background images work as expected. */\n",
       "        background-size: auto;\n",
       "    }\n",
       "    .progress-bar-interrupted, .progress-bar-interrupted::-webkit-progress-bar {\n",
       "        background: #F44336;\n",
       "    }\n",
       "</style>\n"
      ],
      "text/plain": [
       "<IPython.core.display.HTML object>"
      ]
     },
     "metadata": {},
     "output_type": "display_data"
    },
    {
     "data": {
      "text/html": [
       "<table border=\"1\" class=\"dataframe\">\n",
       "  <thead>\n",
       "    <tr style=\"text-align: left;\">\n",
       "      <th>epoch</th>\n",
       "      <th>train_loss</th>\n",
       "      <th>valid_loss</th>\n",
       "      <th>accuracy</th>\n",
       "      <th>time</th>\n",
       "    </tr>\n",
       "  </thead>\n",
       "  <tbody>\n",
       "    <tr>\n",
       "      <td>0</td>\n",
       "      <td>2.163638</td>\n",
       "      <td>2.061005</td>\n",
       "      <td>0.253758</td>\n",
       "      <td>00:10</td>\n",
       "    </tr>\n",
       "    <tr>\n",
       "      <td>1</td>\n",
       "      <td>1.861766</td>\n",
       "      <td>1.741528</td>\n",
       "      <td>0.410191</td>\n",
       "      <td>00:10</td>\n",
       "    </tr>\n",
       "    <tr>\n",
       "      <td>2</td>\n",
       "      <td>1.625044</td>\n",
       "      <td>1.557409</td>\n",
       "      <td>0.477962</td>\n",
       "      <td>00:10</td>\n",
       "    </tr>\n",
       "    <tr>\n",
       "      <td>3</td>\n",
       "      <td>1.494750</td>\n",
       "      <td>1.427971</td>\n",
       "      <td>0.529427</td>\n",
       "      <td>00:10</td>\n",
       "    </tr>\n",
       "    <tr>\n",
       "      <td>4</td>\n",
       "      <td>1.437308</td>\n",
       "      <td>1.420987</td>\n",
       "      <td>0.534522</td>\n",
       "      <td>00:10</td>\n",
       "    </tr>\n",
       "  </tbody>\n",
       "</table>"
      ],
      "text/plain": [
       "<IPython.core.display.HTML object>"
      ]
     },
     "metadata": {},
     "output_type": "display_data"
    }
   ],
   "source": [
    "learn = get_learner(get_model())\n",
    "learn.fit_one_cycle(5, 3e-3)"
   ]
  },
  {
   "cell_type": "code",
   "execution_count": 158,
   "id": "e2549614-06bb-4986-8f35-5e792889bdd0",
   "metadata": {},
   "outputs": [
    {
     "data": {
      "text/plain": [
       "\u001b[0;31mInit signature:\u001b[0m\n",
       "\u001b[0mConvLayer\u001b[0m\u001b[0;34m(\u001b[0m\u001b[0;34m\u001b[0m\n",
       "\u001b[0;34m\u001b[0m    \u001b[0mni\u001b[0m\u001b[0;34m,\u001b[0m\u001b[0;34m\u001b[0m\n",
       "\u001b[0;34m\u001b[0m    \u001b[0mnf\u001b[0m\u001b[0;34m,\u001b[0m\u001b[0;34m\u001b[0m\n",
       "\u001b[0;34m\u001b[0m    \u001b[0mks\u001b[0m\u001b[0;34m=\u001b[0m\u001b[0;36m3\u001b[0m\u001b[0;34m,\u001b[0m\u001b[0;34m\u001b[0m\n",
       "\u001b[0;34m\u001b[0m    \u001b[0mstride\u001b[0m\u001b[0;34m=\u001b[0m\u001b[0;36m1\u001b[0m\u001b[0;34m,\u001b[0m\u001b[0;34m\u001b[0m\n",
       "\u001b[0;34m\u001b[0m    \u001b[0mpadding\u001b[0m\u001b[0;34m=\u001b[0m\u001b[0;32mNone\u001b[0m\u001b[0;34m,\u001b[0m\u001b[0;34m\u001b[0m\n",
       "\u001b[0;34m\u001b[0m    \u001b[0mbias\u001b[0m\u001b[0;34m=\u001b[0m\u001b[0;32mNone\u001b[0m\u001b[0;34m,\u001b[0m\u001b[0;34m\u001b[0m\n",
       "\u001b[0;34m\u001b[0m    \u001b[0mndim\u001b[0m\u001b[0;34m=\u001b[0m\u001b[0;36m2\u001b[0m\u001b[0;34m,\u001b[0m\u001b[0;34m\u001b[0m\n",
       "\u001b[0;34m\u001b[0m    \u001b[0mnorm_type\u001b[0m\u001b[0;34m=\u001b[0m\u001b[0;34m<\u001b[0m\u001b[0mNormType\u001b[0m\u001b[0;34m.\u001b[0m\u001b[0mBatch\u001b[0m\u001b[0;34m:\u001b[0m \u001b[0;36m1\u001b[0m\u001b[0;34m>\u001b[0m\u001b[0;34m,\u001b[0m\u001b[0;34m\u001b[0m\n",
       "\u001b[0;34m\u001b[0m    \u001b[0mbn_1st\u001b[0m\u001b[0;34m=\u001b[0m\u001b[0;32mTrue\u001b[0m\u001b[0;34m,\u001b[0m\u001b[0;34m\u001b[0m\n",
       "\u001b[0;34m\u001b[0m    \u001b[0mact_cls\u001b[0m\u001b[0;34m=\u001b[0m\u001b[0;34m<\u001b[0m\u001b[0;32mclass\u001b[0m \u001b[0;34m'torch.nn.modules.activation.ReLU'\u001b[0m\u001b[0;34m>\u001b[0m\u001b[0;34m,\u001b[0m\u001b[0;34m\u001b[0m\n",
       "\u001b[0;34m\u001b[0m    \u001b[0mtranspose\u001b[0m\u001b[0;34m=\u001b[0m\u001b[0;32mFalse\u001b[0m\u001b[0;34m,\u001b[0m\u001b[0;34m\u001b[0m\n",
       "\u001b[0;34m\u001b[0m    \u001b[0minit\u001b[0m\u001b[0;34m=\u001b[0m\u001b[0;34m'auto'\u001b[0m\u001b[0;34m,\u001b[0m\u001b[0;34m\u001b[0m\n",
       "\u001b[0;34m\u001b[0m    \u001b[0mxtra\u001b[0m\u001b[0;34m=\u001b[0m\u001b[0;32mNone\u001b[0m\u001b[0;34m,\u001b[0m\u001b[0;34m\u001b[0m\n",
       "\u001b[0;34m\u001b[0m    \u001b[0mbias_std\u001b[0m\u001b[0;34m=\u001b[0m\u001b[0;36m0.01\u001b[0m\u001b[0;34m,\u001b[0m\u001b[0;34m\u001b[0m\n",
       "\u001b[0;34m\u001b[0m    \u001b[0mdilation\u001b[0m\u001b[0;34m:\u001b[0m \u001b[0mUnion\u001b[0m\u001b[0;34m[\u001b[0m\u001b[0mint\u001b[0m\u001b[0;34m,\u001b[0m \u001b[0mTuple\u001b[0m\u001b[0;34m[\u001b[0m\u001b[0mint\u001b[0m\u001b[0;34m,\u001b[0m \u001b[0mint\u001b[0m\u001b[0;34m]\u001b[0m\u001b[0;34m]\u001b[0m \u001b[0;34m=\u001b[0m \u001b[0;36m1\u001b[0m\u001b[0;34m,\u001b[0m\u001b[0;34m\u001b[0m\n",
       "\u001b[0;34m\u001b[0m    \u001b[0mgroups\u001b[0m\u001b[0;34m:\u001b[0m \u001b[0mint\u001b[0m \u001b[0;34m=\u001b[0m \u001b[0;36m1\u001b[0m\u001b[0;34m,\u001b[0m\u001b[0;34m\u001b[0m\n",
       "\u001b[0;34m\u001b[0m    \u001b[0mpadding_mode\u001b[0m\u001b[0;34m:\u001b[0m \u001b[0mstr\u001b[0m \u001b[0;34m=\u001b[0m \u001b[0;34m'zeros'\u001b[0m\u001b[0;34m,\u001b[0m\u001b[0;34m\u001b[0m\n",
       "\u001b[0;34m\u001b[0m    \u001b[0mdevice\u001b[0m\u001b[0;34m=\u001b[0m\u001b[0;32mNone\u001b[0m\u001b[0;34m,\u001b[0m\u001b[0;34m\u001b[0m\n",
       "\u001b[0;34m\u001b[0m    \u001b[0mdtype\u001b[0m\u001b[0;34m=\u001b[0m\u001b[0;32mNone\u001b[0m\u001b[0;34m,\u001b[0m\u001b[0;34m\u001b[0m\n",
       "\u001b[0;34m\u001b[0m\u001b[0;34m)\u001b[0m\u001b[0;34m\u001b[0m\u001b[0;34m\u001b[0m\u001b[0m\n",
       "\u001b[0;31mSource:\u001b[0m        \n",
       "\u001b[0;32mclass\u001b[0m \u001b[0mConvLayer\u001b[0m\u001b[0;34m(\u001b[0m\u001b[0mnn\u001b[0m\u001b[0;34m.\u001b[0m\u001b[0mSequential\u001b[0m\u001b[0;34m)\u001b[0m\u001b[0;34m:\u001b[0m\u001b[0;34m\u001b[0m\n",
       "\u001b[0;34m\u001b[0m    \u001b[0;34m\"Create a sequence of convolutional (`ni` to `nf`), ReLU (if `use_activ`) and `norm_type` layers.\"\u001b[0m\u001b[0;34m\u001b[0m\n",
       "\u001b[0;34m\u001b[0m    \u001b[0;34m@\u001b[0m\u001b[0mdelegates\u001b[0m\u001b[0;34m(\u001b[0m\u001b[0mnn\u001b[0m\u001b[0;34m.\u001b[0m\u001b[0mConv2d\u001b[0m\u001b[0;34m)\u001b[0m\u001b[0;34m\u001b[0m\n",
       "\u001b[0;34m\u001b[0m    \u001b[0;32mdef\u001b[0m \u001b[0m__init__\u001b[0m\u001b[0;34m(\u001b[0m\u001b[0mself\u001b[0m\u001b[0;34m,\u001b[0m \u001b[0mni\u001b[0m\u001b[0;34m,\u001b[0m \u001b[0mnf\u001b[0m\u001b[0;34m,\u001b[0m \u001b[0mks\u001b[0m\u001b[0;34m=\u001b[0m\u001b[0;36m3\u001b[0m\u001b[0;34m,\u001b[0m \u001b[0mstride\u001b[0m\u001b[0;34m=\u001b[0m\u001b[0;36m1\u001b[0m\u001b[0;34m,\u001b[0m \u001b[0mpadding\u001b[0m\u001b[0;34m=\u001b[0m\u001b[0;32mNone\u001b[0m\u001b[0;34m,\u001b[0m \u001b[0mbias\u001b[0m\u001b[0;34m=\u001b[0m\u001b[0;32mNone\u001b[0m\u001b[0;34m,\u001b[0m \u001b[0mndim\u001b[0m\u001b[0;34m=\u001b[0m\u001b[0;36m2\u001b[0m\u001b[0;34m,\u001b[0m \u001b[0mnorm_type\u001b[0m\u001b[0;34m=\u001b[0m\u001b[0mNormType\u001b[0m\u001b[0;34m.\u001b[0m\u001b[0mBatch\u001b[0m\u001b[0;34m,\u001b[0m \u001b[0mbn_1st\u001b[0m\u001b[0;34m=\u001b[0m\u001b[0;32mTrue\u001b[0m\u001b[0;34m,\u001b[0m\u001b[0;34m\u001b[0m\n",
       "\u001b[0;34m\u001b[0m                 \u001b[0mact_cls\u001b[0m\u001b[0;34m=\u001b[0m\u001b[0mdefaults\u001b[0m\u001b[0;34m.\u001b[0m\u001b[0mactivation\u001b[0m\u001b[0;34m,\u001b[0m \u001b[0mtranspose\u001b[0m\u001b[0;34m=\u001b[0m\u001b[0;32mFalse\u001b[0m\u001b[0;34m,\u001b[0m \u001b[0minit\u001b[0m\u001b[0;34m=\u001b[0m\u001b[0;34m'auto'\u001b[0m\u001b[0;34m,\u001b[0m \u001b[0mxtra\u001b[0m\u001b[0;34m=\u001b[0m\u001b[0;32mNone\u001b[0m\u001b[0;34m,\u001b[0m \u001b[0mbias_std\u001b[0m\u001b[0;34m=\u001b[0m\u001b[0;36m0.01\u001b[0m\u001b[0;34m,\u001b[0m \u001b[0;34m**\u001b[0m\u001b[0mkwargs\u001b[0m\u001b[0;34m)\u001b[0m\u001b[0;34m:\u001b[0m\u001b[0;34m\u001b[0m\n",
       "\u001b[0;34m\u001b[0m        \u001b[0;32mif\u001b[0m \u001b[0mpadding\u001b[0m \u001b[0;32mis\u001b[0m \u001b[0;32mNone\u001b[0m\u001b[0;34m:\u001b[0m \u001b[0mpadding\u001b[0m \u001b[0;34m=\u001b[0m \u001b[0;34m(\u001b[0m\u001b[0;34m(\u001b[0m\u001b[0mks\u001b[0m\u001b[0;34m-\u001b[0m\u001b[0;36m1\u001b[0m\u001b[0;34m)\u001b[0m\u001b[0;34m//\u001b[0m\u001b[0;36m2\u001b[0m \u001b[0;32mif\u001b[0m \u001b[0;32mnot\u001b[0m \u001b[0mtranspose\u001b[0m \u001b[0;32melse\u001b[0m \u001b[0;36m0\u001b[0m\u001b[0;34m)\u001b[0m\u001b[0;34m\u001b[0m\n",
       "\u001b[0;34m\u001b[0m        \u001b[0mbn\u001b[0m \u001b[0;34m=\u001b[0m \u001b[0mnorm_type\u001b[0m \u001b[0;32min\u001b[0m \u001b[0;34m(\u001b[0m\u001b[0mNormType\u001b[0m\u001b[0;34m.\u001b[0m\u001b[0mBatch\u001b[0m\u001b[0;34m,\u001b[0m \u001b[0mNormType\u001b[0m\u001b[0;34m.\u001b[0m\u001b[0mBatchZero\u001b[0m\u001b[0;34m)\u001b[0m\u001b[0;34m\u001b[0m\n",
       "\u001b[0;34m\u001b[0m        \u001b[0minn\u001b[0m \u001b[0;34m=\u001b[0m \u001b[0mnorm_type\u001b[0m \u001b[0;32min\u001b[0m \u001b[0;34m(\u001b[0m\u001b[0mNormType\u001b[0m\u001b[0;34m.\u001b[0m\u001b[0mInstance\u001b[0m\u001b[0;34m,\u001b[0m \u001b[0mNormType\u001b[0m\u001b[0;34m.\u001b[0m\u001b[0mInstanceZero\u001b[0m\u001b[0;34m)\u001b[0m\u001b[0;34m\u001b[0m\n",
       "\u001b[0;34m\u001b[0m        \u001b[0;32mif\u001b[0m \u001b[0mbias\u001b[0m \u001b[0;32mis\u001b[0m \u001b[0;32mNone\u001b[0m\u001b[0;34m:\u001b[0m \u001b[0mbias\u001b[0m \u001b[0;34m=\u001b[0m \u001b[0;32mnot\u001b[0m \u001b[0;34m(\u001b[0m\u001b[0mbn\u001b[0m \u001b[0;32mor\u001b[0m \u001b[0minn\u001b[0m\u001b[0;34m)\u001b[0m\u001b[0;34m\u001b[0m\n",
       "\u001b[0;34m\u001b[0m        \u001b[0mconv_func\u001b[0m \u001b[0;34m=\u001b[0m \u001b[0m_conv_func\u001b[0m\u001b[0;34m(\u001b[0m\u001b[0mndim\u001b[0m\u001b[0;34m,\u001b[0m \u001b[0mtranspose\u001b[0m\u001b[0;34m=\u001b[0m\u001b[0mtranspose\u001b[0m\u001b[0;34m)\u001b[0m\u001b[0;34m\u001b[0m\n",
       "\u001b[0;34m\u001b[0m        \u001b[0mconv\u001b[0m \u001b[0;34m=\u001b[0m \u001b[0mconv_func\u001b[0m\u001b[0;34m(\u001b[0m\u001b[0mni\u001b[0m\u001b[0;34m,\u001b[0m \u001b[0mnf\u001b[0m\u001b[0;34m,\u001b[0m \u001b[0mkernel_size\u001b[0m\u001b[0;34m=\u001b[0m\u001b[0mks\u001b[0m\u001b[0;34m,\u001b[0m \u001b[0mbias\u001b[0m\u001b[0;34m=\u001b[0m\u001b[0mbias\u001b[0m\u001b[0;34m,\u001b[0m \u001b[0mstride\u001b[0m\u001b[0;34m=\u001b[0m\u001b[0mstride\u001b[0m\u001b[0;34m,\u001b[0m \u001b[0mpadding\u001b[0m\u001b[0;34m=\u001b[0m\u001b[0mpadding\u001b[0m\u001b[0;34m,\u001b[0m \u001b[0;34m**\u001b[0m\u001b[0mkwargs\u001b[0m\u001b[0;34m)\u001b[0m\u001b[0;34m\u001b[0m\n",
       "\u001b[0;34m\u001b[0m        \u001b[0mact\u001b[0m \u001b[0;34m=\u001b[0m \u001b[0;32mNone\u001b[0m \u001b[0;32mif\u001b[0m \u001b[0mact_cls\u001b[0m \u001b[0;32mis\u001b[0m \u001b[0;32mNone\u001b[0m \u001b[0;32melse\u001b[0m \u001b[0mact_cls\u001b[0m\u001b[0;34m(\u001b[0m\u001b[0;34m)\u001b[0m\u001b[0;34m\u001b[0m\n",
       "\u001b[0;34m\u001b[0m        \u001b[0minit_linear\u001b[0m\u001b[0;34m(\u001b[0m\u001b[0mconv\u001b[0m\u001b[0;34m,\u001b[0m \u001b[0mact\u001b[0m\u001b[0;34m,\u001b[0m \u001b[0minit\u001b[0m\u001b[0;34m=\u001b[0m\u001b[0minit\u001b[0m\u001b[0;34m,\u001b[0m \u001b[0mbias_std\u001b[0m\u001b[0;34m=\u001b[0m\u001b[0mbias_std\u001b[0m\u001b[0;34m)\u001b[0m\u001b[0;34m\u001b[0m\n",
       "\u001b[0;34m\u001b[0m        \u001b[0;32mif\u001b[0m   \u001b[0mnorm_type\u001b[0m\u001b[0;34m==\u001b[0m\u001b[0mNormType\u001b[0m\u001b[0;34m.\u001b[0m\u001b[0mWeight\u001b[0m\u001b[0;34m:\u001b[0m   \u001b[0mconv\u001b[0m \u001b[0;34m=\u001b[0m \u001b[0mweight_norm\u001b[0m\u001b[0;34m(\u001b[0m\u001b[0mconv\u001b[0m\u001b[0;34m)\u001b[0m\u001b[0;34m\u001b[0m\n",
       "\u001b[0;34m\u001b[0m        \u001b[0;32melif\u001b[0m \u001b[0mnorm_type\u001b[0m\u001b[0;34m==\u001b[0m\u001b[0mNormType\u001b[0m\u001b[0;34m.\u001b[0m\u001b[0mSpectral\u001b[0m\u001b[0;34m:\u001b[0m \u001b[0mconv\u001b[0m \u001b[0;34m=\u001b[0m \u001b[0mspectral_norm\u001b[0m\u001b[0;34m(\u001b[0m\u001b[0mconv\u001b[0m\u001b[0;34m)\u001b[0m\u001b[0;34m\u001b[0m\n",
       "\u001b[0;34m\u001b[0m        \u001b[0mlayers\u001b[0m \u001b[0;34m=\u001b[0m \u001b[0;34m[\u001b[0m\u001b[0mconv\u001b[0m\u001b[0;34m]\u001b[0m\u001b[0;34m\u001b[0m\n",
       "\u001b[0;34m\u001b[0m        \u001b[0mact_bn\u001b[0m \u001b[0;34m=\u001b[0m \u001b[0;34m[\u001b[0m\u001b[0;34m]\u001b[0m\u001b[0;34m\u001b[0m\n",
       "\u001b[0;34m\u001b[0m        \u001b[0;32mif\u001b[0m \u001b[0mact\u001b[0m \u001b[0;32mis\u001b[0m \u001b[0;32mnot\u001b[0m \u001b[0;32mNone\u001b[0m\u001b[0;34m:\u001b[0m \u001b[0mact_bn\u001b[0m\u001b[0;34m.\u001b[0m\u001b[0mappend\u001b[0m\u001b[0;34m(\u001b[0m\u001b[0mact\u001b[0m\u001b[0;34m)\u001b[0m\u001b[0;34m\u001b[0m\n",
       "\u001b[0;34m\u001b[0m        \u001b[0;32mif\u001b[0m \u001b[0mbn\u001b[0m\u001b[0;34m:\u001b[0m \u001b[0mact_bn\u001b[0m\u001b[0;34m.\u001b[0m\u001b[0mappend\u001b[0m\u001b[0;34m(\u001b[0m\u001b[0mBatchNorm\u001b[0m\u001b[0;34m(\u001b[0m\u001b[0mnf\u001b[0m\u001b[0;34m,\u001b[0m \u001b[0mnorm_type\u001b[0m\u001b[0;34m=\u001b[0m\u001b[0mnorm_type\u001b[0m\u001b[0;34m,\u001b[0m \u001b[0mndim\u001b[0m\u001b[0;34m=\u001b[0m\u001b[0mndim\u001b[0m\u001b[0;34m)\u001b[0m\u001b[0;34m)\u001b[0m\u001b[0;34m\u001b[0m\n",
       "\u001b[0;34m\u001b[0m        \u001b[0;32mif\u001b[0m \u001b[0minn\u001b[0m\u001b[0;34m:\u001b[0m \u001b[0mact_bn\u001b[0m\u001b[0;34m.\u001b[0m\u001b[0mappend\u001b[0m\u001b[0;34m(\u001b[0m\u001b[0mInstanceNorm\u001b[0m\u001b[0;34m(\u001b[0m\u001b[0mnf\u001b[0m\u001b[0;34m,\u001b[0m \u001b[0mnorm_type\u001b[0m\u001b[0;34m=\u001b[0m\u001b[0mnorm_type\u001b[0m\u001b[0;34m,\u001b[0m \u001b[0mndim\u001b[0m\u001b[0;34m=\u001b[0m\u001b[0mndim\u001b[0m\u001b[0;34m)\u001b[0m\u001b[0;34m)\u001b[0m\u001b[0;34m\u001b[0m\n",
       "\u001b[0;34m\u001b[0m        \u001b[0;32mif\u001b[0m \u001b[0mbn_1st\u001b[0m\u001b[0;34m:\u001b[0m \u001b[0mact_bn\u001b[0m\u001b[0;34m.\u001b[0m\u001b[0mreverse\u001b[0m\u001b[0;34m(\u001b[0m\u001b[0;34m)\u001b[0m\u001b[0;34m\u001b[0m\n",
       "\u001b[0;34m\u001b[0m        \u001b[0mlayers\u001b[0m \u001b[0;34m+=\u001b[0m \u001b[0mact_bn\u001b[0m\u001b[0;34m\u001b[0m\n",
       "\u001b[0;34m\u001b[0m        \u001b[0;32mif\u001b[0m \u001b[0mxtra\u001b[0m\u001b[0;34m:\u001b[0m \u001b[0mlayers\u001b[0m\u001b[0;34m.\u001b[0m\u001b[0mappend\u001b[0m\u001b[0;34m(\u001b[0m\u001b[0mxtra\u001b[0m\u001b[0;34m)\u001b[0m\u001b[0;34m\u001b[0m\n",
       "\u001b[0;34m\u001b[0m        \u001b[0msuper\u001b[0m\u001b[0;34m(\u001b[0m\u001b[0;34m)\u001b[0m\u001b[0;34m.\u001b[0m\u001b[0m__init__\u001b[0m\u001b[0;34m(\u001b[0m\u001b[0;34m*\u001b[0m\u001b[0mlayers\u001b[0m\u001b[0;34m)\u001b[0m\u001b[0;34m\u001b[0m\u001b[0;34m\u001b[0m\u001b[0m\n",
       "\u001b[0;31mFile:\u001b[0m           ~/mambaforge/lib/python3.9/site-packages/fastai/layers.py\n",
       "\u001b[0;31mType:\u001b[0m           type\n",
       "\u001b[0;31mSubclasses:\u001b[0m     \n"
      ]
     },
     "metadata": {},
     "output_type": "display_data"
    }
   ],
   "source": [
    "ConvLayer??"
   ]
  },
  {
   "cell_type": "markdown",
   "id": "20db8670-05f5-4a23-b700-1dc231c559f3",
   "metadata": {},
   "source": [
    "## Resnet"
   ]
  },
  {
   "cell_type": "code",
   "execution_count": 167,
   "id": "f8621403-cbaa-42a4-a5bd-58bc9c875e0e",
   "metadata": {},
   "outputs": [],
   "source": [
    "path = untar_data(URLs.MNIST)\n",
    "Path.BASE_PATH = path"
   ]
  },
  {
   "cell_type": "code",
   "execution_count": 168,
   "id": "f1fad6bf-1dff-41f3-9851-1a46e40e156d",
   "metadata": {},
   "outputs": [],
   "source": [
    "def get_dls(bs=64):\n",
    "    dls = DataBlock(\n",
    "        blocks=(ImageBlock(cls=PILImageBW), CategoryBlock),\n",
    "        get_items=get_image_files,\n",
    "        splitter=GrandparentSplitter('training', 'testing'),\n",
    "        get_y=parent_label,\n",
    "        batch_tfms=Normalize()\n",
    "    ).dataloaders(path, bs=64)\n",
    "    return dls\n",
    "\n",
    "dls = get_dls(512)"
   ]
  },
  {
   "cell_type": "code",
   "execution_count": 169,
   "id": "553635f6-b605-464e-93af-b86ac6dadb39",
   "metadata": {},
   "outputs": [],
   "source": [
    "x, y = dls.one_batch()"
   ]
  },
  {
   "cell_type": "code",
   "execution_count": 170,
   "id": "1b0cab2a-db1a-452c-9f41-6eb7cc208990",
   "metadata": {},
   "outputs": [
    {
     "data": {
      "text/plain": [
       "torch.Size([64, 1, 28, 28])"
      ]
     },
     "execution_count": 170,
     "metadata": {},
     "output_type": "execute_result"
    }
   ],
   "source": [
    "x.shape"
   ]
  },
  {
   "cell_type": "code",
   "execution_count": 175,
   "id": "c4e2afcc-4ca1-412d-b1ec-041a7fea7120",
   "metadata": {},
   "outputs": [],
   "source": [
    "def first_layer(*sizes):\n",
    "    l = []\n",
    "    for i in range(len(sizes)-1):\n",
    "        if i==0:\n",
    "            stride = 2\n",
    "        else:\n",
    "            stride = 1\n",
    "        l += ConvLayer(sizes[i], sizes[i+1], ks=3, stride=stride)\n",
    "    l += [nn.MaxPool2d(kernel_size=3, stride=2, padding=1)]\n",
    "    return l       "
   ]
  },
  {
   "cell_type": "code",
   "execution_count": 172,
   "id": "b1721f7b-dcbd-47b3-87c5-e20b775b4530",
   "metadata": {},
   "outputs": [],
   "source": [
    "def middle_layer(n_layers, n_in, n_out):\n",
    "    l = []\n",
    "    for i in range(n_layers):\n",
    "        if i!=0:\n",
    "            stride = 1\n",
    "            n_in = n_out\n",
    "        convs = nn.Sequential(\n",
    "            ConvLayer(n_in, n_out, stride=stride),\n",
    "            ConvLayer(n_out, n_out, act_cls=None, norm_type=NormType.BatchZero))\n",
    "        idconv = noop if n_in==n_out else ConvLayer(ni,nf, 1, act_cls=None)\n",
    "        pool = noop if stride==1 else nn.AvgPool2d(2, ceil_mode=True)\n",
    "        out = F.relu(convs + idconv(pool))\n",
    "        l.append(out)"
   ]
  },
  {
   "cell_type": "code",
   "execution_count": 173,
   "id": "27498751-cf96-49f0-91bb-bea35258ccee",
   "metadata": {},
   "outputs": [],
   "source": [
    "def last_layer(n_in, n_out):\n",
    "    l = [nn.AdaptiveAvgPool2d(1), \n",
    "        Flatten(),\n",
    "        nn.Linear(n_in, n_out)]\n",
    "    return l"
   ]
  },
  {
   "cell_type": "code",
   "execution_count": 174,
   "id": "33445406-f899-4c63-ac00-3549fe1f33c8",
   "metadata": {},
   "outputs": [],
   "source": [
    "class ResNet(nn.Sequential):\n",
    "    def __init__(self, ):\n",
    "        first = first_layer()\n",
    "        middle = middle_layer()\n",
    "        last = last_layer()\n",
    "        super().__init__(*first \n",
    "                         *middle\n",
    "                         *last)"
   ]
  },
  {
   "cell_type": "code",
   "execution_count": null,
   "id": "eef98d29-ce44-43cf-a9fa-c8f55491f212",
   "metadata": {},
   "outputs": [],
   "source": []
  }
 ],
 "metadata": {
  "kernelspec": {
   "display_name": "Python 3 (ipykernel)",
   "language": "python",
   "name": "python3"
  },
  "language_info": {
   "codemirror_mode": {
    "name": "ipython",
    "version": 3
   },
   "file_extension": ".py",
   "mimetype": "text/x-python",
   "name": "python",
   "nbconvert_exporter": "python",
   "pygments_lexer": "ipython3",
   "version": "3.9.13"
  }
 },
 "nbformat": 4,
 "nbformat_minor": 5
}
